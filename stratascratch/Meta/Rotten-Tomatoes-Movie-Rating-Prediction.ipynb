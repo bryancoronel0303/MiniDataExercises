{
 "cells": [
  {
   "cell_type": "markdown",
   "id": "dfe50fd8-52d9-4f4c-8039-dae18b062324",
   "metadata": {},
   "source": [
    "## Can we classify a movie on Rotten Tomatoes as 'Rotten', 'Fresh', or 'Certified-Fresh'? "
   ]
  },
  {
   "cell_type": "markdown",
   "id": "f241b814-a277-46da-9923-77adadd4513e",
   "metadata": {},
   "source": [
    "I would like to practice tree-based algorithms, i.e Decision Tree Classifier and Random Forest algorithm.  "
   ]
  },
  {
   "cell_type": "code",
   "execution_count": 1,
   "id": "a9707c36-926d-4f59-ab19-0f052233cf0a",
   "metadata": {},
   "outputs": [],
   "source": [
    "import pandas as pd\n",
    "import numpy as np\n",
    "import matplotlib.pyplot as plt\n",
    "\n",
    "from sklearn.utils.class_weight import compute_class_weight\n",
    "from sklearn.tree import DecisionTreeClassifier, plot_tree\n",
    "from sklearn.ensemble import RandomForestClassifier\n",
    "from sklearn.metrics import plot_confusion_matrix, classification_report, confusion_matrix, accuracy_score\n",
    "from sklearn.feature_extraction.text import CountVectorizer\n",
    "from sklearn.model_selection import train_test_split"
   ]
  },
  {
   "cell_type": "markdown",
   "id": "6466f98b-95dd-4d2e-9b32-b26317842455",
   "metadata": {},
   "source": [
    "#### First Approach: Predicting Movie Status Based on Numerical and Categorical Features"
   ]
  },
  {
   "cell_type": "markdown",
   "id": "0e0101b7-8902-422b-95a2-a1d770596b5c",
   "metadata": {},
   "source": [
    "Our dataset for this first approach will be a CSV file called rotten_tomatoes_movies.csv, which contains information about the movie title, its genre, actors, release date, production company, runtime, critics' rating, audience rating, and the Tomatometer rating.  \n",
    "Let's take a look at what our dataset looks like."
   ]
  },
  {
   "cell_type": "code",
   "execution_count": 24,
   "id": "b49d77cc-2b21-475a-b63c-a7d547565955",
   "metadata": {
    "tags": []
   },
   "outputs": [
    {
     "data": {
      "text/html": [
       "<div>\n",
       "<style scoped>\n",
       "    .dataframe tbody tr th:only-of-type {\n",
       "        vertical-align: middle;\n",
       "    }\n",
       "\n",
       "    .dataframe tbody tr th {\n",
       "        vertical-align: top;\n",
       "    }\n",
       "\n",
       "    .dataframe thead th {\n",
       "        text-align: right;\n",
       "    }\n",
       "</style>\n",
       "<table border=\"1\" class=\"dataframe\">\n",
       "  <thead>\n",
       "    <tr style=\"text-align: right;\">\n",
       "      <th></th>\n",
       "      <th>rotten_tomatoes_link</th>\n",
       "      <th>movie_title</th>\n",
       "      <th>movie_info</th>\n",
       "      <th>critics_consensus</th>\n",
       "      <th>content_rating</th>\n",
       "      <th>genres</th>\n",
       "      <th>directors</th>\n",
       "      <th>authors</th>\n",
       "      <th>actors</th>\n",
       "      <th>original_release_date</th>\n",
       "      <th>...</th>\n",
       "      <th>production_company</th>\n",
       "      <th>tomatometer_status</th>\n",
       "      <th>tomatometer_rating</th>\n",
       "      <th>tomatometer_count</th>\n",
       "      <th>audience_status</th>\n",
       "      <th>audience_rating</th>\n",
       "      <th>audience_count</th>\n",
       "      <th>tomatometer_top_critics_count</th>\n",
       "      <th>tomatometer_fresh_critics_count</th>\n",
       "      <th>tomatometer_rotten_critics_count</th>\n",
       "    </tr>\n",
       "  </thead>\n",
       "  <tbody>\n",
       "    <tr>\n",
       "      <th>0</th>\n",
       "      <td>m/0814255</td>\n",
       "      <td>Percy Jackson &amp; the Olympians: The Lightning T...</td>\n",
       "      <td>Always trouble-prone, the life of teenager Per...</td>\n",
       "      <td>Though it may seem like just another Harry Pot...</td>\n",
       "      <td>PG</td>\n",
       "      <td>Action &amp; Adventure, Comedy, Drama, Science Fic...</td>\n",
       "      <td>Chris Columbus</td>\n",
       "      <td>Craig Titley, Chris Columbus, Rick Riordan</td>\n",
       "      <td>Logan Lerman, Brandon T. Jackson, Alexandra Da...</td>\n",
       "      <td>2010-02-12</td>\n",
       "      <td>...</td>\n",
       "      <td>20th Century Fox</td>\n",
       "      <td>Rotten</td>\n",
       "      <td>49.0</td>\n",
       "      <td>149.0</td>\n",
       "      <td>Spilled</td>\n",
       "      <td>53.0</td>\n",
       "      <td>254421.0</td>\n",
       "      <td>43</td>\n",
       "      <td>73</td>\n",
       "      <td>76</td>\n",
       "    </tr>\n",
       "    <tr>\n",
       "      <th>1</th>\n",
       "      <td>m/0878835</td>\n",
       "      <td>Please Give</td>\n",
       "      <td>Kate (Catherine Keener) and her husband Alex (...</td>\n",
       "      <td>Nicole Holofcener's newest might seem slight i...</td>\n",
       "      <td>R</td>\n",
       "      <td>Comedy</td>\n",
       "      <td>Nicole Holofcener</td>\n",
       "      <td>Nicole Holofcener</td>\n",
       "      <td>Catherine Keener, Amanda Peet, Oliver Platt, R...</td>\n",
       "      <td>2010-04-30</td>\n",
       "      <td>...</td>\n",
       "      <td>Sony Pictures Classics</td>\n",
       "      <td>Certified-Fresh</td>\n",
       "      <td>87.0</td>\n",
       "      <td>142.0</td>\n",
       "      <td>Upright</td>\n",
       "      <td>64.0</td>\n",
       "      <td>11574.0</td>\n",
       "      <td>44</td>\n",
       "      <td>123</td>\n",
       "      <td>19</td>\n",
       "    </tr>\n",
       "    <tr>\n",
       "      <th>2</th>\n",
       "      <td>m/10</td>\n",
       "      <td>10</td>\n",
       "      <td>A successful, middle-aged Hollywood songwriter...</td>\n",
       "      <td>Blake Edwards' bawdy comedy may not score a pe...</td>\n",
       "      <td>R</td>\n",
       "      <td>Comedy, Romance</td>\n",
       "      <td>Blake Edwards</td>\n",
       "      <td>Blake Edwards</td>\n",
       "      <td>Dudley Moore, Bo Derek, Julie Andrews, Robert ...</td>\n",
       "      <td>1979-10-05</td>\n",
       "      <td>...</td>\n",
       "      <td>Waner Bros.</td>\n",
       "      <td>Fresh</td>\n",
       "      <td>67.0</td>\n",
       "      <td>24.0</td>\n",
       "      <td>Spilled</td>\n",
       "      <td>53.0</td>\n",
       "      <td>14684.0</td>\n",
       "      <td>2</td>\n",
       "      <td>16</td>\n",
       "      <td>8</td>\n",
       "    </tr>\n",
       "    <tr>\n",
       "      <th>3</th>\n",
       "      <td>m/1000013-12_angry_men</td>\n",
       "      <td>12 Angry Men (Twelve Angry Men)</td>\n",
       "      <td>Following the closing arguments in a murder tr...</td>\n",
       "      <td>Sidney Lumet's feature debut is a superbly wri...</td>\n",
       "      <td>NR</td>\n",
       "      <td>Classics, Drama</td>\n",
       "      <td>Sidney Lumet</td>\n",
       "      <td>Reginald Rose</td>\n",
       "      <td>Martin Balsam, John Fiedler, Lee J. Cobb, E.G....</td>\n",
       "      <td>1957-04-13</td>\n",
       "      <td>...</td>\n",
       "      <td>Criterion Collection</td>\n",
       "      <td>Certified-Fresh</td>\n",
       "      <td>100.0</td>\n",
       "      <td>54.0</td>\n",
       "      <td>Upright</td>\n",
       "      <td>97.0</td>\n",
       "      <td>105386.0</td>\n",
       "      <td>6</td>\n",
       "      <td>54</td>\n",
       "      <td>0</td>\n",
       "    </tr>\n",
       "    <tr>\n",
       "      <th>4</th>\n",
       "      <td>m/1000079-20000_leagues_under_the_sea</td>\n",
       "      <td>20,000 Leagues Under The Sea</td>\n",
       "      <td>In 1866, Professor Pierre M. Aronnax (Paul Luk...</td>\n",
       "      <td>One of Disney's finest live-action adventures,...</td>\n",
       "      <td>G</td>\n",
       "      <td>Action &amp; Adventure, Drama, Kids &amp; Family</td>\n",
       "      <td>Richard Fleischer</td>\n",
       "      <td>Earl Felton</td>\n",
       "      <td>James Mason, Kirk Douglas, Paul Lukas, Peter L...</td>\n",
       "      <td>1954-01-01</td>\n",
       "      <td>...</td>\n",
       "      <td>Disney</td>\n",
       "      <td>Fresh</td>\n",
       "      <td>89.0</td>\n",
       "      <td>27.0</td>\n",
       "      <td>Upright</td>\n",
       "      <td>74.0</td>\n",
       "      <td>68918.0</td>\n",
       "      <td>5</td>\n",
       "      <td>24</td>\n",
       "      <td>3</td>\n",
       "    </tr>\n",
       "  </tbody>\n",
       "</table>\n",
       "<p>5 rows × 22 columns</p>\n",
       "</div>"
      ],
      "text/plain": [
       "                    rotten_tomatoes_link  \\\n",
       "0                              m/0814255   \n",
       "1                              m/0878835   \n",
       "2                                   m/10   \n",
       "3                 m/1000013-12_angry_men   \n",
       "4  m/1000079-20000_leagues_under_the_sea   \n",
       "\n",
       "                                         movie_title  \\\n",
       "0  Percy Jackson & the Olympians: The Lightning T...   \n",
       "1                                        Please Give   \n",
       "2                                                 10   \n",
       "3                    12 Angry Men (Twelve Angry Men)   \n",
       "4                       20,000 Leagues Under The Sea   \n",
       "\n",
       "                                          movie_info  \\\n",
       "0  Always trouble-prone, the life of teenager Per...   \n",
       "1  Kate (Catherine Keener) and her husband Alex (...   \n",
       "2  A successful, middle-aged Hollywood songwriter...   \n",
       "3  Following the closing arguments in a murder tr...   \n",
       "4  In 1866, Professor Pierre M. Aronnax (Paul Luk...   \n",
       "\n",
       "                                   critics_consensus content_rating  \\\n",
       "0  Though it may seem like just another Harry Pot...             PG   \n",
       "1  Nicole Holofcener's newest might seem slight i...              R   \n",
       "2  Blake Edwards' bawdy comedy may not score a pe...              R   \n",
       "3  Sidney Lumet's feature debut is a superbly wri...             NR   \n",
       "4  One of Disney's finest live-action adventures,...              G   \n",
       "\n",
       "                                              genres          directors  \\\n",
       "0  Action & Adventure, Comedy, Drama, Science Fic...     Chris Columbus   \n",
       "1                                             Comedy  Nicole Holofcener   \n",
       "2                                    Comedy, Romance      Blake Edwards   \n",
       "3                                    Classics, Drama       Sidney Lumet   \n",
       "4           Action & Adventure, Drama, Kids & Family  Richard Fleischer   \n",
       "\n",
       "                                      authors  \\\n",
       "0  Craig Titley, Chris Columbus, Rick Riordan   \n",
       "1                           Nicole Holofcener   \n",
       "2                               Blake Edwards   \n",
       "3                               Reginald Rose   \n",
       "4                                 Earl Felton   \n",
       "\n",
       "                                              actors original_release_date  \\\n",
       "0  Logan Lerman, Brandon T. Jackson, Alexandra Da...            2010-02-12   \n",
       "1  Catherine Keener, Amanda Peet, Oliver Platt, R...            2010-04-30   \n",
       "2  Dudley Moore, Bo Derek, Julie Andrews, Robert ...            1979-10-05   \n",
       "3  Martin Balsam, John Fiedler, Lee J. Cobb, E.G....            1957-04-13   \n",
       "4  James Mason, Kirk Douglas, Paul Lukas, Peter L...            1954-01-01   \n",
       "\n",
       "   ...      production_company  tomatometer_status tomatometer_rating  \\\n",
       "0  ...        20th Century Fox              Rotten               49.0   \n",
       "1  ...  Sony Pictures Classics     Certified-Fresh               87.0   \n",
       "2  ...             Waner Bros.               Fresh               67.0   \n",
       "3  ...    Criterion Collection     Certified-Fresh              100.0   \n",
       "4  ...                  Disney               Fresh               89.0   \n",
       "\n",
       "  tomatometer_count  audience_status  audience_rating audience_count  \\\n",
       "0             149.0          Spilled             53.0       254421.0   \n",
       "1             142.0          Upright             64.0        11574.0   \n",
       "2              24.0          Spilled             53.0        14684.0   \n",
       "3              54.0          Upright             97.0       105386.0   \n",
       "4              27.0          Upright             74.0        68918.0   \n",
       "\n",
       "   tomatometer_top_critics_count  tomatometer_fresh_critics_count  \\\n",
       "0                             43                               73   \n",
       "1                             44                              123   \n",
       "2                              2                               16   \n",
       "3                              6                               54   \n",
       "4                              5                               24   \n",
       "\n",
       "   tomatometer_rotten_critics_count  \n",
       "0                                76  \n",
       "1                                19  \n",
       "2                                 8  \n",
       "3                                 0  \n",
       "4                                 3  \n",
       "\n",
       "[5 rows x 22 columns]"
      ]
     },
     "execution_count": 24,
     "metadata": {},
     "output_type": "execute_result"
    }
   ],
   "source": [
    "df_movie = pd.read_csv(\"/Users/bryancoronelnew/Documents/projects/stratascratch/Meta/data/rotten_tomatoes_movies.csv\")\n",
    "df_movie.head()"
   ]
  },
  {
   "cell_type": "markdown",
   "id": "a5fd63b1-176f-4b2e-8740-be21158eb57b",
   "metadata": {},
   "source": [
    "To better understand our data a little bit better, let's take a look at the summary of our data"
   ]
  },
  {
   "cell_type": "code",
   "execution_count": 21,
   "id": "89f22665-1fdc-443d-b674-cecbfb136d1e",
   "metadata": {
    "tags": []
   },
   "outputs": [
    {
     "data": {
      "text/html": [
       "<div>\n",
       "<style scoped>\n",
       "    .dataframe tbody tr th:only-of-type {\n",
       "        vertical-align: middle;\n",
       "    }\n",
       "\n",
       "    .dataframe tbody tr th {\n",
       "        vertical-align: top;\n",
       "    }\n",
       "\n",
       "    .dataframe thead th {\n",
       "        text-align: right;\n",
       "    }\n",
       "</style>\n",
       "<table border=\"1\" class=\"dataframe\">\n",
       "  <thead>\n",
       "    <tr style=\"text-align: right;\">\n",
       "      <th></th>\n",
       "      <th>runtime</th>\n",
       "      <th>tomatometer_rating</th>\n",
       "      <th>tomatometer_count</th>\n",
       "      <th>audience_rating</th>\n",
       "      <th>audience_count</th>\n",
       "      <th>tomatometer_top_critics_count</th>\n",
       "      <th>tomatometer_fresh_critics_count</th>\n",
       "      <th>tomatometer_rotten_critics_count</th>\n",
       "    </tr>\n",
       "  </thead>\n",
       "  <tbody>\n",
       "    <tr>\n",
       "      <th>count</th>\n",
       "      <td>17398.000000</td>\n",
       "      <td>17668.000000</td>\n",
       "      <td>17668.000000</td>\n",
       "      <td>17416.000000</td>\n",
       "      <td>1.741500e+04</td>\n",
       "      <td>17712.000000</td>\n",
       "      <td>17712.000000</td>\n",
       "      <td>17712.000000</td>\n",
       "    </tr>\n",
       "    <tr>\n",
       "      <th>mean</th>\n",
       "      <td>102.214048</td>\n",
       "      <td>60.884763</td>\n",
       "      <td>57.139801</td>\n",
       "      <td>60.554260</td>\n",
       "      <td>1.439401e+05</td>\n",
       "      <td>14.586326</td>\n",
       "      <td>36.374831</td>\n",
       "      <td>20.703139</td>\n",
       "    </tr>\n",
       "    <tr>\n",
       "      <th>std</th>\n",
       "      <td>18.702511</td>\n",
       "      <td>28.443348</td>\n",
       "      <td>68.370047</td>\n",
       "      <td>20.543369</td>\n",
       "      <td>1.763577e+06</td>\n",
       "      <td>15.146349</td>\n",
       "      <td>52.601038</td>\n",
       "      <td>30.248435</td>\n",
       "    </tr>\n",
       "    <tr>\n",
       "      <th>min</th>\n",
       "      <td>5.000000</td>\n",
       "      <td>0.000000</td>\n",
       "      <td>5.000000</td>\n",
       "      <td>0.000000</td>\n",
       "      <td>5.000000e+00</td>\n",
       "      <td>0.000000</td>\n",
       "      <td>0.000000</td>\n",
       "      <td>0.000000</td>\n",
       "    </tr>\n",
       "    <tr>\n",
       "      <th>25%</th>\n",
       "      <td>90.000000</td>\n",
       "      <td>38.000000</td>\n",
       "      <td>12.000000</td>\n",
       "      <td>45.000000</td>\n",
       "      <td>7.075000e+02</td>\n",
       "      <td>3.000000</td>\n",
       "      <td>6.000000</td>\n",
       "      <td>3.000000</td>\n",
       "    </tr>\n",
       "    <tr>\n",
       "      <th>50%</th>\n",
       "      <td>99.000000</td>\n",
       "      <td>67.000000</td>\n",
       "      <td>28.000000</td>\n",
       "      <td>63.000000</td>\n",
       "      <td>4.277000e+03</td>\n",
       "      <td>8.000000</td>\n",
       "      <td>16.000000</td>\n",
       "      <td>8.000000</td>\n",
       "    </tr>\n",
       "    <tr>\n",
       "      <th>75%</th>\n",
       "      <td>111.000000</td>\n",
       "      <td>86.000000</td>\n",
       "      <td>75.000000</td>\n",
       "      <td>78.000000</td>\n",
       "      <td>2.498800e+04</td>\n",
       "      <td>23.000000</td>\n",
       "      <td>44.000000</td>\n",
       "      <td>24.000000</td>\n",
       "    </tr>\n",
       "    <tr>\n",
       "      <th>max</th>\n",
       "      <td>266.000000</td>\n",
       "      <td>100.000000</td>\n",
       "      <td>574.000000</td>\n",
       "      <td>100.000000</td>\n",
       "      <td>3.579764e+07</td>\n",
       "      <td>69.000000</td>\n",
       "      <td>497.000000</td>\n",
       "      <td>303.000000</td>\n",
       "    </tr>\n",
       "  </tbody>\n",
       "</table>\n",
       "</div>"
      ],
      "text/plain": [
       "            runtime  tomatometer_rating  tomatometer_count  audience_rating  \\\n",
       "count  17398.000000        17668.000000       17668.000000     17416.000000   \n",
       "mean     102.214048           60.884763          57.139801        60.554260   \n",
       "std       18.702511           28.443348          68.370047        20.543369   \n",
       "min        5.000000            0.000000           5.000000         0.000000   \n",
       "25%       90.000000           38.000000          12.000000        45.000000   \n",
       "50%       99.000000           67.000000          28.000000        63.000000   \n",
       "75%      111.000000           86.000000          75.000000        78.000000   \n",
       "max      266.000000          100.000000         574.000000       100.000000   \n",
       "\n",
       "       audience_count  tomatometer_top_critics_count  \\\n",
       "count    1.741500e+04                   17712.000000   \n",
       "mean     1.439401e+05                      14.586326   \n",
       "std      1.763577e+06                      15.146349   \n",
       "min      5.000000e+00                       0.000000   \n",
       "25%      7.075000e+02                       3.000000   \n",
       "50%      4.277000e+03                       8.000000   \n",
       "75%      2.498800e+04                      23.000000   \n",
       "max      3.579764e+07                      69.000000   \n",
       "\n",
       "       tomatometer_fresh_critics_count  tomatometer_rotten_critics_count  \n",
       "count                     17712.000000                      17712.000000  \n",
       "mean                         36.374831                         20.703139  \n",
       "std                          52.601038                         30.248435  \n",
       "min                           0.000000                          0.000000  \n",
       "25%                           6.000000                          3.000000  \n",
       "50%                          16.000000                          8.000000  \n",
       "75%                          44.000000                         24.000000  \n",
       "max                         497.000000                        303.000000  "
      ]
     },
     "execution_count": 21,
     "metadata": {},
     "output_type": "execute_result"
    }
   ],
   "source": [
    "df_movie.describe()"
   ]
  },
  {
   "cell_type": "markdown",
   "id": "388c4837-49ed-4e1b-b30c-ac79444b4cd0",
   "metadata": {},
   "source": [
    "Observations:\n",
    "1. As we can see from the summary of our data above, of all of the features, only a few can be classified as numerical features.  \n",
    "2. let's use all of these features as predictors to predict our dependent variable, which is tomatometer_status.  \n",
    "3. Notice that we have missing values in some predictors"
   ]
  },
  {
   "cell_type": "markdown",
   "id": "d8b07621-5b82-42da-b7ba-599d26da0dc9",
   "metadata": {},
   "source": [
    "Let's try some feature engineering that might be beneficial to increase the prediction power of our algorithms  \n",
    "The content_rating variable, which is not necessarily a numerical feature, but more of a categorical feature, as it has a discrete value such as R, PG, NR, etc as you can see below."
   ]
  },
  {
   "cell_type": "code",
   "execution_count": 25,
   "id": "650551af-4c26-482a-a2f1-b908568d25a4",
   "metadata": {},
   "outputs": [
    {
     "name": "stdout",
     "output_type": "stream",
     "text": [
      "Content Rating category: ['PG' 'R' 'NR' 'G' 'PG-13' 'NC17']\n"
     ]
    },
    {
     "data": {
      "text/plain": [
       "[Text(0, 0, '6377'),\n",
       " Text(0, 0, '5474'),\n",
       " Text(0, 0, '2979'),\n",
       " Text(0, 0, '2168'),\n",
       " Text(0, 0, '676'),\n",
       " Text(0, 0, '38')]"
      ]
     },
     "execution_count": 25,
     "metadata": {},
     "output_type": "execute_result"
    },
    {
     "data": {
      "image/png": "[encoded data removed]",
      "text/plain": [
       "<Figure size 1200x900 with 1 Axes>"
      ]
     },
     "metadata": {},
     "output_type": "display_data"
    }
   ],
   "source": [
    "print(f'Content Rating category: {df_movie.content_rating.unique()}')\n",
    "\n",
    "# Visualize the distribution of each category\n",
    "ax = df_movie.content_rating.value_counts().plot(kind='bar', figsize=(12,9))\n",
    "ax.bar_label(ax.containers[0])"
   ]
  },
  {
   "cell_type": "markdown",
   "id": "21cf5b55-3608-4215-8251-1d300cc5e948",
   "metadata": {},
   "source": [
    "A few notes:\n",
    "- if we have a categorical feature like content_rating above, we need to transform each category into a numerical representation.  \n",
    "- ML algorithm can only learn if we supply the data in the form of a number\n",
    "- two approaches to transform cateogrical into numerical\n",
    "    - ordinal encoding\n",
    "    - with one-hot encoding.  \n",
    "- one approach would be preferred over another, depending on the feature"
   ]
  },
  {
   "cell_type": "markdown",
   "id": "8653f527-b75d-4007-bbda-7c092c7df364",
   "metadata": {},
   "source": [
    "Definition:\n",
    "1. Ordinal encoding: preferred if each category represents a degree of magnitude, for example 'poor': 0, 'average': 1, 'good': 2 \n",
    "\n",
    "2. One-hot encoding: preferred if each category doesn't represent a degree of magnitude, for example 'black': [1,0,0], 'red': [0,1,0], 'blue': [0,0,1]"
   ]
  },
  {
   "cell_type": "markdown",
   "id": "26f7938b-2a3c-43f9-8eb2-98c1e3d47541",
   "metadata": {},
   "source": [
    "Content_rating feature doesn't represent any degree of magnitude, so let's do one-hot encoding"
   ]
  },
  {
   "cell_type": "code",
   "execution_count": 26,
   "id": "9a17894a-aa91-4ed9-8307-2816e4d8948f",
   "metadata": {},
   "outputs": [
    {
     "data": {
      "text/html": [
       "<div>\n",
       "<style scoped>\n",
       "    .dataframe tbody tr th:only-of-type {\n",
       "        vertical-align: middle;\n",
       "    }\n",
       "\n",
       "    .dataframe tbody tr th {\n",
       "        vertical-align: top;\n",
       "    }\n",
       "\n",
       "    .dataframe thead th {\n",
       "        text-align: right;\n",
       "    }\n",
       "</style>\n",
       "<table border=\"1\" class=\"dataframe\">\n",
       "  <thead>\n",
       "    <tr style=\"text-align: right;\">\n",
       "      <th></th>\n",
       "      <th>G</th>\n",
       "      <th>NC17</th>\n",
       "      <th>NR</th>\n",
       "      <th>PG</th>\n",
       "      <th>PG-13</th>\n",
       "      <th>R</th>\n",
       "    </tr>\n",
       "  </thead>\n",
       "  <tbody>\n",
       "    <tr>\n",
       "      <th>0</th>\n",
       "      <td>0</td>\n",
       "      <td>0</td>\n",
       "      <td>0</td>\n",
       "      <td>1</td>\n",
       "      <td>0</td>\n",
       "      <td>0</td>\n",
       "    </tr>\n",
       "    <tr>\n",
       "      <th>1</th>\n",
       "      <td>0</td>\n",
       "      <td>0</td>\n",
       "      <td>0</td>\n",
       "      <td>0</td>\n",
       "      <td>0</td>\n",
       "      <td>1</td>\n",
       "    </tr>\n",
       "    <tr>\n",
       "      <th>2</th>\n",
       "      <td>0</td>\n",
       "      <td>0</td>\n",
       "      <td>0</td>\n",
       "      <td>0</td>\n",
       "      <td>0</td>\n",
       "      <td>1</td>\n",
       "    </tr>\n",
       "    <tr>\n",
       "      <th>3</th>\n",
       "      <td>0</td>\n",
       "      <td>0</td>\n",
       "      <td>1</td>\n",
       "      <td>0</td>\n",
       "      <td>0</td>\n",
       "      <td>0</td>\n",
       "    </tr>\n",
       "    <tr>\n",
       "      <th>4</th>\n",
       "      <td>1</td>\n",
       "      <td>0</td>\n",
       "      <td>0</td>\n",
       "      <td>0</td>\n",
       "      <td>0</td>\n",
       "      <td>0</td>\n",
       "    </tr>\n",
       "  </tbody>\n",
       "</table>\n",
       "</div>"
      ],
      "text/plain": [
       "   G  NC17  NR  PG  PG-13  R\n",
       "0  0     0   0   1      0  0\n",
       "1  0     0   0   0      0  1\n",
       "2  0     0   0   0      0  1\n",
       "3  0     0   1   0      0  0\n",
       "4  1     0   0   0      0  0"
      ]
     },
     "execution_count": 26,
     "metadata": {},
     "output_type": "execute_result"
    }
   ],
   "source": [
    "content_rating = pd.get_dummies(df_movie.content_rating)\n",
    "content_rating.head()"
   ]
  },
  {
   "cell_type": "markdown",
   "id": "be30ec7a-b8d8-40fe-b231-600902c60683",
   "metadata": {},
   "source": [
    "Audience_status variable consists of two categories: 'Spilled' and 'Upright', which represents an order of magnitude, so use ordinal encoding."
   ]
  },
  {
   "cell_type": "code",
   "execution_count": 27,
   "id": "6ee884ca-a036-429b-8b58-b7c3efd37cf6",
   "metadata": {},
   "outputs": [
    {
     "name": "stdout",
     "output_type": "stream",
     "text": [
      "Audience status category: ['Spilled' 'Upright' nan]\n"
     ]
    },
    {
     "data": {
      "text/plain": [
       "[Text(0, 0, '9390'), Text(0, 0, '7874')]"
      ]
     },
     "execution_count": 27,
     "metadata": {},
     "output_type": "execute_result"
    },
    {
     "data": {
      "image/png": "[encoded data removed]",
      "text/plain": [
       "<Figure size 1200x900 with 1 Axes>"
      ]
     },
     "metadata": {},
     "output_type": "display_data"
    }
   ],
   "source": [
    "print(f'Audience status category: {df_movie.audience_status.unique()}')\n",
    "# Visualize the distribution of each category\n",
    "ax = df_movie.audience_status.value_counts().plot(kind='bar', figsize=(12,9))\n",
    "ax.bar_label(ax.containers[0])"
   ]
  },
  {
   "cell_type": "code",
   "execution_count": 28,
   "id": "5d8e0e8f-8e50-4a40-aa89-8eb5bf8603ac",
   "metadata": {},
   "outputs": [
    {
     "data": {
      "text/html": [
       "<div>\n",
       "<style scoped>\n",
       "    .dataframe tbody tr th:only-of-type {\n",
       "        vertical-align: middle;\n",
       "    }\n",
       "\n",
       "    .dataframe tbody tr th {\n",
       "        vertical-align: top;\n",
       "    }\n",
       "\n",
       "    .dataframe thead th {\n",
       "        text-align: right;\n",
       "    }\n",
       "</style>\n",
       "<table border=\"1\" class=\"dataframe\">\n",
       "  <thead>\n",
       "    <tr style=\"text-align: right;\">\n",
       "      <th></th>\n",
       "      <th>audience_status</th>\n",
       "    </tr>\n",
       "  </thead>\n",
       "  <tbody>\n",
       "    <tr>\n",
       "      <th>0</th>\n",
       "      <td>0.0</td>\n",
       "    </tr>\n",
       "    <tr>\n",
       "      <th>1</th>\n",
       "      <td>1.0</td>\n",
       "    </tr>\n",
       "    <tr>\n",
       "      <th>2</th>\n",
       "      <td>0.0</td>\n",
       "    </tr>\n",
       "    <tr>\n",
       "      <th>3</th>\n",
       "      <td>1.0</td>\n",
       "    </tr>\n",
       "    <tr>\n",
       "      <th>4</th>\n",
       "      <td>1.0</td>\n",
       "    </tr>\n",
       "  </tbody>\n",
       "</table>\n",
       "</div>"
      ],
      "text/plain": [
       "   audience_status\n",
       "0              0.0\n",
       "1              1.0\n",
       "2              0.0\n",
       "3              1.0\n",
       "4              1.0"
      ]
     },
     "execution_count": 28,
     "metadata": {},
     "output_type": "execute_result"
    }
   ],
   "source": [
    "# Encode audience status variable with ordinal encoding\n",
    "audience_status = pd.DataFrame(df_movie.audience_status.replace(['Spilled','Upright'],[0,1]))\n",
    "audience_status.head()"
   ]
  },
  {
   "cell_type": "markdown",
   "id": "d9a3bf70-e4ea-4dc6-8c2d-df0e83b26d55",
   "metadata": {},
   "source": [
    "The final variable that we need to convert with encoding approach is our dependent variable, which is the tomatometer_status"
   ]
  },
  {
   "cell_type": "code",
   "execution_count": 29,
   "id": "13210587-9bd9-4d94-b684-36a41c3c663c",
   "metadata": {},
   "outputs": [
    {
     "data": {
      "text/html": [
       "<div>\n",
       "<style scoped>\n",
       "    .dataframe tbody tr th:only-of-type {\n",
       "        vertical-align: middle;\n",
       "    }\n",
       "\n",
       "    .dataframe tbody tr th {\n",
       "        vertical-align: top;\n",
       "    }\n",
       "\n",
       "    .dataframe thead th {\n",
       "        text-align: right;\n",
       "    }\n",
       "</style>\n",
       "<table border=\"1\" class=\"dataframe\">\n",
       "  <thead>\n",
       "    <tr style=\"text-align: right;\">\n",
       "      <th></th>\n",
       "      <th>tomatometer_status</th>\n",
       "    </tr>\n",
       "  </thead>\n",
       "  <tbody>\n",
       "    <tr>\n",
       "      <th>0</th>\n",
       "      <td>0.0</td>\n",
       "    </tr>\n",
       "    <tr>\n",
       "      <th>1</th>\n",
       "      <td>2.0</td>\n",
       "    </tr>\n",
       "    <tr>\n",
       "      <th>2</th>\n",
       "      <td>1.0</td>\n",
       "    </tr>\n",
       "    <tr>\n",
       "      <th>3</th>\n",
       "      <td>2.0</td>\n",
       "    </tr>\n",
       "    <tr>\n",
       "      <th>4</th>\n",
       "      <td>1.0</td>\n",
       "    </tr>\n",
       "    <tr>\n",
       "      <th>...</th>\n",
       "      <td>...</td>\n",
       "    </tr>\n",
       "    <tr>\n",
       "      <th>17707</th>\n",
       "      <td>0.0</td>\n",
       "    </tr>\n",
       "    <tr>\n",
       "      <th>17708</th>\n",
       "      <td>2.0</td>\n",
       "    </tr>\n",
       "    <tr>\n",
       "      <th>17709</th>\n",
       "      <td>1.0</td>\n",
       "    </tr>\n",
       "    <tr>\n",
       "      <th>17710</th>\n",
       "      <td>1.0</td>\n",
       "    </tr>\n",
       "    <tr>\n",
       "      <th>17711</th>\n",
       "      <td>0.0</td>\n",
       "    </tr>\n",
       "  </tbody>\n",
       "</table>\n",
       "<p>17712 rows × 1 columns</p>\n",
       "</div>"
      ],
      "text/plain": [
       "       tomatometer_status\n",
       "0                     0.0\n",
       "1                     2.0\n",
       "2                     1.0\n",
       "3                     2.0\n",
       "4                     1.0\n",
       "...                   ...\n",
       "17707                 0.0\n",
       "17708                 2.0\n",
       "17709                 1.0\n",
       "17710                 1.0\n",
       "17711                 0.0\n",
       "\n",
       "[17712 rows x 1 columns]"
      ]
     },
     "execution_count": 29,
     "metadata": {},
     "output_type": "execute_result"
    }
   ],
   "source": [
    "# Encode tomatometer status variable with ordinal encoding\n",
    "tomatometer_status = pd.DataFrame(df_movie.tomatometer_status.replace(['Rotten','Fresh','Certified-Fresh'],[0,1,2]))\n",
    "tomatometer_status"
   ]
  },
  {
   "cell_type": "markdown",
   "id": "73f7ba23-9b44-4275-bcc0-fc47f535dd26",
   "metadata": {},
   "source": [
    "Use pd.concat() to combine all of the variables that we encoded with the rest of the numerical features.  \n",
    "Recall, there exist missing values in target variable, so let's just remove them"
   ]
  },
  {
   "cell_type": "code",
   "execution_count": 30,
   "id": "b30adced-2bfa-48ee-ba57-9d098edbdb76",
   "metadata": {},
   "outputs": [
    {
     "data": {
      "text/html": [
       "<div>\n",
       "<style scoped>\n",
       "    .dataframe tbody tr th:only-of-type {\n",
       "        vertical-align: middle;\n",
       "    }\n",
       "\n",
       "    .dataframe tbody tr th {\n",
       "        vertical-align: top;\n",
       "    }\n",
       "\n",
       "    .dataframe thead th {\n",
       "        text-align: right;\n",
       "    }\n",
       "</style>\n",
       "<table border=\"1\" class=\"dataframe\">\n",
       "  <thead>\n",
       "    <tr style=\"text-align: right;\">\n",
       "      <th></th>\n",
       "      <th>runtime</th>\n",
       "      <th>tomatometer_rating</th>\n",
       "      <th>tomatometer_count</th>\n",
       "      <th>audience_rating</th>\n",
       "      <th>audience_count</th>\n",
       "      <th>tomatometer_top_critics_count</th>\n",
       "      <th>tomatometer_fresh_critics_count</th>\n",
       "      <th>tomatometer_rotten_critics_count</th>\n",
       "      <th>G</th>\n",
       "      <th>NC17</th>\n",
       "      <th>NR</th>\n",
       "      <th>PG</th>\n",
       "      <th>PG-13</th>\n",
       "      <th>R</th>\n",
       "      <th>audience_status</th>\n",
       "      <th>tomatometer_status</th>\n",
       "    </tr>\n",
       "  </thead>\n",
       "  <tbody>\n",
       "    <tr>\n",
       "      <th>0</th>\n",
       "      <td>119.0</td>\n",
       "      <td>49.0</td>\n",
       "      <td>149.0</td>\n",
       "      <td>53.0</td>\n",
       "      <td>254421.0</td>\n",
       "      <td>43</td>\n",
       "      <td>73</td>\n",
       "      <td>76</td>\n",
       "      <td>0</td>\n",
       "      <td>0</td>\n",
       "      <td>0</td>\n",
       "      <td>1</td>\n",
       "      <td>0</td>\n",
       "      <td>0</td>\n",
       "      <td>0.0</td>\n",
       "      <td>0.0</td>\n",
       "    </tr>\n",
       "    <tr>\n",
       "      <th>1</th>\n",
       "      <td>90.0</td>\n",
       "      <td>87.0</td>\n",
       "      <td>142.0</td>\n",
       "      <td>64.0</td>\n",
       "      <td>11574.0</td>\n",
       "      <td>44</td>\n",
       "      <td>123</td>\n",
       "      <td>19</td>\n",
       "      <td>0</td>\n",
       "      <td>0</td>\n",
       "      <td>0</td>\n",
       "      <td>0</td>\n",
       "      <td>0</td>\n",
       "      <td>1</td>\n",
       "      <td>1.0</td>\n",
       "      <td>2.0</td>\n",
       "    </tr>\n",
       "    <tr>\n",
       "      <th>2</th>\n",
       "      <td>122.0</td>\n",
       "      <td>67.0</td>\n",
       "      <td>24.0</td>\n",
       "      <td>53.0</td>\n",
       "      <td>14684.0</td>\n",
       "      <td>2</td>\n",
       "      <td>16</td>\n",
       "      <td>8</td>\n",
       "      <td>0</td>\n",
       "      <td>0</td>\n",
       "      <td>0</td>\n",
       "      <td>0</td>\n",
       "      <td>0</td>\n",
       "      <td>1</td>\n",
       "      <td>0.0</td>\n",
       "      <td>1.0</td>\n",
       "    </tr>\n",
       "    <tr>\n",
       "      <th>3</th>\n",
       "      <td>95.0</td>\n",
       "      <td>100.0</td>\n",
       "      <td>54.0</td>\n",
       "      <td>97.0</td>\n",
       "      <td>105386.0</td>\n",
       "      <td>6</td>\n",
       "      <td>54</td>\n",
       "      <td>0</td>\n",
       "      <td>0</td>\n",
       "      <td>0</td>\n",
       "      <td>1</td>\n",
       "      <td>0</td>\n",
       "      <td>0</td>\n",
       "      <td>0</td>\n",
       "      <td>1.0</td>\n",
       "      <td>2.0</td>\n",
       "    </tr>\n",
       "    <tr>\n",
       "      <th>4</th>\n",
       "      <td>127.0</td>\n",
       "      <td>89.0</td>\n",
       "      <td>27.0</td>\n",
       "      <td>74.0</td>\n",
       "      <td>68918.0</td>\n",
       "      <td>5</td>\n",
       "      <td>24</td>\n",
       "      <td>3</td>\n",
       "      <td>1</td>\n",
       "      <td>0</td>\n",
       "      <td>0</td>\n",
       "      <td>0</td>\n",
       "      <td>0</td>\n",
       "      <td>0</td>\n",
       "      <td>1.0</td>\n",
       "      <td>1.0</td>\n",
       "    </tr>\n",
       "  </tbody>\n",
       "</table>\n",
       "</div>"
      ],
      "text/plain": [
       "   runtime  tomatometer_rating  tomatometer_count  audience_rating  \\\n",
       "0    119.0                49.0              149.0             53.0   \n",
       "1     90.0                87.0              142.0             64.0   \n",
       "2    122.0                67.0               24.0             53.0   \n",
       "3     95.0               100.0               54.0             97.0   \n",
       "4    127.0                89.0               27.0             74.0   \n",
       "\n",
       "   audience_count  tomatometer_top_critics_count  \\\n",
       "0        254421.0                             43   \n",
       "1         11574.0                             44   \n",
       "2         14684.0                              2   \n",
       "3        105386.0                              6   \n",
       "4         68918.0                              5   \n",
       "\n",
       "   tomatometer_fresh_critics_count  tomatometer_rotten_critics_count  G  NC17  \\\n",
       "0                               73                                76  0     0   \n",
       "1                              123                                19  0     0   \n",
       "2                               16                                 8  0     0   \n",
       "3                               54                                 0  0     0   \n",
       "4                               24                                 3  1     0   \n",
       "\n",
       "   NR  PG  PG-13  R  audience_status  tomatometer_status  \n",
       "0   0   1      0  0              0.0                 0.0  \n",
       "1   0   0      0  1              1.0                 2.0  \n",
       "2   0   0      0  1              0.0                 1.0  \n",
       "3   1   0      0  0              1.0                 2.0  \n",
       "4   0   0      0  0              1.0                 1.0  "
      ]
     },
     "execution_count": 30,
     "metadata": {},
     "output_type": "execute_result"
    }
   ],
   "source": [
    "df_feature = pd.concat([df_movie[['runtime', 'tomatometer_rating', 'tomatometer_count', 'audience_rating', 'audience_count', 'tomatometer_top_critics_count', 'tomatometer_fresh_critics_count', 'tomatometer_rotten_critics_count']]\n",
    "                        , content_rating, audience_status, tomatometer_status], axis=1).dropna()\n",
    "df_feature.head()"
   ]
  },
  {
   "cell_type": "code",
   "execution_count": 31,
   "id": "4d7a43e2-9b89-44da-b9d5-349e8cc23d01",
   "metadata": {},
   "outputs": [
    {
     "data": {
      "text/html": [
       "<div>\n",
       "<style scoped>\n",
       "    .dataframe tbody tr th:only-of-type {\n",
       "        vertical-align: middle;\n",
       "    }\n",
       "\n",
       "    .dataframe tbody tr th {\n",
       "        vertical-align: top;\n",
       "    }\n",
       "\n",
       "    .dataframe thead th {\n",
       "        text-align: right;\n",
       "    }\n",
       "</style>\n",
       "<table border=\"1\" class=\"dataframe\">\n",
       "  <thead>\n",
       "    <tr style=\"text-align: right;\">\n",
       "      <th></th>\n",
       "      <th>runtime</th>\n",
       "      <th>tomatometer_rating</th>\n",
       "      <th>tomatometer_count</th>\n",
       "      <th>audience_rating</th>\n",
       "      <th>audience_count</th>\n",
       "      <th>tomatometer_top_critics_count</th>\n",
       "      <th>tomatometer_fresh_critics_count</th>\n",
       "      <th>tomatometer_rotten_critics_count</th>\n",
       "      <th>G</th>\n",
       "      <th>NC17</th>\n",
       "      <th>NR</th>\n",
       "      <th>PG</th>\n",
       "      <th>PG-13</th>\n",
       "      <th>R</th>\n",
       "      <th>audience_status</th>\n",
       "      <th>tomatometer_status</th>\n",
       "    </tr>\n",
       "  </thead>\n",
       "  <tbody>\n",
       "    <tr>\n",
       "      <th>count</th>\n",
       "      <td>17017.000000</td>\n",
       "      <td>17017.000000</td>\n",
       "      <td>17017.000000</td>\n",
       "      <td>17017.000000</td>\n",
       "      <td>1.701700e+04</td>\n",
       "      <td>17017.000000</td>\n",
       "      <td>17017.000000</td>\n",
       "      <td>17017.000000</td>\n",
       "      <td>17017.000000</td>\n",
       "      <td>17017.000000</td>\n",
       "      <td>17017.000000</td>\n",
       "      <td>17017.000000</td>\n",
       "      <td>17017.000000</td>\n",
       "      <td>17017.000000</td>\n",
       "      <td>17017.000000</td>\n",
       "      <td>17017.000000</td>\n",
       "    </tr>\n",
       "    <tr>\n",
       "      <th>mean</th>\n",
       "      <td>102.296233</td>\n",
       "      <td>60.519539</td>\n",
       "      <td>57.097197</td>\n",
       "      <td>60.324499</td>\n",
       "      <td>1.471183e+05</td>\n",
       "      <td>14.765999</td>\n",
       "      <td>36.237292</td>\n",
       "      <td>20.871188</td>\n",
       "      <td>0.039314</td>\n",
       "      <td>0.002174</td>\n",
       "      <td>0.294940</td>\n",
       "      <td>0.124993</td>\n",
       "      <td>0.171593</td>\n",
       "      <td>0.366986</td>\n",
       "      <td>0.542928</td>\n",
       "      <td>0.752718</td>\n",
       "    </tr>\n",
       "    <tr>\n",
       "      <th>std</th>\n",
       "      <td>18.653649</td>\n",
       "      <td>28.436397</td>\n",
       "      <td>66.814580</td>\n",
       "      <td>20.480600</td>\n",
       "      <td>1.783955e+06</td>\n",
       "      <td>15.172256</td>\n",
       "      <td>51.362454</td>\n",
       "      <td>29.978900</td>\n",
       "      <td>0.194346</td>\n",
       "      <td>0.046580</td>\n",
       "      <td>0.456029</td>\n",
       "      <td>0.330720</td>\n",
       "      <td>0.377037</td>\n",
       "      <td>0.481997</td>\n",
       "      <td>0.498168</td>\n",
       "      <td>0.747250</td>\n",
       "    </tr>\n",
       "    <tr>\n",
       "      <th>min</th>\n",
       "      <td>5.000000</td>\n",
       "      <td>0.000000</td>\n",
       "      <td>5.000000</td>\n",
       "      <td>0.000000</td>\n",
       "      <td>5.000000e+00</td>\n",
       "      <td>0.000000</td>\n",
       "      <td>0.000000</td>\n",
       "      <td>0.000000</td>\n",
       "      <td>0.000000</td>\n",
       "      <td>0.000000</td>\n",
       "      <td>0.000000</td>\n",
       "      <td>0.000000</td>\n",
       "      <td>0.000000</td>\n",
       "      <td>0.000000</td>\n",
       "      <td>0.000000</td>\n",
       "      <td>0.000000</td>\n",
       "    </tr>\n",
       "    <tr>\n",
       "      <th>25%</th>\n",
       "      <td>90.000000</td>\n",
       "      <td>38.000000</td>\n",
       "      <td>12.000000</td>\n",
       "      <td>44.000000</td>\n",
       "      <td>7.410000e+02</td>\n",
       "      <td>3.000000</td>\n",
       "      <td>6.000000</td>\n",
       "      <td>3.000000</td>\n",
       "      <td>0.000000</td>\n",
       "      <td>0.000000</td>\n",
       "      <td>0.000000</td>\n",
       "      <td>0.000000</td>\n",
       "      <td>0.000000</td>\n",
       "      <td>0.000000</td>\n",
       "      <td>0.000000</td>\n",
       "      <td>0.000000</td>\n",
       "    </tr>\n",
       "    <tr>\n",
       "      <th>50%</th>\n",
       "      <td>99.000000</td>\n",
       "      <td>66.000000</td>\n",
       "      <td>29.000000</td>\n",
       "      <td>62.000000</td>\n",
       "      <td>4.423000e+03</td>\n",
       "      <td>8.000000</td>\n",
       "      <td>17.000000</td>\n",
       "      <td>8.000000</td>\n",
       "      <td>0.000000</td>\n",
       "      <td>0.000000</td>\n",
       "      <td>0.000000</td>\n",
       "      <td>0.000000</td>\n",
       "      <td>0.000000</td>\n",
       "      <td>0.000000</td>\n",
       "      <td>1.000000</td>\n",
       "      <td>1.000000</td>\n",
       "    </tr>\n",
       "    <tr>\n",
       "      <th>75%</th>\n",
       "      <td>111.000000</td>\n",
       "      <td>86.000000</td>\n",
       "      <td>76.000000</td>\n",
       "      <td>77.000000</td>\n",
       "      <td>2.606700e+04</td>\n",
       "      <td>23.000000</td>\n",
       "      <td>44.000000</td>\n",
       "      <td>24.000000</td>\n",
       "      <td>0.000000</td>\n",
       "      <td>0.000000</td>\n",
       "      <td>1.000000</td>\n",
       "      <td>0.000000</td>\n",
       "      <td>0.000000</td>\n",
       "      <td>1.000000</td>\n",
       "      <td>1.000000</td>\n",
       "      <td>1.000000</td>\n",
       "    </tr>\n",
       "    <tr>\n",
       "      <th>max</th>\n",
       "      <td>266.000000</td>\n",
       "      <td>100.000000</td>\n",
       "      <td>535.000000</td>\n",
       "      <td>100.000000</td>\n",
       "      <td>3.579764e+07</td>\n",
       "      <td>69.000000</td>\n",
       "      <td>497.000000</td>\n",
       "      <td>303.000000</td>\n",
       "      <td>1.000000</td>\n",
       "      <td>1.000000</td>\n",
       "      <td>1.000000</td>\n",
       "      <td>1.000000</td>\n",
       "      <td>1.000000</td>\n",
       "      <td>1.000000</td>\n",
       "      <td>1.000000</td>\n",
       "      <td>2.000000</td>\n",
       "    </tr>\n",
       "  </tbody>\n",
       "</table>\n",
       "</div>"
      ],
      "text/plain": [
       "            runtime  tomatometer_rating  tomatometer_count  audience_rating  \\\n",
       "count  17017.000000        17017.000000       17017.000000     17017.000000   \n",
       "mean     102.296233           60.519539          57.097197        60.324499   \n",
       "std       18.653649           28.436397          66.814580        20.480600   \n",
       "min        5.000000            0.000000           5.000000         0.000000   \n",
       "25%       90.000000           38.000000          12.000000        44.000000   \n",
       "50%       99.000000           66.000000          29.000000        62.000000   \n",
       "75%      111.000000           86.000000          76.000000        77.000000   \n",
       "max      266.000000          100.000000         535.000000       100.000000   \n",
       "\n",
       "       audience_count  tomatometer_top_critics_count  \\\n",
       "count    1.701700e+04                   17017.000000   \n",
       "mean     1.471183e+05                      14.765999   \n",
       "std      1.783955e+06                      15.172256   \n",
       "min      5.000000e+00                       0.000000   \n",
       "25%      7.410000e+02                       3.000000   \n",
       "50%      4.423000e+03                       8.000000   \n",
       "75%      2.606700e+04                      23.000000   \n",
       "max      3.579764e+07                      69.000000   \n",
       "\n",
       "       tomatometer_fresh_critics_count  tomatometer_rotten_critics_count  \\\n",
       "count                     17017.000000                      17017.000000   \n",
       "mean                         36.237292                         20.871188   \n",
       "std                          51.362454                         29.978900   \n",
       "min                           0.000000                          0.000000   \n",
       "25%                           6.000000                          3.000000   \n",
       "50%                          17.000000                          8.000000   \n",
       "75%                          44.000000                         24.000000   \n",
       "max                         497.000000                        303.000000   \n",
       "\n",
       "                  G          NC17            NR            PG         PG-13  \\\n",
       "count  17017.000000  17017.000000  17017.000000  17017.000000  17017.000000   \n",
       "mean       0.039314      0.002174      0.294940      0.124993      0.171593   \n",
       "std        0.194346      0.046580      0.456029      0.330720      0.377037   \n",
       "min        0.000000      0.000000      0.000000      0.000000      0.000000   \n",
       "25%        0.000000      0.000000      0.000000      0.000000      0.000000   \n",
       "50%        0.000000      0.000000      0.000000      0.000000      0.000000   \n",
       "75%        0.000000      0.000000      1.000000      0.000000      0.000000   \n",
       "max        1.000000      1.000000      1.000000      1.000000      1.000000   \n",
       "\n",
       "                  R  audience_status  tomatometer_status  \n",
       "count  17017.000000     17017.000000        17017.000000  \n",
       "mean       0.366986         0.542928            0.752718  \n",
       "std        0.481997         0.498168            0.747250  \n",
       "min        0.000000         0.000000            0.000000  \n",
       "25%        0.000000         0.000000            0.000000  \n",
       "50%        0.000000         1.000000            1.000000  \n",
       "75%        1.000000         1.000000            1.000000  \n",
       "max        1.000000         1.000000            2.000000  "
      ]
     },
     "execution_count": 31,
     "metadata": {},
     "output_type": "execute_result"
    }
   ],
   "source": [
    "df_feature.describe()"
   ]
  },
  {
   "cell_type": "markdown",
   "id": "467cae2e-ecf2-4086-80b7-6a258677f64c",
   "metadata": {},
   "source": [
    "Next, let's see the distribution of our dependent variabletomatometer_status."
   ]
  },
  {
   "cell_type": "code",
   "execution_count": 32,
   "id": "984256dd-84c9-4171-ac2b-8ab5709dbd36",
   "metadata": {},
   "outputs": [
    {
     "data": {
      "text/plain": [
       "[Text(0, 0, '7375'), Text(0, 0, '6475'), Text(0, 0, '3167')]"
      ]
     },
     "execution_count": 32,
     "metadata": {},
     "output_type": "execute_result"
    },
    {
     "data": {
      "image/png": "[encoded data removed]",
      "text/plain": [
       "<Figure size 1200x900 with 1 Axes>"
      ]
     },
     "metadata": {},
     "output_type": "display_data"
    }
   ],
   "source": [
    "ax = df_feature.tomatometer_status.value_counts().plot(kind='bar', figsize=(12,9))\n",
    "ax.bar_label(ax.containers[0])"
   ]
  },
  {
   "cell_type": "markdown",
   "id": "52c09c12-8df0-4b91-9a7d-05ea60c42988",
   "metadata": {},
   "source": [
    "Observation:\n",
    "- it looks like we have a class imbalance problem in this case.\n",
    "- let's approach without and with fixing it"
   ]
  },
  {
   "cell_type": "code",
   "execution_count": 34,
   "id": "bcddd5d8-9525-4ace-b49b-facd318de54d",
   "metadata": {},
   "outputs": [
    {
     "name": "stdout",
     "output_type": "stream",
     "text": [
      "Size of training data is 13613 and the size of test data is 3404\n"
     ]
    }
   ],
   "source": [
    "X_train, X_test, y_train, y_test = train_test_split(df_feature.drop(['tomatometer_status'], axis=1), df_feature.tomatometer_status, test_size= 0.2, random_state=42)\n",
    "print(f'Size of training data is {len(X_train)} and the size of test data is {len(X_test)}')"
   ]
  },
  {
   "cell_type": "markdown",
   "id": "91f878eb-9259-43f0-b06e-eb280f95a81d",
   "metadata": {},
   "source": [
    "we're ready to build our machine learning algorithm to predict the Tomatometer status of a particular movie.  "
   ]
  },
  {
   "cell_type": "markdown",
   "id": "5fba3631-c50e-4ce9-821d-ffbde8df9635",
   "metadata": {},
   "source": [
    "#### Decision Tree Classifier"
   ]
  },
  {
   "cell_type": "markdown",
   "id": "beb7fada-61da-4417-ba45-b18c39c89e63",
   "metadata": {},
   "source": [
    "A few notes:\n",
    "- decision tree can be used for both regression and classification purposes\n",
    "    - although it is indeed more popular for classification purposes.\n",
    "- In each branch, the value of a data point will be assessed by the classifier with a boolean condition\n",
    "    - determine which node it belongs to until finally, this data point reaches a leaf node\n",
    "- hyperparameters that we can tune are maximum depth of the tree, maximum number of leaf nodes, etc.\n",
    "\n",
    "As a first example, let's set the maximum number of leaf nodes to be 3 (shallow) and decision flow of tree can be easier to understand."
   ]
  },
  {
   "cell_type": "code",
   "execution_count": 35,
   "id": "bcf7d5e1-8a8a-4479-9a72-b6fac4a7a39a",
   "metadata": {
    "collapsed": true,
    "jupyter": {
     "outputs_hidden": true
    },
    "tags": []
   },
   "outputs": [
    {
     "name": "stdout",
     "output_type": "stream",
     "text": [
      "0.9462397179788484\n",
      "              precision    recall  f1-score   support\n",
      "\n",
      "         0.0       1.00      1.00      1.00      1488\n",
      "         1.0       0.97      0.88      0.93      1286\n",
      "         2.0       0.80      0.95      0.87       630\n",
      "\n",
      "    accuracy                           0.95      3404\n",
      "   macro avg       0.92      0.94      0.93      3404\n",
      "weighted avg       0.95      0.95      0.95      3404\n",
      "\n"
     ]
    },
    {
     "name": "stderr",
     "output_type": "stream",
     "text": [
      "/Users/bryancoronelnew/opt/anaconda3/envs/stratascratch/lib/python3.8/site-packages/sklearn/utils/deprecation.py:87: FutureWarning: Function plot_confusion_matrix is deprecated; Function `plot_confusion_matrix` is deprecated in 1.0 and will be removed in 1.2. Use one of the class methods: ConfusionMatrixDisplay.from_predictions or ConfusionMatrixDisplay.from_estimator.\n",
      "  warnings.warn(msg, category=FutureWarning)\n"
     ]
    },
    {
     "data": {
      "text/plain": [
       "<sklearn.metrics._plot.confusion_matrix.ConfusionMatrixDisplay at 0x7fe54c676820>"
      ]
     },
     "execution_count": 35,
     "metadata": {},
     "output_type": "execute_result"
    },
    {
     "data": {
      "image/png": "[encoded data removed]",
      "text/plain": [
       "<Figure size 1200x900 with 2 Axes>"
      ]
     },
     "metadata": {},
     "output_type": "display_data"
    }
   ],
   "source": [
    "# INSTANTIATE Decision Tree Classifier with max leaf nodes = 3\n",
    "tree_3_leaf = DecisionTreeClassifier(max_leaf_nodes= 3, random_state=2)\n",
    "# TRAIN the classifier on the training data\n",
    "tree_3_leaf.fit(X_train, y_train)\n",
    "# PREDICT the test data with trained tree classifier\n",
    "y_predict = tree_3_leaf.predict(X_test)\n",
    "\n",
    "# Print accuracy and classification report on test data\n",
    "print(accuracy_score(y_test, y_predict))\n",
    "print(classification_report(y_test, y_predict))\n",
    "\n",
    "# Plot confusion matrix on test data\n",
    "fig, ax = plt.subplots(figsize=(12, 9))\n",
    "plot_confusion_matrix(tree_3_leaf, X_test, y_test, cmap ='cividis', ax=ax)"
   ]
  },
  {
   "cell_type": "markdown",
   "id": "d6c505cb-98b7-4a24-bb7c-4827c3168ca7",
   "metadata": {},
   "source": [
    "our Decision Tree Classifier performs reasonably well considering we constrained the model with only three leaf nodes.  \n",
    "The advantage of having only three leaf nodes is that the decision workflow of our classifier can be easily visualized and explained"
   ]
  },
  {
   "cell_type": "code",
   "execution_count": 36,
   "id": "813abcdb-f61c-48c7-bec2-895c5bfb3a68",
   "metadata": {},
   "outputs": [
    {
     "data": {
      "image/png": "[encoded data removed]",
      "text/plain": [
       "<Figure size 1200x900 with 1 Axes>"
      ]
     },
     "metadata": {},
     "output_type": "display_data"
    }
   ],
   "source": [
    "fig, ax = plt.subplots(figsize=(12, 9))\n",
    "plot_tree(tree_3_leaf, ax= ax)\n",
    "plt.show()"
   ]
  },
  {
   "cell_type": "markdown",
   "id": "e53518d6-782b-4ff7-a9b7-d7d1df424600",
   "metadata": {},
   "source": [
    "The decision logic shown above is actually very similar to how Rotten Tomatoes assigns a status to a movie.  \n",
    "Based on the rule stated on the RottenTomatoes homepage, which you can see here, the way they assign a movie status would be something like this:"
   ]
  },
  {
   "cell_type": "markdown",
   "id": "b8e96961-af68-430b-a57d-b2a3bf005587",
   "metadata": {},
   "source": [
    "'Fresh' status will be assigned to a movie if it receives at least 60% positive review, i.e a score of 60 or above in its tomatometer_rating variable. Otherwise, 'Rotten'"
   ]
  },
  {
   "cell_type": "markdown",
   "id": "72a1f37e-e89c-4615-9bb9-192f1753968a",
   "metadata": {},
   "source": [
    "Then the model needs to take a look at several features to find out whether a movie is 'Fresh' or 'Certified-Fresh'. If you take a look at the Rotten Tomatoes homepage, there are several considerations that need to be taken into account for a movie to be considered as 'Certified-Fresh' instead of just 'Fresh', such as:\n",
    "1. A consistent Tomatometer score of at least 75%\n",
    "2. At least 5 reviews from Top Critics\n",
    "3. Films in wide release must have a minimum of 80 reviews"
   ]
  },
  {
   "cell_type": "markdown",
   "id": "5389a823-164f-494a-aca9-041580862d9d",
   "metadata": {},
   "source": [
    "Since we constrained our Decision Tree model, then it uses the number of top critics' review as the sole variable to classify whether a movie is 'Fresh' or 'Certified-Fresh"
   ]
  },
  {
   "cell_type": "markdown",
   "id": "95780786-19d0-42bd-807a-19803bc24e11",
   "metadata": {},
   "source": [
    "Now that we know how a decision tree classifies each data point, let's try to optimize the accuracy score by removing the maximum leaf nodes constraint that we have set in the beginning."
   ]
  },
  {
   "cell_type": "code",
   "execution_count": 37,
   "id": "8e4f2397-04c9-49bd-93bb-0953f94b1ba6",
   "metadata": {},
   "outputs": [
    {
     "name": "stdout",
     "output_type": "stream",
     "text": [
      "0.9900117508813161\n",
      "              precision    recall  f1-score   support\n",
      "\n",
      "         0.0       1.00      1.00      1.00      1488\n",
      "         1.0       0.99      0.99      0.99      1286\n",
      "         2.0       0.97      0.97      0.97       630\n",
      "\n",
      "    accuracy                           0.99      3404\n",
      "   macro avg       0.99      0.99      0.99      3404\n",
      "weighted avg       0.99      0.99      0.99      3404\n",
      "\n"
     ]
    },
    {
     "name": "stderr",
     "output_type": "stream",
     "text": [
      "/Users/bryancoronelnew/opt/anaconda3/envs/stratascratch/lib/python3.8/site-packages/sklearn/utils/deprecation.py:87: FutureWarning: Function plot_confusion_matrix is deprecated; Function `plot_confusion_matrix` is deprecated in 1.0 and will be removed in 1.2. Use one of the class methods: ConfusionMatrixDisplay.from_predictions or ConfusionMatrixDisplay.from_estimator.\n",
      "  warnings.warn(msg, category=FutureWarning)\n"
     ]
    },
    {
     "data": {
      "text/plain": [
       "<sklearn.metrics._plot.confusion_matrix.ConfusionMatrixDisplay at 0x7fe54b781340>"
      ]
     },
     "execution_count": 37,
     "metadata": {},
     "output_type": "execute_result"
    },
    {
     "data": {
      "image/png": "[encoded data removed]",
      "text/plain": [
       "<Figure size 1200x900 with 2 Axes>"
      ]
     },
     "metadata": {},
     "output_type": "display_data"
    }
   ],
   "source": [
    "# Instantiate Decision Tree Classifier with default hyperparameter settings\n",
    "tree = DecisionTreeClassifier(random_state=2)\n",
    "\n",
    "# Train the classifier on the training data\n",
    "tree.fit(X_train, y_train)\n",
    "\n",
    "# Predict the test data with trained tree classifier\n",
    "y_predict = tree.predict(X_test)\n",
    "\n",
    "# Print accuracy and classification report on test data\n",
    "print(accuracy_score(y_test, y_predict))\n",
    "print(classification_report(y_test, y_predict))\n",
    "\n",
    "# Plot confusion matrix on test data\n",
    "fig, ax = plt.subplots(figsize=(12, 9))\n",
    "plot_confusion_matrix(tree, X_test, y_test, cmap ='cividis', ax=ax)"
   ]
  },
  {
   "cell_type": "markdown",
   "id": "045e3c34-02a6-4b3a-9623-9b326650f159",
   "metadata": {},
   "source": [
    "And the accuracy as well as precision and recall value of our classifier is getting better now, as our classifier now achieves an accuracy of 99% after previously it was 94%.  \n",
    "That means our classifier performs better when we let it decide the optimum number of the leaf nodes by itself.   \n",
    "Although it seems good already, can we optimize it even more and achieve higher accuracy?"
   ]
  },
  {
   "cell_type": "markdown",
   "id": "ca0fdb47-3d3e-4db7-b03d-1036c0f606bf",
   "metadata": {},
   "source": [
    "#### Random Forest Classifier"
   ]
  },
  {
   "cell_type": "markdown",
   "id": "ad995c50-883c-4030-be8e-efed1a8e94c0",
   "metadata": {},
   "source": [
    "Random Forest can be called an extension of Decision Tree Classifier because Random Forest is an algorithm that consists of a bunch of Decision Trees, ensembled into one algorithm.  \n",
    "It uses a bagging approach to randomly sample training data points, which means that each Decision Tree is trained on different sets of training data. However, it is important to note that bagging uses a bootstrap method to sample data points. This means that a specific data point can be selected across Decision Trees more than once, \n"
   ]
  },
  {
   "cell_type": "markdown",
   "id": "c455370c-e116-43a4-a722-b7c0ebff34da",
   "metadata": {},
   "source": [
    "It is very easy to implement the Random Forest algorithm with the help of Scikit-learn. Same as Decision Tree, there is a hyperparameter value that we can tune to improve the performance of the algorithm, such as the number of Decision Tree Classifiers, the maximum number of leaf nodes, maximum depth in each tree, etc."
   ]
  },
  {
   "cell_type": "code",
   "execution_count": 38,
   "id": "102243af-7a19-4d07-8df2-29252da27fb4",
   "metadata": {},
   "outputs": [
    {
     "name": "stdout",
     "output_type": "stream",
     "text": [
      "0.9908930669800236\n",
      "              precision    recall  f1-score   support\n",
      "\n",
      "         0.0       1.00      1.00      1.00      1488\n",
      "         1.0       0.99      0.99      0.99      1286\n",
      "         2.0       0.98      0.97      0.98       630\n",
      "\n",
      "    accuracy                           0.99      3404\n",
      "   macro avg       0.99      0.99      0.99      3404\n",
      "weighted avg       0.99      0.99      0.99      3404\n",
      "\n"
     ]
    },
    {
     "name": "stderr",
     "output_type": "stream",
     "text": [
      "/Users/bryancoronelnew/opt/anaconda3/envs/stratascratch/lib/python3.8/site-packages/sklearn/utils/deprecation.py:87: FutureWarning: Function plot_confusion_matrix is deprecated; Function `plot_confusion_matrix` is deprecated in 1.0 and will be removed in 1.2. Use one of the class methods: ConfusionMatrixDisplay.from_predictions or ConfusionMatrixDisplay.from_estimator.\n",
      "  warnings.warn(msg, category=FutureWarning)\n"
     ]
    },
    {
     "data": {
      "text/plain": [
       "<sklearn.metrics._plot.confusion_matrix.ConfusionMatrixDisplay at 0x7fe54cae4ca0>"
      ]
     },
     "execution_count": 38,
     "metadata": {},
     "output_type": "execute_result"
    },
    {
     "data": {
      "image/png": "[encoded data removed]",
      "text/plain": [
       "<Figure size 1200x900 with 2 Axes>"
      ]
     },
     "metadata": {},
     "output_type": "display_data"
    }
   ],
   "source": [
    "# Instantiate Random Forest Classifier\n",
    "rf = RandomForestClassifier(random_state=2)\n",
    "\n",
    "# Train Random Forest Classifier on training data\n",
    "rf.fit(X_train, y_train)\n",
    "\n",
    "# Predict test data with trained model\n",
    "y_predict = rf.predict(X_test)\n",
    "\n",
    "# Print accuracy score and classification report\n",
    "print(accuracy_score(y_test, y_predict))\n",
    "print(classification_report(y_test, y_predict))\n",
    "\n",
    "# Plot confusion matrix\n",
    "fig, ax = plt.subplots(figsize=(12, 9))\n",
    "plot_confusion_matrix(rf, X_test, y_test, cmap ='cividis', ax=ax)"
   ]
  },
  {
   "cell_type": "markdown",
   "id": "d369f991-ee2f-4ecd-8d2f-a097c29a8952",
   "metadata": {},
   "source": [
    "By looking at the accuracy and confusion matrix above, we can see that Random Forest algorithm slightly outperform a Decision Tree Classifier. This shows that an ensemble method like Random Forest can be powerful in most cases in comparison with a single classification algorithm.  \n",
    "Another interesting point with tree-based machine learning algorithm is that we can quantify the importance of each feature after we trained the model."
   ]
  },
  {
   "cell_type": "code",
   "execution_count": 39,
   "id": "ab650528-744f-4328-81c8-ad0258ec5b2c",
   "metadata": {},
   "outputs": [
    {
     "name": "stdout",
     "output_type": "stream",
     "text": [
      "runtime = 0.0061295693480302215\n",
      "tomatometer_rating = 0.4751025864067028\n",
      "tomatometer_count = 0.09895425717250429\n",
      "audience_rating = 0.05389101976402856\n",
      "audience_count = 0.016289896938110955\n",
      "tomatometer_top_critics_count = 0.03605739578773787\n",
      "tomatometer_fresh_critics_count = 0.14158242877024638\n",
      "tomatometer_rotten_critics_count = 0.1314030539462201\n",
      "G = 0.00029824734631526663\n",
      "NC17 = 1.7090610669550172e-05\n",
      "NR = 0.008710731204885382\n",
      "PG = 0.0005762363713202383\n",
      "PG-13 = 0.002531466583040527\n",
      "R = 0.0022318936876928337\n",
      "audience_status = 0.026224126062495294\n"
     ]
    },
    {
     "data": {
      "image/png": "[encoded data removed]",
      "text/plain": [
       "<Figure size 1200x900 with 1 Axes>"
      ]
     },
     "metadata": {},
     "output_type": "display_data"
    }
   ],
   "source": [
    "# Get the fature importance\n",
    "feature_importance = rf.feature_importances_\n",
    "\n",
    "# Print feature importance\n",
    "for i, feature in enumerate(X_train.columns):\n",
    "    print(f'{feature} = {feature_importance[i]}')\n",
    "\n",
    "# Visualize feature from the most important to the least important\n",
    "indices = np.argsort(feature_importance)\n",
    "\n",
    "plt.figure(figsize=(12,9))\n",
    "plt.title('Feature Importances')\n",
    "plt.barh(range(len(indices)), feature_importance[indices], color='b', align='center')\n",
    "plt.yticks(range(len(indices)), [X_train.columns[i] for i in indices])\n",
    "plt.xlabel('Relative Importance')\n",
    "plt.show()"
   ]
  },
  {
   "cell_type": "markdown",
   "id": "5bef4df3-ef55-4eec-937d-5c3750eb271a",
   "metadata": {},
   "source": [
    "It turns out that the variety of content_rating variables such as NR, PG-13, R, etc alongside the runtime are not considered to be important by the model to predict unseen data points  \n",
    "Let's see whether we can improve the performance of our Random Forest classifier model by addressing this issue"
   ]
  },
  {
   "cell_type": "markdown",
   "id": "03e2aac5-8171-408f-ba77-b6a035d1bef7",
   "metadata": {},
   "source": [
    "#### Random Forest Classifier with Feature Selection\n",
    "it turns out that several features are not considered to be important for our Random Forest model to make a prediction. let's remove all of the features that have low importance for the model, such as NR, runtime, PG-13, R, PG, G, and NC17."
   ]
  },
  {
   "cell_type": "code",
   "execution_count": 40,
   "id": "c2656e95-7865-4fd3-8558-44d0010430b4",
   "metadata": {},
   "outputs": [
    {
     "name": "stdout",
     "output_type": "stream",
     "text": [
      "Size of training data is 13613 and the size of test data is 3404\n"
     ]
    }
   ],
   "source": [
    "X_train, X_test, y_train, y_test = train_test_split(df_feature.drop(['tomatometer_status', 'NR', 'runtime', 'PG-13', 'R', 'PG','G', 'NC17'], axis=1),df_feature.tomatometer_status, test_size= 0.2, random_state=42)\n",
    "print(f'Size of training data is {len(X_train)} and the size of test data is {len(X_test)}')"
   ]
  },
  {
   "cell_type": "code",
   "execution_count": 41,
   "id": "b31c397b-5f9f-417f-abd2-bd942f70fd9f",
   "metadata": {},
   "outputs": [
    {
     "name": "stdout",
     "output_type": "stream",
     "text": [
      "0.9917743830787309\n",
      "              precision    recall  f1-score   support\n",
      "\n",
      "         0.0       1.00      1.00      1.00      1488\n",
      "         1.0       0.99      0.99      0.99      1286\n",
      "         2.0       0.98      0.97      0.98       630\n",
      "\n",
      "    accuracy                           0.99      3404\n",
      "   macro avg       0.99      0.99      0.99      3404\n",
      "weighted avg       0.99      0.99      0.99      3404\n",
      "\n"
     ]
    },
    {
     "name": "stderr",
     "output_type": "stream",
     "text": [
      "/Users/bryancoronelnew/opt/anaconda3/envs/stratascratch/lib/python3.8/site-packages/sklearn/utils/deprecation.py:87: FutureWarning: Function plot_confusion_matrix is deprecated; Function `plot_confusion_matrix` is deprecated in 1.0 and will be removed in 1.2. Use one of the class methods: ConfusionMatrixDisplay.from_predictions or ConfusionMatrixDisplay.from_estimator.\n",
      "  warnings.warn(msg, category=FutureWarning)\n"
     ]
    },
    {
     "data": {
      "text/plain": [
       "<sklearn.metrics._plot.confusion_matrix.ConfusionMatrixDisplay at 0x7fe54addb910>"
      ]
     },
     "execution_count": 41,
     "metadata": {},
     "output_type": "execute_result"
    },
    {
     "data": {
      "image/png": "[encoded data removed]",
      "text/plain": [
       "<Figure size 1200x900 with 2 Axes>"
      ]
     },
     "metadata": {},
     "output_type": "display_data"
    }
   ],
   "source": [
    "# Initialize Random Forest class\n",
    "rf = RandomForestClassifier(random_state=2)\n",
    "\n",
    "# Train Random Forest on the training data after feature selection\n",
    "rf.fit(X_train, y_train)\n",
    "\n",
    "# Predict the traind model on the test data after feature selection\n",
    "y_predict = rf.predict(X_test)\n",
    "\n",
    "# Print the accuracy score and the classification report\n",
    "print(accuracy_score(y_test, y_predict))\n",
    "print(classification_report(y_test, y_predict))\n",
    "\n",
    "# Plot the confusion matrix\n",
    "fig, ax = plt.subplots(figsize=(12, 9))\n",
    "plot_confusion_matrix(rf, X_test, y_test, cmap ='cividis', ax=ax)"
   ]
  },
  {
   "cell_type": "markdown",
   "id": "f557dcb9-599a-482b-baf1-33414e04d7bb",
   "metadata": {},
   "source": [
    "The accuracy of our model now reaches 99.1%. The False Positive and False Negative rates of our model prediction are also slightly decreased compared to the previous model. This proves that having more features doesn't equal having a better model. Some unimportant features might create a noise that negatively affects the reliability of the model's prediction."
   ]
  },
  {
   "cell_type": "markdown",
   "id": "bceefa41-c792-4583-84a0-eb92ea8ac7dc",
   "metadata": {
    "tags": []
   },
   "source": [
    "#### Weighted Random Forest Classifier with Feature Selection\n",
    "We have a lot more data labeled as 'Rotten' compared to 'Certified-Fresh'. There are some methods that we can use to address this data imbalance issue, such as applying SMOTE algorithm to oversample the data which have fewer labels, or we can supply the information about class weight to the model during the training process.  \n",
    "The idea behind it is that the class with fewer labels will have a higher weight than the data with the more frequent label.\n",
    "We can apply class weight with the help of scikit-learn by applying the compute_class_weight method."
   ]
  },
  {
   "cell_type": "code",
   "execution_count": 42,
   "id": "70292627-20cb-4997-8153-ba30935ff8cc",
   "metadata": {},
   "outputs": [
    {
     "data": {
      "text/plain": [
       "{0: 0.7691299435028248, 1: 0.8760360360360361, 2: 1.7910746237238186}"
      ]
     },
     "execution_count": 42,
     "metadata": {},
     "output_type": "execute_result"
    }
   ],
   "source": [
    "class_weight = compute_class_weight(class_weight= 'balanced', classes= np.unique(df_feature.tomatometer_status), \n",
    "                      y = df_feature.tomatometer_status.values)\n",
    "\n",
    "class_weight_dict = dict(zip(range(len(class_weight.tolist())), class_weight.tolist()))\n",
    "class_weight_dict"
   ]
  },
  {
   "cell_type": "markdown",
   "id": "78a66197-13d0-4623-8509-c7b6d614d205",
   "metadata": {},
   "source": [
    "Next, we can supply this weight information to the model when we initialize our Random Forest classifier.  \n",
    "So let's initialize our model once more, now with class weight information, and then train it on the training set, use it to make a prediction on the test data, and finally print the accuracy score as well as the visualization of the confusion matrix."
   ]
  },
  {
   "cell_type": "code",
   "execution_count": 43,
   "id": "5a7647d9-5acb-45b5-81e4-37d6f201ef38",
   "metadata": {},
   "outputs": [
    {
     "name": "stdout",
     "output_type": "stream",
     "text": [
      "0.9926556991774383\n",
      "              precision    recall  f1-score   support\n",
      "\n",
      "         0.0       1.00      1.00      1.00      1488\n",
      "         1.0       0.99      0.99      0.99      1286\n",
      "         2.0       0.98      0.98      0.98       630\n",
      "\n",
      "    accuracy                           0.99      3404\n",
      "   macro avg       0.99      0.99      0.99      3404\n",
      "weighted avg       0.99      0.99      0.99      3404\n",
      "\n"
     ]
    },
    {
     "name": "stderr",
     "output_type": "stream",
     "text": [
      "/Users/bryancoronelnew/opt/anaconda3/envs/stratascratch/lib/python3.8/site-packages/sklearn/utils/deprecation.py:87: FutureWarning: Function plot_confusion_matrix is deprecated; Function `plot_confusion_matrix` is deprecated in 1.0 and will be removed in 1.2. Use one of the class methods: ConfusionMatrixDisplay.from_predictions or ConfusionMatrixDisplay.from_estimator.\n",
      "  warnings.warn(msg, category=FutureWarning)\n"
     ]
    },
    {
     "data": {
      "text/plain": [
       "<sklearn.metrics._plot.confusion_matrix.ConfusionMatrixDisplay at 0x7fe54ad892b0>"
      ]
     },
     "execution_count": 43,
     "metadata": {},
     "output_type": "execute_result"
    },
    {
     "data": {
      "image/png": "[encoded data removed]",
      "text/plain": [
       "<Figure size 1200x900 with 2 Axes>"
      ]
     },
     "metadata": {},
     "output_type": "display_data"
    }
   ],
   "source": [
    "# Initialize Random Forest model with weight information\n",
    "rf_weighted = RandomForestClassifier(random_state=2, class_weight=class_weight_dict)\n",
    "\n",
    "# Train the model on the training data\n",
    "rf_weighted.fit(X_train, y_train)\n",
    "\n",
    "# Predict the test data with the trained model\n",
    "y_predict = rf_weighted.predict(X_test)\n",
    "\n",
    "#Print accuracy score and classification report\n",
    "print(accuracy_score(y_test, y_predict))\n",
    "print(classification_report(y_test, y_predict))\n",
    "\n",
    "#Plot confusion matrix\n",
    "fig, ax = plt.subplots(figsize=(12, 9))\n",
    "plot_confusion_matrix(rf_weighted, X_test, y_test, cmap ='cividis', ax=ax)"
   ]
  },
  {
   "cell_type": "markdown",
   "id": "cb5d5fe1-2c0f-4fd0-ae58-08b8de0c060c",
   "metadata": {},
   "source": [
    "it turns out that the performance of our model improved after applying class weights, as the accuracy now reaches 99.2% and the number of correct prediction of the data with 'Fresh' label is increased by one."
   ]
  },
  {
   "cell_type": "markdown",
   "id": "6dd303b3-84ba-45ee-bd14-ee01bcaae131",
   "metadata": {},
   "source": [
    "### Second Approach: Predicting Movie Status Based on Review Sentiment\n",
    "The second approach to predict the movie status is by conducting a so-called sentiment analysis, in which the model will predict the status of a movie based on the sentiment of a review.  \n",
    "If the overall sentiment of a review is negative, then we can say that a movie can be classified as 'Rotten', otherwise 'Fresh'."
   ]
  },
  {
   "cell_type": "code",
   "execution_count": 46,
   "id": "7e21dbb4-73d4-45c9-ae64-dc9c71f08fc0",
   "metadata": {},
   "outputs": [
    {
     "data": {
      "text/html": [
       "<div>\n",
       "<style scoped>\n",
       "    .dataframe tbody tr th:only-of-type {\n",
       "        vertical-align: middle;\n",
       "    }\n",
       "\n",
       "    .dataframe tbody tr th {\n",
       "        vertical-align: top;\n",
       "    }\n",
       "\n",
       "    .dataframe thead th {\n",
       "        text-align: right;\n",
       "    }\n",
       "</style>\n",
       "<table border=\"1\" class=\"dataframe\">\n",
       "  <thead>\n",
       "    <tr style=\"text-align: right;\">\n",
       "      <th></th>\n",
       "      <th>rotten_tomatoes_link</th>\n",
       "      <th>critic_name</th>\n",
       "      <th>top_critic</th>\n",
       "      <th>publisher_name</th>\n",
       "      <th>review_type</th>\n",
       "      <th>review_score</th>\n",
       "      <th>review_date</th>\n",
       "      <th>review_content</th>\n",
       "    </tr>\n",
       "  </thead>\n",
       "  <tbody>\n",
       "    <tr>\n",
       "      <th>0</th>\n",
       "      <td>m/0814255</td>\n",
       "      <td>Andrew L. Urban</td>\n",
       "      <td>False</td>\n",
       "      <td>Urban Cinefile</td>\n",
       "      <td>Fresh</td>\n",
       "      <td>NaN</td>\n",
       "      <td>2010-02-06</td>\n",
       "      <td>A fantasy adventure that fuses Greek mythology...</td>\n",
       "    </tr>\n",
       "    <tr>\n",
       "      <th>1</th>\n",
       "      <td>m/0814255</td>\n",
       "      <td>Louise Keller</td>\n",
       "      <td>False</td>\n",
       "      <td>Urban Cinefile</td>\n",
       "      <td>Fresh</td>\n",
       "      <td>NaN</td>\n",
       "      <td>2010-02-06</td>\n",
       "      <td>Uma Thurman as Medusa, the gorgon with a coiff...</td>\n",
       "    </tr>\n",
       "    <tr>\n",
       "      <th>2</th>\n",
       "      <td>m/0814255</td>\n",
       "      <td>NaN</td>\n",
       "      <td>False</td>\n",
       "      <td>FILMINK (Australia)</td>\n",
       "      <td>Fresh</td>\n",
       "      <td>NaN</td>\n",
       "      <td>2010-02-09</td>\n",
       "      <td>With a top-notch cast and dazzling special eff...</td>\n",
       "    </tr>\n",
       "    <tr>\n",
       "      <th>3</th>\n",
       "      <td>m/0814255</td>\n",
       "      <td>Ben McEachen</td>\n",
       "      <td>False</td>\n",
       "      <td>Sunday Mail (Australia)</td>\n",
       "      <td>Fresh</td>\n",
       "      <td>3.5/5</td>\n",
       "      <td>2010-02-09</td>\n",
       "      <td>Whether audiences will get behind The Lightnin...</td>\n",
       "    </tr>\n",
       "    <tr>\n",
       "      <th>4</th>\n",
       "      <td>m/0814255</td>\n",
       "      <td>Ethan Alter</td>\n",
       "      <td>True</td>\n",
       "      <td>Hollywood Reporter</td>\n",
       "      <td>Rotten</td>\n",
       "      <td>NaN</td>\n",
       "      <td>2010-02-10</td>\n",
       "      <td>What's really lacking in The Lightning Thief i...</td>\n",
       "    </tr>\n",
       "  </tbody>\n",
       "</table>\n",
       "</div>"
      ],
      "text/plain": [
       "  rotten_tomatoes_link      critic_name  top_critic           publisher_name  \\\n",
       "0            m/0814255  Andrew L. Urban       False           Urban Cinefile   \n",
       "1            m/0814255    Louise Keller       False           Urban Cinefile   \n",
       "2            m/0814255              NaN       False      FILMINK (Australia)   \n",
       "3            m/0814255     Ben McEachen       False  Sunday Mail (Australia)   \n",
       "4            m/0814255      Ethan Alter        True       Hollywood Reporter   \n",
       "\n",
       "  review_type review_score review_date  \\\n",
       "0       Fresh          NaN  2010-02-06   \n",
       "1       Fresh          NaN  2010-02-06   \n",
       "2       Fresh          NaN  2010-02-09   \n",
       "3       Fresh        3.5/5  2010-02-09   \n",
       "4      Rotten          NaN  2010-02-10   \n",
       "\n",
       "                                      review_content  \n",
       "0  A fantasy adventure that fuses Greek mythology...  \n",
       "1  Uma Thurman as Medusa, the gorgon with a coiff...  \n",
       "2  With a top-notch cast and dazzling special eff...  \n",
       "3  Whether audiences will get behind The Lightnin...  \n",
       "4  What's really lacking in The Lightning Thief i...  "
      ]
     },
     "execution_count": 46,
     "metadata": {},
     "output_type": "execute_result"
    }
   ],
   "source": [
    "df_critics = pd.read_csv('/Users/bryancoronelnew/Documents/projects/stratascratch/Meta/data/rotten_tomatoes_critic_reviews_50k.csv')\n",
    "df_critics.head()"
   ]
  },
  {
   "cell_type": "markdown",
   "id": "c6256a48-3b9b-4a95-a629-f1862389f9f3",
   "metadata": {},
   "source": [
    "we have the review_content variable, which is the input data that we will supply to our Decision Tree model, and review_type variable, which is the variable that our model will predict."
   ]
  },
  {
   "cell_type": "markdown",
   "id": "5b0881dd-3196-437b-adcc-89a8915f93df",
   "metadata": {},
   "source": [
    "notice that in our dataset above, we don't actually have the name of the movie for each review and also the corresponding movie status. What we do have is the rotten_tomatoes_link, which we also have in the previous dataset.  \n",
    "Thus, in order to get the name of the corresponding movie for each review and also our target variable, then we can use rotten_tomatoes_link variable to merge the two dataframes"
   ]
  },
  {
   "cell_type": "code",
   "execution_count": 47,
   "id": "4a979740-807b-4910-b479-a42233c20aaf",
   "metadata": {},
   "outputs": [
    {
     "data": {
      "text/html": [
       "<div>\n",
       "<style scoped>\n",
       "    .dataframe tbody tr th:only-of-type {\n",
       "        vertical-align: middle;\n",
       "    }\n",
       "\n",
       "    .dataframe tbody tr th {\n",
       "        vertical-align: top;\n",
       "    }\n",
       "\n",
       "    .dataframe thead th {\n",
       "        text-align: right;\n",
       "    }\n",
       "</style>\n",
       "<table border=\"1\" class=\"dataframe\">\n",
       "  <thead>\n",
       "    <tr style=\"text-align: right;\">\n",
       "      <th></th>\n",
       "      <th>rotten_tomatoes_link</th>\n",
       "      <th>movie_title</th>\n",
       "      <th>review_content</th>\n",
       "      <th>review_type</th>\n",
       "      <th>tomatometer_status</th>\n",
       "    </tr>\n",
       "  </thead>\n",
       "  <tbody>\n",
       "    <tr>\n",
       "      <th>0</th>\n",
       "      <td>m/0814255</td>\n",
       "      <td>Percy Jackson &amp; the Olympians: The Lightning T...</td>\n",
       "      <td>A fantasy adventure that fuses Greek mythology...</td>\n",
       "      <td>Fresh</td>\n",
       "      <td>Rotten</td>\n",
       "    </tr>\n",
       "    <tr>\n",
       "      <th>1</th>\n",
       "      <td>m/0814255</td>\n",
       "      <td>Percy Jackson &amp; the Olympians: The Lightning T...</td>\n",
       "      <td>Uma Thurman as Medusa, the gorgon with a coiff...</td>\n",
       "      <td>Fresh</td>\n",
       "      <td>Rotten</td>\n",
       "    </tr>\n",
       "    <tr>\n",
       "      <th>2</th>\n",
       "      <td>m/0814255</td>\n",
       "      <td>Percy Jackson &amp; the Olympians: The Lightning T...</td>\n",
       "      <td>With a top-notch cast and dazzling special eff...</td>\n",
       "      <td>Fresh</td>\n",
       "      <td>Rotten</td>\n",
       "    </tr>\n",
       "    <tr>\n",
       "      <th>3</th>\n",
       "      <td>m/0814255</td>\n",
       "      <td>Percy Jackson &amp; the Olympians: The Lightning T...</td>\n",
       "      <td>Whether audiences will get behind The Lightnin...</td>\n",
       "      <td>Fresh</td>\n",
       "      <td>Rotten</td>\n",
       "    </tr>\n",
       "    <tr>\n",
       "      <th>4</th>\n",
       "      <td>m/0814255</td>\n",
       "      <td>Percy Jackson &amp; the Olympians: The Lightning T...</td>\n",
       "      <td>What's really lacking in The Lightning Thief i...</td>\n",
       "      <td>Rotten</td>\n",
       "      <td>Rotten</td>\n",
       "    </tr>\n",
       "  </tbody>\n",
       "</table>\n",
       "</div>"
      ],
      "text/plain": [
       "  rotten_tomatoes_link                                        movie_title  \\\n",
       "0            m/0814255  Percy Jackson & the Olympians: The Lightning T...   \n",
       "1            m/0814255  Percy Jackson & the Olympians: The Lightning T...   \n",
       "2            m/0814255  Percy Jackson & the Olympians: The Lightning T...   \n",
       "3            m/0814255  Percy Jackson & the Olympians: The Lightning T...   \n",
       "4            m/0814255  Percy Jackson & the Olympians: The Lightning T...   \n",
       "\n",
       "                                      review_content review_type  \\\n",
       "0  A fantasy adventure that fuses Greek mythology...       Fresh   \n",
       "1  Uma Thurman as Medusa, the gorgon with a coiff...       Fresh   \n",
       "2  With a top-notch cast and dazzling special eff...       Fresh   \n",
       "3  Whether audiences will get behind The Lightnin...       Fresh   \n",
       "4  What's really lacking in The Lightning Thief i...      Rotten   \n",
       "\n",
       "  tomatometer_status  \n",
       "0             Rotten  \n",
       "1             Rotten  \n",
       "2             Rotten  \n",
       "3             Rotten  \n",
       "4             Rotten  "
      ]
     },
     "execution_count": 47,
     "metadata": {},
     "output_type": "execute_result"
    }
   ],
   "source": [
    "df_merged = df_critics.merge(df_movie, how='inner', on=['rotten_tomatoes_link'])\n",
    "df_merged = df_merged[['rotten_tomatoes_link', 'movie_title', 'review_content', 'review_type', 'tomatometer_status']]\n",
    "df_merged.head()"
   ]
  },
  {
   "cell_type": "markdown",
   "id": "d5caeaf4-5a17-4f09-8209-90e2b1b39f28",
   "metadata": {},
   "source": [
    "let's filter out the missing value and take only the review_content variable, as well as plot the distribution of review_type after filtering out the missing values."
   ]
  },
  {
   "cell_type": "code",
   "execution_count": null,
   "id": "cb353078-9da8-4dbe-9a78-3cde8fa9d547",
   "metadata": {},
   "outputs": [],
   "source": [
    "df_merged = df_merged.dropna(subset=['review_content'])"
   ]
  },
  {
   "cell_type": "code",
   "execution_count": 48,
   "id": "9ad301d5-5190-4ced-bdaf-5ace69a4e1d2",
   "metadata": {},
   "outputs": [
    {
     "data": {
      "text/plain": [
       "[Text(0, 0, '30796'), Text(0, 0, '19204')]"
      ]
     },
     "execution_count": 48,
     "metadata": {},
     "output_type": "execute_result"
    },
    {
     "data": {
      "image/png": "[encoded data removed]",
      "text/plain": [
       "<Figure size 1200x900 with 1 Axes>"
      ]
     },
     "metadata": {},
     "output_type": "display_data"
    }
   ],
   "source": [
    "# Plot distribution of the review\n",
    "ax = df_merged.review_type.value_counts().plot(kind='bar', figsize=(12,9))\n",
    "ax.bar_label(ax.containers[0])"
   ]
  },
  {
   "cell_type": "markdown",
   "id": "554f8729-5ba6-4189-9c0d-d4169fcc8865",
   "metadata": {},
   "source": [
    "we have a pretty imbalanced distribution as well between our labels. This means that it will be beneficial to add class weight information during the training process.  \n",
    "we're going to do is encode our label from string representation ('Rotten' or 'Fresh') to their integer representation (0 for 'Rotten' and 1 for 'Fresh') with ordinal encoding."
   ]
  },
  {
   "cell_type": "code",
   "execution_count": 49,
   "id": "9cacde14-768d-409e-b353-3552e51c89f4",
   "metadata": {},
   "outputs": [
    {
     "data": {
      "text/html": [
       "<div>\n",
       "<style scoped>\n",
       "    .dataframe tbody tr th:only-of-type {\n",
       "        vertical-align: middle;\n",
       "    }\n",
       "\n",
       "    .dataframe tbody tr th {\n",
       "        vertical-align: top;\n",
       "    }\n",
       "\n",
       "    .dataframe thead th {\n",
       "        text-align: right;\n",
       "    }\n",
       "</style>\n",
       "<table border=\"1\" class=\"dataframe\">\n",
       "  <thead>\n",
       "    <tr style=\"text-align: right;\">\n",
       "      <th></th>\n",
       "      <th>review_content</th>\n",
       "      <th>review_type</th>\n",
       "    </tr>\n",
       "  </thead>\n",
       "  <tbody>\n",
       "    <tr>\n",
       "      <th>0</th>\n",
       "      <td>A fantasy adventure that fuses Greek mythology...</td>\n",
       "      <td>1</td>\n",
       "    </tr>\n",
       "    <tr>\n",
       "      <th>1</th>\n",
       "      <td>Uma Thurman as Medusa, the gorgon with a coiff...</td>\n",
       "      <td>1</td>\n",
       "    </tr>\n",
       "    <tr>\n",
       "      <th>2</th>\n",
       "      <td>With a top-notch cast and dazzling special eff...</td>\n",
       "      <td>1</td>\n",
       "    </tr>\n",
       "    <tr>\n",
       "      <th>3</th>\n",
       "      <td>Whether audiences will get behind The Lightnin...</td>\n",
       "      <td>1</td>\n",
       "    </tr>\n",
       "    <tr>\n",
       "      <th>4</th>\n",
       "      <td>What's really lacking in The Lightning Thief i...</td>\n",
       "      <td>0</td>\n",
       "    </tr>\n",
       "  </tbody>\n",
       "</table>\n",
       "</div>"
      ],
      "text/plain": [
       "                                      review_content  review_type\n",
       "0  A fantasy adventure that fuses Greek mythology...            1\n",
       "1  Uma Thurman as Medusa, the gorgon with a coiff...            1\n",
       "2  With a top-notch cast and dazzling special eff...            1\n",
       "3  Whether audiences will get behind The Lightnin...            1\n",
       "4  What's really lacking in The Lightning Thief i...            0"
      ]
     },
     "execution_count": 49,
     "metadata": {},
     "output_type": "execute_result"
    }
   ],
   "source": [
    "# Pick only 5000 entries from the original dataset\n",
    "df_sub = df_merged[0:5000]\n",
    "\n",
    "# Encode the label\n",
    "review_type = pd.DataFrame(df_sub.review_type.replace(['Rotten','Fresh'],[0,1]))\n",
    "\n",
    "# Build final dataframe\n",
    "df_feature_critics = pd.concat([df_sub[['review_content']]\n",
    "                        ,review_type], axis=1).dropna()\n",
    "df_feature_critics.head()"
   ]
  },
  {
   "cell_type": "code",
   "execution_count": 50,
   "id": "c75c86f8-a65a-45c4-a3e2-8e171b77ba8f",
   "metadata": {},
   "outputs": [],
   "source": [
    "X_train, X_test, y_train, y_test = train_test_split( df_feature_critics['review_content'], df_feature_critics['review_type'], test_size=0.2, random_state=42)"
   ]
  },
  {
   "cell_type": "markdown",
   "id": "18514167-7f6e-4624-9c33-ff5e71034600",
   "metadata": {
    "tags": []
   },
   "source": [
    "#### Default Random Forest\n",
    "Will use sklearn's CountVectorizer class"
   ]
  },
  {
   "cell_type": "code",
   "execution_count": 51,
   "id": "fff7b08d-c9fc-4ae5-a1cf-325190e3fe9c",
   "metadata": {},
   "outputs": [
    {
     "name": "stdout",
     "output_type": "stream",
     "text": [
      "              precision    recall  f1-score   support\n",
      "\n",
      "           0       0.70      0.59      0.64       465\n",
      "           1       0.66      0.76      0.70       480\n",
      "\n",
      "    accuracy                           0.68       945\n",
      "   macro avg       0.68      0.67      0.67       945\n",
      "weighted avg       0.68      0.68      0.67       945\n",
      "\n"
     ]
    },
    {
     "name": "stderr",
     "output_type": "stream",
     "text": [
      "/Users/bryancoronelnew/opt/anaconda3/envs/stratascratch/lib/python3.8/site-packages/sklearn/utils/deprecation.py:87: FutureWarning: Function plot_confusion_matrix is deprecated; Function `plot_confusion_matrix` is deprecated in 1.0 and will be removed in 1.2. Use one of the class methods: ConfusionMatrixDisplay.from_predictions or ConfusionMatrixDisplay.from_estimator.\n",
      "  warnings.warn(msg, category=FutureWarning)\n"
     ]
    },
    {
     "data": {
      "text/plain": [
       "<sklearn.metrics._plot.confusion_matrix.ConfusionMatrixDisplay at 0x7fe54ce9e220>"
      ]
     },
     "execution_count": 51,
     "metadata": {},
     "output_type": "execute_result"
    },
    {
     "data": {
      "image/png": "[encoded data removed]",
      "text/plain": [
       "<Figure size 1200x900 with 2 Axes>"
      ]
     },
     "metadata": {},
     "output_type": "display_data"
    }
   ],
   "source": [
    "# Instantiate vectorizer class\n",
    "vectorizer = CountVectorizer(min_df=1)\n",
    "\n",
    "# Transform our text data into vector\n",
    "X_train_vec = vectorizer.fit_transform(X_train).toarray()\n",
    "\n",
    "# Initialize random forest and train it\n",
    "rf = RandomForestClassifier(random_state=2)\n",
    "rf.fit(X_train_vec, y_train)\n",
    "\n",
    "# Predict and output classification report\n",
    "y_predicted = rf.predict(vectorizer.transform(X_test).toarray())\n",
    "\n",
    "print(classification_report(y_test, y_predicted))\n",
    "\n",
    "fig, ax = plt.subplots(figsize=(12, 9))\n",
    "plot_confusion_matrix(rf, vectorizer.transform(X_test).toarray(), y_test, cmap ='cividis', ax=ax)"
   ]
  },
  {
   "cell_type": "markdown",
   "id": "74c04b7a-513b-493c-8060-d642fde40c46",
   "metadata": {},
   "source": [
    "#### Weighted Random Forest\n",
    "the performance of our model is not that good. However, this in some sense quite expected since we're working only with 5000 entries instead of 100000 entries. Let's check whether we can improve the performance of our model by including the weight,"
   ]
  },
  {
   "cell_type": "code",
   "execution_count": 52,
   "id": "5a8cefca-9931-4de4-9713-84ea50650000",
   "metadata": {},
   "outputs": [
    {
     "data": {
      "text/plain": [
       "{0: 1.0472493345164153, 1: 0.956830158086745}"
      ]
     },
     "execution_count": 52,
     "metadata": {},
     "output_type": "execute_result"
    }
   ],
   "source": [
    "class_weight = compute_class_weight(class_weight= 'balanced', classes= np.unique(df_feature_critics.review_type), \n",
    "                      y = df_feature_critics.review_type.values)\n",
    "\n",
    "class_weight_dict = dict(zip(range(len(class_weight.tolist())), class_weight.tolist()))\n",
    "class_weight_dict"
   ]
  },
  {
   "cell_type": "markdown",
   "id": "0520e56d-4f08-45ea-a227-7117b1c9284b",
   "metadata": {},
   "source": [
    "Next, let's train the vectorized text data with our Random Forest classifier, this time with the additional information about class weight."
   ]
  },
  {
   "cell_type": "code",
   "execution_count": 59,
   "id": "d17a08cd-c386-4fd6-a23c-445b0e50257c",
   "metadata": {},
   "outputs": [
    {
     "name": "stdout",
     "output_type": "stream",
     "text": [
      "              precision    recall  f1-score   support\n",
      "\n",
      "           0       0.71      0.65      0.67       465\n",
      "           1       0.68      0.74      0.71       480\n",
      "\n",
      "    accuracy                           0.69       945\n",
      "   macro avg       0.69      0.69      0.69       945\n",
      "weighted avg       0.69      0.69      0.69       945\n",
      "\n"
     ]
    },
    {
     "name": "stderr",
     "output_type": "stream",
     "text": [
      "/Users/bryancoronelnew/opt/anaconda3/envs/stratascratch/lib/python3.8/site-packages/sklearn/utils/deprecation.py:87: FutureWarning: Function plot_confusion_matrix is deprecated; Function `plot_confusion_matrix` is deprecated in 1.0 and will be removed in 1.2. Use one of the class methods: ConfusionMatrixDisplay.from_predictions or ConfusionMatrixDisplay.from_estimator.\n",
      "  warnings.warn(msg, category=FutureWarning)\n"
     ]
    },
    {
     "data": {
      "text/plain": [
       "<sklearn.metrics._plot.confusion_matrix.ConfusionMatrixDisplay at 0x7fe54c88cd90>"
      ]
     },
     "execution_count": 59,
     "metadata": {},
     "output_type": "execute_result"
    },
    {
     "data": {
      "image/png": "[encoded data removed]",
      "text/plain": [
       "<Figure size 1200x900 with 2 Axes>"
      ]
     },
     "metadata": {},
     "output_type": "display_data"
    }
   ],
   "source": [
    "# Instantiate vectorizer class\n",
    "vectorizer = CountVectorizer(min_df=1)\n",
    "\n",
    "# Transform our text data into vector\n",
    "X_train_vec = vectorizer.fit_transform(X_train).toarray()\n",
    "\n",
    "# Initialize random forest and train it\n",
    "rf_weighted = RandomForestClassifier(random_state=2, class_weight=class_weight_dict)\n",
    "rf_weighted.fit(X_train_vec, y_train)\n",
    "\n",
    "# Predict and output classification report\n",
    "y_predicted = rf_weighted.predict(vectorizer.transform(X_test).toarray())\n",
    "\n",
    "print(classification_report(y_test, y_predicted))\n",
    "\n",
    "fig, ax = plt.subplots(figsize=(12, 9))\n",
    "plot_confusion_matrix(rf_weighted, vectorizer.transform(X_test).toarray(), y_test, cmap ='cividis', ax=ax)"
   ]
  },
  {
   "cell_type": "markdown",
   "id": "e1251f83-1260-484f-a472-90eeeade4bc9",
   "metadata": {},
   "source": [
    "the overall accuracy of our model after the inclusion of class weight is slightly better than the one without.  \n",
    "notice that since the weight of class 0 ('Rotten') is higher than class 1 ('Fresh'), now the model performs better in predicting movie reviews classified as 'Rotten', but worse in predicting movie reviews classified as 'Fresh', as the model pays more attention to the data that are classified as 'Rotten'."
   ]
  },
  {
   "cell_type": "markdown",
   "id": "09e142f7-921b-4489-b141-c5d6ca8af502",
   "metadata": {
    "tags": []
   },
   "source": [
    "### Movie Status Prediction\n",
    "1. gather all of the reviews from a particular movie\n",
    "2. Random Forest model to predict the status of each review (i.e 'Fresh' or 'Rotten')\n",
    "3. rule-based system described on Rotten Tomatoes website to classify the final status of a movie, based on the overall review status."
   ]
  },
  {
   "cell_type": "markdown",
   "id": "0eb28d46-9ce4-4b26-89a5-f082881008cc",
   "metadata": {},
   "source": [
    "Rotten Tomatoes classifies a movie as 'Fresh' if it receives at least 60% of positive reviews. Otherwise, 'Rotten'."
   ]
  },
  {
   "cell_type": "markdown",
   "id": "7afadc17-e69a-4a33-85ad-1581cb054c26",
   "metadata": {},
   "source": [
    "we sum the total number of reviews classified as 'Fresh' by the model, and then divide that number by the total number of reviews. If the result is above 60, then a movie will be classified as 'Fresh', otherwise 'Rotten'.  \n",
    "Let's create a function to compute the step described above."
   ]
  },
  {
   "cell_type": "code",
   "execution_count": 60,
   "id": "3bdf708c-2010-4f34-8943-a7766c2a910c",
   "metadata": {},
   "outputs": [],
   "source": [
    "def predict_movie_status(prediction):\n",
    "    \"\"\"Assign label (Fresh/Rotten) based on prediction\"\"\"\n",
    "    positive_percentage = (prediction == 1).sum()/len(prediction)*100\n",
    "    \n",
    "    prediction = 'Fresh' if positive_percentage >= 60 else 'Rotten'\n",
    "    \n",
    "    print(f'Positive review:{positive_percentage:.2f}%')\n",
    "    print(f'Movie status: {prediction}')"
   ]
  },
  {
   "cell_type": "markdown",
   "id": "d272c9b0-f16a-4293-bc17-19db8156547f",
   "metadata": {
    "tags": []
   },
   "source": [
    "##### 'Body of Lies' Prediction"
   ]
  },
  {
   "cell_type": "markdown",
   "id": "881a3482-8c03-41a8-a558-fda8138e6469",
   "metadata": {},
   "source": [
    "First, we gather all of the reviews associated with Body of Lies movie"
   ]
  },
  {
   "cell_type": "code",
   "execution_count": 61,
   "id": "72c27eaa-1abd-442a-a435-ee82759ba0cf",
   "metadata": {},
   "outputs": [
    {
     "data": {
      "text/html": [
       "<div>\n",
       "<style scoped>\n",
       "    .dataframe tbody tr th:only-of-type {\n",
       "        vertical-align: middle;\n",
       "    }\n",
       "\n",
       "    .dataframe tbody tr th {\n",
       "        vertical-align: top;\n",
       "    }\n",
       "\n",
       "    .dataframe thead th {\n",
       "        text-align: right;\n",
       "    }\n",
       "</style>\n",
       "<table border=\"1\" class=\"dataframe\">\n",
       "  <thead>\n",
       "    <tr style=\"text-align: right;\">\n",
       "      <th></th>\n",
       "      <th>rotten_tomatoes_link</th>\n",
       "      <th>movie_title</th>\n",
       "      <th>review_content</th>\n",
       "      <th>review_type</th>\n",
       "      <th>tomatometer_status</th>\n",
       "    </tr>\n",
       "  </thead>\n",
       "  <tbody>\n",
       "    <tr>\n",
       "      <th>7382</th>\n",
       "      <td>m/10009225-body_of_lies</td>\n",
       "      <td>Body of Lies</td>\n",
       "      <td>DiCaprio (not Crowe) is in top form in Scott's...</td>\n",
       "      <td>Fresh</td>\n",
       "      <td>Rotten</td>\n",
       "    </tr>\n",
       "    <tr>\n",
       "      <th>7383</th>\n",
       "      <td>m/10009225-body_of_lies</td>\n",
       "      <td>Body of Lies</td>\n",
       "      <td>Neither the location-based verisimilitude of R...</td>\n",
       "      <td>Rotten</td>\n",
       "      <td>Rotten</td>\n",
       "    </tr>\n",
       "    <tr>\n",
       "      <th>7384</th>\n",
       "      <td>m/10009225-body_of_lies</td>\n",
       "      <td>Body of Lies</td>\n",
       "      <td>DiCaprio gives the role plenty of brio, while ...</td>\n",
       "      <td>Fresh</td>\n",
       "      <td>Rotten</td>\n",
       "    </tr>\n",
       "    <tr>\n",
       "      <th>7385</th>\n",
       "      <td>m/10009225-body_of_lies</td>\n",
       "      <td>Body of Lies</td>\n",
       "      <td>Convincing and gripping, Body of Lies is at th...</td>\n",
       "      <td>Fresh</td>\n",
       "      <td>Rotten</td>\n",
       "    </tr>\n",
       "    <tr>\n",
       "      <th>7386</th>\n",
       "      <td>m/10009225-body_of_lies</td>\n",
       "      <td>Body of Lies</td>\n",
       "      <td>Lies and consequences form the heart of this b...</td>\n",
       "      <td>Fresh</td>\n",
       "      <td>Rotten</td>\n",
       "    </tr>\n",
       "  </tbody>\n",
       "</table>\n",
       "</div>"
      ],
      "text/plain": [
       "         rotten_tomatoes_link   movie_title  \\\n",
       "7382  m/10009225-body_of_lies  Body of Lies   \n",
       "7383  m/10009225-body_of_lies  Body of Lies   \n",
       "7384  m/10009225-body_of_lies  Body of Lies   \n",
       "7385  m/10009225-body_of_lies  Body of Lies   \n",
       "7386  m/10009225-body_of_lies  Body of Lies   \n",
       "\n",
       "                                         review_content review_type  \\\n",
       "7382  DiCaprio (not Crowe) is in top form in Scott's...       Fresh   \n",
       "7383  Neither the location-based verisimilitude of R...      Rotten   \n",
       "7384  DiCaprio gives the role plenty of brio, while ...       Fresh   \n",
       "7385  Convincing and gripping, Body of Lies is at th...       Fresh   \n",
       "7386  Lies and consequences form the heart of this b...       Fresh   \n",
       "\n",
       "     tomatometer_status  \n",
       "7382             Rotten  \n",
       "7383             Rotten  \n",
       "7384             Rotten  \n",
       "7385             Rotten  \n",
       "7386             Rotten  "
      ]
     },
     "execution_count": 61,
     "metadata": {},
     "output_type": "execute_result"
    }
   ],
   "source": [
    "# Gather all of the reviews of Body of Lies movie\n",
    "df_bol = df_merged.loc[df_merged['movie_title'] == 'Body of Lies']\n",
    "df_bol.head()"
   ]
  },
  {
   "cell_type": "markdown",
   "id": "5b34b7fc-8482-4c05-b645-931f798eb3c2",
   "metadata": {},
   "source": [
    "Now that we have gathered all of the reviews, next we use our Random Forest model to predict the status of each review. Then, we pass the model's prediction to the function we created above to predict the final status of the movie."
   ]
  },
  {
   "cell_type": "code",
   "execution_count": 76,
   "id": "df395ead-d7c3-4a1b-a2e7-abc5b97e6b11",
   "metadata": {},
   "outputs": [
    {
     "data": {
      "text/html": [
       "<div>\n",
       "<style scoped>\n",
       "    .dataframe tbody tr th:only-of-type {\n",
       "        vertical-align: middle;\n",
       "    }\n",
       "\n",
       "    .dataframe tbody tr th {\n",
       "        vertical-align: top;\n",
       "    }\n",
       "\n",
       "    .dataframe thead th {\n",
       "        text-align: right;\n",
       "    }\n",
       "</style>\n",
       "<table border=\"1\" class=\"dataframe\">\n",
       "  <thead>\n",
       "    <tr style=\"text-align: right;\">\n",
       "      <th></th>\n",
       "      <th>rotten_tomatoes_link</th>\n",
       "      <th>movie_title</th>\n",
       "      <th>review_content</th>\n",
       "      <th>review_type</th>\n",
       "      <th>tomatometer_status</th>\n",
       "    </tr>\n",
       "  </thead>\n",
       "  <tbody>\n",
       "    <tr>\n",
       "      <th>7406</th>\n",
       "      <td>m/10009225-body_of_lies</td>\n",
       "      <td>Body of Lies</td>\n",
       "      <td>NaN</td>\n",
       "      <td>Fresh</td>\n",
       "      <td>Rotten</td>\n",
       "    </tr>\n",
       "    <tr>\n",
       "      <th>7407</th>\n",
       "      <td>m/10009225-body_of_lies</td>\n",
       "      <td>Body of Lies</td>\n",
       "      <td>NaN</td>\n",
       "      <td>Fresh</td>\n",
       "      <td>Rotten</td>\n",
       "    </tr>\n",
       "    <tr>\n",
       "      <th>7408</th>\n",
       "      <td>m/10009225-body_of_lies</td>\n",
       "      <td>Body of Lies</td>\n",
       "      <td>NaN</td>\n",
       "      <td>Fresh</td>\n",
       "      <td>Rotten</td>\n",
       "    </tr>\n",
       "    <tr>\n",
       "      <th>7528</th>\n",
       "      <td>m/10009225-body_of_lies</td>\n",
       "      <td>Body of Lies</td>\n",
       "      <td>NaN</td>\n",
       "      <td>Fresh</td>\n",
       "      <td>Rotten</td>\n",
       "    </tr>\n",
       "    <tr>\n",
       "      <th>7531</th>\n",
       "      <td>m/10009225-body_of_lies</td>\n",
       "      <td>Body of Lies</td>\n",
       "      <td>NaN</td>\n",
       "      <td>Fresh</td>\n",
       "      <td>Rotten</td>\n",
       "    </tr>\n",
       "    <tr>\n",
       "      <th>7533</th>\n",
       "      <td>m/10009225-body_of_lies</td>\n",
       "      <td>Body of Lies</td>\n",
       "      <td>NaN</td>\n",
       "      <td>Fresh</td>\n",
       "      <td>Rotten</td>\n",
       "    </tr>\n",
       "    <tr>\n",
       "      <th>7581</th>\n",
       "      <td>m/10009225-body_of_lies</td>\n",
       "      <td>Body of Lies</td>\n",
       "      <td>NaN</td>\n",
       "      <td>Fresh</td>\n",
       "      <td>Rotten</td>\n",
       "    </tr>\n",
       "    <tr>\n",
       "      <th>7583</th>\n",
       "      <td>m/10009225-body_of_lies</td>\n",
       "      <td>Body of Lies</td>\n",
       "      <td>NaN</td>\n",
       "      <td>Fresh</td>\n",
       "      <td>Rotten</td>\n",
       "    </tr>\n",
       "    <tr>\n",
       "      <th>7584</th>\n",
       "      <td>m/10009225-body_of_lies</td>\n",
       "      <td>Body of Lies</td>\n",
       "      <td>NaN</td>\n",
       "      <td>Fresh</td>\n",
       "      <td>Rotten</td>\n",
       "    </tr>\n",
       "  </tbody>\n",
       "</table>\n",
       "</div>"
      ],
      "text/plain": [
       "         rotten_tomatoes_link   movie_title review_content review_type  \\\n",
       "7406  m/10009225-body_of_lies  Body of Lies            NaN       Fresh   \n",
       "7407  m/10009225-body_of_lies  Body of Lies            NaN       Fresh   \n",
       "7408  m/10009225-body_of_lies  Body of Lies            NaN       Fresh   \n",
       "7528  m/10009225-body_of_lies  Body of Lies            NaN       Fresh   \n",
       "7531  m/10009225-body_of_lies  Body of Lies            NaN       Fresh   \n",
       "7533  m/10009225-body_of_lies  Body of Lies            NaN       Fresh   \n",
       "7581  m/10009225-body_of_lies  Body of Lies            NaN       Fresh   \n",
       "7583  m/10009225-body_of_lies  Body of Lies            NaN       Fresh   \n",
       "7584  m/10009225-body_of_lies  Body of Lies            NaN       Fresh   \n",
       "\n",
       "     tomatometer_status  \n",
       "7406             Rotten  \n",
       "7407             Rotten  \n",
       "7408             Rotten  \n",
       "7528             Rotten  \n",
       "7531             Rotten  \n",
       "7533             Rotten  \n",
       "7581             Rotten  \n",
       "7583             Rotten  \n",
       "7584             Rotten  "
      ]
     },
     "execution_count": 76,
     "metadata": {},
     "output_type": "execute_result"
    }
   ],
   "source": [
    "df_bol[df_bol['review_content'].isna()]"
   ]
  },
  {
   "cell_type": "code",
   "execution_count": 72,
   "id": "c58f077d-7e46-4c81-9ba6-ff719549ab8c",
   "metadata": {},
   "outputs": [
    {
     "name": "stdout",
     "output_type": "stream",
     "text": [
      "Positive review:60.29%\n",
      "Movie status: Fresh\n"
     ]
    }
   ],
   "source": [
    "y_predicted_bol = rf_weighted.predict(vectorizer.transform(df_bol['review_content'].dropna()).toarray())\n",
    "predict_movie_status(y_predicted_bol)"
   ]
  },
  {
   "cell_type": "code",
   "execution_count": 73,
   "id": "8541140c-0a9a-45da-ab30-04c93d63f1b6",
   "metadata": {},
   "outputs": [
    {
     "data": {
      "text/plain": [
       "array(['Rotten'], dtype=object)"
      ]
     },
     "execution_count": 73,
     "metadata": {},
     "output_type": "execute_result"
    }
   ],
   "source": [
    "df_merged['tomatometer_status'].loc[df_merged['movie_title'] == 'Body of Lies'].unique()"
   ]
  },
  {
   "cell_type": "markdown",
   "id": "65fcf47d-2710-4b23-8eb8-4f4e0932a3a0",
   "metadata": {
    "tags": []
   },
   "source": [
    "##### 'Angel Heart' Prediction"
   ]
  },
  {
   "cell_type": "code",
   "execution_count": 77,
   "id": "0ca46c75-fa6f-4a89-9cac-e309f8bdf7c8",
   "metadata": {},
   "outputs": [
    {
     "data": {
      "text/html": [
       "<div>\n",
       "<style scoped>\n",
       "    .dataframe tbody tr th:only-of-type {\n",
       "        vertical-align: middle;\n",
       "    }\n",
       "\n",
       "    .dataframe tbody tr th {\n",
       "        vertical-align: top;\n",
       "    }\n",
       "\n",
       "    .dataframe thead th {\n",
       "        text-align: right;\n",
       "    }\n",
       "</style>\n",
       "<table border=\"1\" class=\"dataframe\">\n",
       "  <thead>\n",
       "    <tr style=\"text-align: right;\">\n",
       "      <th></th>\n",
       "      <th>rotten_tomatoes_link</th>\n",
       "      <th>movie_title</th>\n",
       "      <th>review_content</th>\n",
       "      <th>review_type</th>\n",
       "      <th>tomatometer_status</th>\n",
       "    </tr>\n",
       "  </thead>\n",
       "  <tbody>\n",
       "    <tr>\n",
       "      <th>9240</th>\n",
       "      <td>m/1000959-angel_heart</td>\n",
       "      <td>Angel Heart</td>\n",
       "      <td>Angel Heart is a thriller and a horror movie, ...</td>\n",
       "      <td>Fresh</td>\n",
       "      <td>Fresh</td>\n",
       "    </tr>\n",
       "    <tr>\n",
       "      <th>9241</th>\n",
       "      <td>m/1000959-angel_heart</td>\n",
       "      <td>Angel Heart</td>\n",
       "      <td>NaN</td>\n",
       "      <td>Fresh</td>\n",
       "      <td>Fresh</td>\n",
       "    </tr>\n",
       "    <tr>\n",
       "      <th>9242</th>\n",
       "      <td>m/1000959-angel_heart</td>\n",
       "      <td>Angel Heart</td>\n",
       "      <td>NaN</td>\n",
       "      <td>Fresh</td>\n",
       "      <td>Fresh</td>\n",
       "    </tr>\n",
       "    <tr>\n",
       "      <th>9243</th>\n",
       "      <td>m/1000959-angel_heart</td>\n",
       "      <td>Angel Heart</td>\n",
       "      <td>NaN</td>\n",
       "      <td>Fresh</td>\n",
       "      <td>Fresh</td>\n",
       "    </tr>\n",
       "    <tr>\n",
       "      <th>9244</th>\n",
       "      <td>m/1000959-angel_heart</td>\n",
       "      <td>Angel Heart</td>\n",
       "      <td>NaN</td>\n",
       "      <td>Fresh</td>\n",
       "      <td>Fresh</td>\n",
       "    </tr>\n",
       "  </tbody>\n",
       "</table>\n",
       "</div>"
      ],
      "text/plain": [
       "       rotten_tomatoes_link  movie_title  \\\n",
       "9240  m/1000959-angel_heart  Angel Heart   \n",
       "9241  m/1000959-angel_heart  Angel Heart   \n",
       "9242  m/1000959-angel_heart  Angel Heart   \n",
       "9243  m/1000959-angel_heart  Angel Heart   \n",
       "9244  m/1000959-angel_heart  Angel Heart   \n",
       "\n",
       "                                         review_content review_type  \\\n",
       "9240  Angel Heart is a thriller and a horror movie, ...       Fresh   \n",
       "9241                                                NaN       Fresh   \n",
       "9242                                                NaN       Fresh   \n",
       "9243                                                NaN       Fresh   \n",
       "9244                                                NaN       Fresh   \n",
       "\n",
       "     tomatometer_status  \n",
       "9240              Fresh  \n",
       "9241              Fresh  \n",
       "9242              Fresh  \n",
       "9243              Fresh  \n",
       "9244              Fresh  "
      ]
     },
     "execution_count": 77,
     "metadata": {},
     "output_type": "execute_result"
    }
   ],
   "source": [
    "# Gather all of the reviews of Anna Karenina movie\n",
    "df_ah = df_merged.loc[df_merged['movie_title'] == 'Angel Heart']\n",
    "df_ah.head()"
   ]
  },
  {
   "cell_type": "code",
   "execution_count": 79,
   "id": "9e229548-3937-44e3-99e5-1f7473027ca1",
   "metadata": {},
   "outputs": [
    {
     "name": "stdout",
     "output_type": "stream",
     "text": [
      "Positive review:72.22%\n",
      "Movie status: Fresh\n"
     ]
    }
   ],
   "source": [
    "y_predicted_ah = rf_weighted.predict(vectorizer.transform(df_ah['review_content'].dropna()).toarray())\n",
    "predict_movie_status(y_predicted_ah)"
   ]
  },
  {
   "cell_type": "code",
   "execution_count": 81,
   "id": "e19439f2-4428-4e4f-b4e0-6119193cd238",
   "metadata": {},
   "outputs": [
    {
     "data": {
      "text/plain": [
       "array(['Fresh'], dtype=object)"
      ]
     },
     "execution_count": 81,
     "metadata": {},
     "output_type": "execute_result"
    }
   ],
   "source": [
    "df_merged['tomatometer_status'].loc[df_merged['movie_title'] == 'Angel Heart'].unique()"
   ]
  },
  {
   "cell_type": "markdown",
   "id": "b746a08d-8294-4e7b-a228-de54f3154215",
   "metadata": {},
   "source": [
    "##### 'The Duchess' Prediction\n"
   ]
  },
  {
   "cell_type": "code",
   "execution_count": 82,
   "id": "f37d23b4-f13d-4926-91f0-a2675b3f1899",
   "metadata": {},
   "outputs": [
    {
     "data": {
      "text/html": [
       "<div>\n",
       "<style scoped>\n",
       "    .dataframe tbody tr th:only-of-type {\n",
       "        vertical-align: middle;\n",
       "    }\n",
       "\n",
       "    .dataframe tbody tr th {\n",
       "        vertical-align: top;\n",
       "    }\n",
       "\n",
       "    .dataframe thead th {\n",
       "        text-align: right;\n",
       "    }\n",
       "</style>\n",
       "<table border=\"1\" class=\"dataframe\">\n",
       "  <thead>\n",
       "    <tr style=\"text-align: right;\">\n",
       "      <th></th>\n",
       "      <th>rotten_tomatoes_link</th>\n",
       "      <th>movie_title</th>\n",
       "      <th>review_content</th>\n",
       "      <th>review_type</th>\n",
       "      <th>tomatometer_status</th>\n",
       "    </tr>\n",
       "  </thead>\n",
       "  <tbody>\n",
       "    <tr>\n",
       "      <th>8558</th>\n",
       "      <td>m/10009493-duchess</td>\n",
       "      <td>The Duchess</td>\n",
       "      <td>For all its luscious period trappings and Keir...</td>\n",
       "      <td>Rotten</td>\n",
       "      <td>Fresh</td>\n",
       "    </tr>\n",
       "    <tr>\n",
       "      <th>8559</th>\n",
       "      <td>m/10009493-duchess</td>\n",
       "      <td>The Duchess</td>\n",
       "      <td>Solid but distant melodrama about the flamboya...</td>\n",
       "      <td>Fresh</td>\n",
       "      <td>Fresh</td>\n",
       "    </tr>\n",
       "    <tr>\n",
       "      <th>8560</th>\n",
       "      <td>m/10009493-duchess</td>\n",
       "      <td>The Duchess</td>\n",
       "      <td>It could have been an intriguing, poignant sag...</td>\n",
       "      <td>Rotten</td>\n",
       "      <td>Fresh</td>\n",
       "    </tr>\n",
       "    <tr>\n",
       "      <th>8561</th>\n",
       "      <td>m/10009493-duchess</td>\n",
       "      <td>The Duchess</td>\n",
       "      <td>Has riveting parallels with much more recent B...</td>\n",
       "      <td>Fresh</td>\n",
       "      <td>Fresh</td>\n",
       "    </tr>\n",
       "    <tr>\n",
       "      <th>8562</th>\n",
       "      <td>m/10009493-duchess</td>\n",
       "      <td>The Duchess</td>\n",
       "      <td>Ralph Fiennes steals it as the dour duke in a ...</td>\n",
       "      <td>Fresh</td>\n",
       "      <td>Fresh</td>\n",
       "    </tr>\n",
       "  </tbody>\n",
       "</table>\n",
       "</div>"
      ],
      "text/plain": [
       "     rotten_tomatoes_link  movie_title  \\\n",
       "8558   m/10009493-duchess  The Duchess   \n",
       "8559   m/10009493-duchess  The Duchess   \n",
       "8560   m/10009493-duchess  The Duchess   \n",
       "8561   m/10009493-duchess  The Duchess   \n",
       "8562   m/10009493-duchess  The Duchess   \n",
       "\n",
       "                                         review_content review_type  \\\n",
       "8558  For all its luscious period trappings and Keir...      Rotten   \n",
       "8559  Solid but distant melodrama about the flamboya...       Fresh   \n",
       "8560  It could have been an intriguing, poignant sag...      Rotten   \n",
       "8561  Has riveting parallels with much more recent B...       Fresh   \n",
       "8562  Ralph Fiennes steals it as the dour duke in a ...       Fresh   \n",
       "\n",
       "     tomatometer_status  \n",
       "8558              Fresh  \n",
       "8559              Fresh  \n",
       "8560              Fresh  \n",
       "8561              Fresh  \n",
       "8562              Fresh  "
      ]
     },
     "execution_count": 82,
     "metadata": {},
     "output_type": "execute_result"
    }
   ],
   "source": [
    "# Gather all of the reviews of The Duchess movie \n",
    "df_duchess = df_merged.loc[df_merged['movie_title'] == 'The Duchess']\n",
    "df_duchess.head()"
   ]
  },
  {
   "cell_type": "code",
   "execution_count": 84,
   "id": "a1345d78-b454-416e-ab03-199c0f6e54be",
   "metadata": {},
   "outputs": [
    {
     "name": "stdout",
     "output_type": "stream",
     "text": [
      "Positive review:61.35%\n",
      "Movie status: Fresh\n"
     ]
    }
   ],
   "source": [
    "y_predicted_duchess = rf_weighted.predict(vectorizer.transform(df_duchess['review_content'].dropna()).toarray())\n",
    "predict_movie_status(y_predicted_duchess)"
   ]
  },
  {
   "cell_type": "code",
   "execution_count": 85,
   "id": "909d7763-954d-474b-a4e5-9f21d5faf2b2",
   "metadata": {},
   "outputs": [
    {
     "data": {
      "text/plain": [
       "array(['Fresh'], dtype=object)"
      ]
     },
     "execution_count": 85,
     "metadata": {},
     "output_type": "execute_result"
    }
   ],
   "source": [
    "df_merged['tomatometer_status'].loc[df_merged['movie_title'] == 'The Duchess'].unique()\n"
   ]
  },
  {
   "cell_type": "markdown",
   "id": "c8aaf7eb-022b-4a69-a843-8d486eba0082",
   "metadata": {},
   "source": [
    "We go 2/3 for predictions, but slight changes in performance could change this in either direction"
   ]
  },
  {
   "cell_type": "markdown",
   "id": "3347e5d6-bd8b-4948-b8bc-0bcabed49dc8",
   "metadata": {
    "tags": []
   },
   "source": [
    "### Performance Improvement Tips\n",
    "The performance of our model above is still not optimal yet, as we definitely can improve the metrics score"
   ]
  },
  {
   "cell_type": "markdown",
   "id": "0b928624-7632-4836-ba72-a3fce0e1ac07",
   "metadata": {},
   "source": [
    "1. Train our random forest classifier model on more data, as we currently trained our model only with 5000 data\n",
    "2. Tune the hyperparameter of the random forest model such as the number of decision trees, maximum depth of each tree, etc\n",
    "3. Train machine learning algorithms other than the random forest on the same data, for example, logistic regression, k-Nearest Neighbors, Support Vector Machine, or even Neural Networks\n",
    "4. Change the approach to represent our text data. Currently, our approach is to build a vector of token counts and take a look if another approach, for example hashing vectorizer or TF-IDF vectorizer, performs better on our random forest model"
   ]
  }
 ],
 "metadata": {
  "kernelspec": {
   "display_name": "Python 3 (ipykernel)",
   "language": "python",
   "name": "python3"
  },
  "language_info": {
   "codemirror_mode": {
    "name": "ipython",
    "version": 3
   },
   "file_extension": ".py",
   "mimetype": "text/x-python",
   "name": "python",
   "nbconvert_exporter": "python",
   "pygments_lexer": "ipython3",
   "version": "3.8.15"
  }
 },
 "nbformat": 4,
 "nbformat_minor": 5
}
