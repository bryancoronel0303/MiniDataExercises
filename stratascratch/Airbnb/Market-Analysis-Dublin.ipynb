{
 "cells": [
  {
   "cell_type": "markdown",
   "id": "e7c29399-eb92-477f-8cb8-3ec904a7d18e",
   "metadata": {},
   "source": [
    "### What are some ideas Airbnb would likely want to understand?\n",
    "\n",
    "1. What guests are searching in Dublin?  \n",
    "2. Which inquiries do hosts tend to accept?  \n",
    "3. What gaps exist between guest demand and host supply?  \n",
    "4. Does an indirect combination of data reveal new info?  \n",
    "\n",
    "The goal is to analyze, understand, visualize, and communicate the demand/supply of the market in Dublin"
   ]
  },
  {
   "cell_type": "markdown",
   "id": "a20d16c8-2bcb-431d-8346-3f3c59ab59b1",
   "metadata": {},
   "source": [
    "#### Data Exploration"
   ]
  },
  {
   "cell_type": "code",
   "execution_count": 2,
   "id": "7606a127-19ef-4a24-8523-30db7175c023",
   "metadata": {},
   "outputs": [],
   "source": [
    "# first import dependecies\n",
    "import pandas as pd\n",
    "import numpy as np\n",
    "import seaborn as sns\n",
    "import matplotlib.pyplot as plt\n",
    "\n",
    "# import data from different csv files\n",
    "# this should be good practice if we have to join them along some column\n",
    "contacts = pd.read_csv(\"./data/contacts.tsv\", sep=\"\\t\")\n",
    "searches = pd.read_csv(\"./data/searches.tsv\", sep=\"\\t\")"
   ]
  },
  {
   "cell_type": "code",
   "execution_count": 3,
   "id": "803e8774-3ec8-4591-9389-c8cb568ea671",
   "metadata": {},
   "outputs": [
    {
     "name": "stdout",
     "output_type": "stream",
     "text": [
      "Contacts\n",
      "id_guest          0.000000\n",
      "id_host           0.000000\n",
      "id_listing        0.000000\n",
      "ts_contact_at     0.000000\n",
      "ts_reply_at       0.077208\n",
      "ts_accepted_at    0.536367\n",
      "ts_booking_at     0.722101\n",
      "ds_checkin        0.000000\n",
      "ds_checkout       0.000000\n",
      "n_guests          0.000000\n",
      "n_messages        0.000000\n",
      "dtype: float64 \n",
      "\n",
      "Searches\n",
      "ds                      0.000000\n",
      "id_user                 0.000000\n",
      "ds_checkin              0.331561\n",
      "ds_checkout             0.331561\n",
      "n_searches              0.000000\n",
      "n_nights                0.331561\n",
      "n_guests_min            0.000000\n",
      "n_guests_max            0.000000\n",
      "origin_country          0.000000\n",
      "filter_price_min        0.627221\n",
      "filter_price_max        0.627221\n",
      "filter_room_types       0.546940\n",
      "filter_neighborhoods    0.962336\n",
      "dtype: float64\n"
     ]
    }
   ],
   "source": [
    "# Find % of null values in datasets \n",
    "print('Contacts')\n",
    "print(contacts.isna().sum()/len(contacts), '\\n')\n",
    "print('Searches')\n",
    "print(searches.isna().sum()/len(searches))"
   ]
  },
  {
   "cell_type": "markdown",
   "id": "48befab5-0ce3-471a-9156-4046b0b2f60e",
   "metadata": {},
   "source": [
    "The neighborhood column in searches returns 96.2336%, which would give any future model trouble learning. \n",
    "It's probably a good idea just to drop it"
   ]
  },
  {
   "cell_type": "code",
   "execution_count": 5,
   "id": "3f6cc3ab-3569-45ee-8bf8-169ca52b0daf",
   "metadata": {
    "collapsed": true,
    "jupyter": {
     "outputs_hidden": true
    },
    "tags": []
   },
   "outputs": [
    {
     "ename": "KeyError",
     "evalue": "\"['filter_neighborhoods'] not found in axis\"",
     "output_type": "error",
     "traceback": [
      "\u001b[0;31m---------------------------------------------------------------------------\u001b[0m",
      "\u001b[0;31mKeyError\u001b[0m                                  Traceback (most recent call last)",
      "Cell \u001b[0;32mIn[5], line 1\u001b[0m\n\u001b[0;32m----> 1\u001b[0m searches \u001b[38;5;241m=\u001b[39m \u001b[43msearches\u001b[49m\u001b[38;5;241;43m.\u001b[39;49m\u001b[43mdrop\u001b[49m\u001b[43m(\u001b[49m\u001b[43mcolumns\u001b[49m\u001b[38;5;241;43m=\u001b[39;49m\u001b[43m[\u001b[49m\u001b[38;5;124;43m'\u001b[39;49m\u001b[38;5;124;43mfilter_neighborhoods\u001b[39;49m\u001b[38;5;124;43m'\u001b[39;49m\u001b[43m]\u001b[49m\u001b[43m)\u001b[49m\n",
      "File \u001b[0;32m~/opt/anaconda3/envs/stratascratch/lib/python3.8/site-packages/pandas/util/_decorators.py:331\u001b[0m, in \u001b[0;36mdeprecate_nonkeyword_arguments.<locals>.decorate.<locals>.wrapper\u001b[0;34m(*args, **kwargs)\u001b[0m\n\u001b[1;32m    325\u001b[0m \u001b[38;5;28;01mif\u001b[39;00m \u001b[38;5;28mlen\u001b[39m(args) \u001b[38;5;241m>\u001b[39m num_allow_args:\n\u001b[1;32m    326\u001b[0m     warnings\u001b[38;5;241m.\u001b[39mwarn(\n\u001b[1;32m    327\u001b[0m         msg\u001b[38;5;241m.\u001b[39mformat(arguments\u001b[38;5;241m=\u001b[39m_format_argument_list(allow_args)),\n\u001b[1;32m    328\u001b[0m         \u001b[38;5;167;01mFutureWarning\u001b[39;00m,\n\u001b[1;32m    329\u001b[0m         stacklevel\u001b[38;5;241m=\u001b[39mfind_stack_level(),\n\u001b[1;32m    330\u001b[0m     )\n\u001b[0;32m--> 331\u001b[0m \u001b[38;5;28;01mreturn\u001b[39;00m \u001b[43mfunc\u001b[49m\u001b[43m(\u001b[49m\u001b[38;5;241;43m*\u001b[39;49m\u001b[43margs\u001b[49m\u001b[43m,\u001b[49m\u001b[43m \u001b[49m\u001b[38;5;241;43m*\u001b[39;49m\u001b[38;5;241;43m*\u001b[39;49m\u001b[43mkwargs\u001b[49m\u001b[43m)\u001b[49m\n",
      "File \u001b[0;32m~/opt/anaconda3/envs/stratascratch/lib/python3.8/site-packages/pandas/core/frame.py:5396\u001b[0m, in \u001b[0;36mDataFrame.drop\u001b[0;34m(self, labels, axis, index, columns, level, inplace, errors)\u001b[0m\n\u001b[1;32m   5248\u001b[0m \u001b[38;5;129m@deprecate_nonkeyword_arguments\u001b[39m(version\u001b[38;5;241m=\u001b[39m\u001b[38;5;28;01mNone\u001b[39;00m, allowed_args\u001b[38;5;241m=\u001b[39m[\u001b[38;5;124m\"\u001b[39m\u001b[38;5;124mself\u001b[39m\u001b[38;5;124m\"\u001b[39m, \u001b[38;5;124m\"\u001b[39m\u001b[38;5;124mlabels\u001b[39m\u001b[38;5;124m\"\u001b[39m])\n\u001b[1;32m   5249\u001b[0m \u001b[38;5;28;01mdef\u001b[39;00m \u001b[38;5;21mdrop\u001b[39m(  \u001b[38;5;66;03m# type: ignore[override]\u001b[39;00m\n\u001b[1;32m   5250\u001b[0m     \u001b[38;5;28mself\u001b[39m,\n\u001b[0;32m   (...)\u001b[0m\n\u001b[1;32m   5257\u001b[0m     errors: IgnoreRaise \u001b[38;5;241m=\u001b[39m \u001b[38;5;124m\"\u001b[39m\u001b[38;5;124mraise\u001b[39m\u001b[38;5;124m\"\u001b[39m,\n\u001b[1;32m   5258\u001b[0m ) \u001b[38;5;241m-\u001b[39m\u001b[38;5;241m>\u001b[39m DataFrame \u001b[38;5;241m|\u001b[39m \u001b[38;5;28;01mNone\u001b[39;00m:\n\u001b[1;32m   5259\u001b[0m     \u001b[38;5;124;03m\"\"\"\u001b[39;00m\n\u001b[1;32m   5260\u001b[0m \u001b[38;5;124;03m    Drop specified labels from rows or columns.\u001b[39;00m\n\u001b[1;32m   5261\u001b[0m \n\u001b[0;32m   (...)\u001b[0m\n\u001b[1;32m   5394\u001b[0m \u001b[38;5;124;03m            weight  1.0     0.8\u001b[39;00m\n\u001b[1;32m   5395\u001b[0m \u001b[38;5;124;03m    \"\"\"\u001b[39;00m\n\u001b[0;32m-> 5396\u001b[0m     \u001b[38;5;28;01mreturn\u001b[39;00m \u001b[38;5;28;43msuper\u001b[39;49m\u001b[43m(\u001b[49m\u001b[43m)\u001b[49m\u001b[38;5;241;43m.\u001b[39;49m\u001b[43mdrop\u001b[49m\u001b[43m(\u001b[49m\n\u001b[1;32m   5397\u001b[0m \u001b[43m        \u001b[49m\u001b[43mlabels\u001b[49m\u001b[38;5;241;43m=\u001b[39;49m\u001b[43mlabels\u001b[49m\u001b[43m,\u001b[49m\n\u001b[1;32m   5398\u001b[0m \u001b[43m        \u001b[49m\u001b[43maxis\u001b[49m\u001b[38;5;241;43m=\u001b[39;49m\u001b[43maxis\u001b[49m\u001b[43m,\u001b[49m\n\u001b[1;32m   5399\u001b[0m \u001b[43m        \u001b[49m\u001b[43mindex\u001b[49m\u001b[38;5;241;43m=\u001b[39;49m\u001b[43mindex\u001b[49m\u001b[43m,\u001b[49m\n\u001b[1;32m   5400\u001b[0m \u001b[43m        \u001b[49m\u001b[43mcolumns\u001b[49m\u001b[38;5;241;43m=\u001b[39;49m\u001b[43mcolumns\u001b[49m\u001b[43m,\u001b[49m\n\u001b[1;32m   5401\u001b[0m \u001b[43m        \u001b[49m\u001b[43mlevel\u001b[49m\u001b[38;5;241;43m=\u001b[39;49m\u001b[43mlevel\u001b[49m\u001b[43m,\u001b[49m\n\u001b[1;32m   5402\u001b[0m \u001b[43m        \u001b[49m\u001b[43minplace\u001b[49m\u001b[38;5;241;43m=\u001b[39;49m\u001b[43minplace\u001b[49m\u001b[43m,\u001b[49m\n\u001b[1;32m   5403\u001b[0m \u001b[43m        \u001b[49m\u001b[43merrors\u001b[49m\u001b[38;5;241;43m=\u001b[39;49m\u001b[43merrors\u001b[49m\u001b[43m,\u001b[49m\n\u001b[1;32m   5404\u001b[0m \u001b[43m    \u001b[49m\u001b[43m)\u001b[49m\n",
      "File \u001b[0;32m~/opt/anaconda3/envs/stratascratch/lib/python3.8/site-packages/pandas/util/_decorators.py:331\u001b[0m, in \u001b[0;36mdeprecate_nonkeyword_arguments.<locals>.decorate.<locals>.wrapper\u001b[0;34m(*args, **kwargs)\u001b[0m\n\u001b[1;32m    325\u001b[0m \u001b[38;5;28;01mif\u001b[39;00m \u001b[38;5;28mlen\u001b[39m(args) \u001b[38;5;241m>\u001b[39m num_allow_args:\n\u001b[1;32m    326\u001b[0m     warnings\u001b[38;5;241m.\u001b[39mwarn(\n\u001b[1;32m    327\u001b[0m         msg\u001b[38;5;241m.\u001b[39mformat(arguments\u001b[38;5;241m=\u001b[39m_format_argument_list(allow_args)),\n\u001b[1;32m    328\u001b[0m         \u001b[38;5;167;01mFutureWarning\u001b[39;00m,\n\u001b[1;32m    329\u001b[0m         stacklevel\u001b[38;5;241m=\u001b[39mfind_stack_level(),\n\u001b[1;32m    330\u001b[0m     )\n\u001b[0;32m--> 331\u001b[0m \u001b[38;5;28;01mreturn\u001b[39;00m \u001b[43mfunc\u001b[49m\u001b[43m(\u001b[49m\u001b[38;5;241;43m*\u001b[39;49m\u001b[43margs\u001b[49m\u001b[43m,\u001b[49m\u001b[43m \u001b[49m\u001b[38;5;241;43m*\u001b[39;49m\u001b[38;5;241;43m*\u001b[39;49m\u001b[43mkwargs\u001b[49m\u001b[43m)\u001b[49m\n",
      "File \u001b[0;32m~/opt/anaconda3/envs/stratascratch/lib/python3.8/site-packages/pandas/core/generic.py:4505\u001b[0m, in \u001b[0;36mNDFrame.drop\u001b[0;34m(self, labels, axis, index, columns, level, inplace, errors)\u001b[0m\n\u001b[1;32m   4503\u001b[0m \u001b[38;5;28;01mfor\u001b[39;00m axis, labels \u001b[38;5;129;01min\u001b[39;00m axes\u001b[38;5;241m.\u001b[39mitems():\n\u001b[1;32m   4504\u001b[0m     \u001b[38;5;28;01mif\u001b[39;00m labels \u001b[38;5;129;01mis\u001b[39;00m \u001b[38;5;129;01mnot\u001b[39;00m \u001b[38;5;28;01mNone\u001b[39;00m:\n\u001b[0;32m-> 4505\u001b[0m         obj \u001b[38;5;241m=\u001b[39m \u001b[43mobj\u001b[49m\u001b[38;5;241;43m.\u001b[39;49m\u001b[43m_drop_axis\u001b[49m\u001b[43m(\u001b[49m\u001b[43mlabels\u001b[49m\u001b[43m,\u001b[49m\u001b[43m \u001b[49m\u001b[43maxis\u001b[49m\u001b[43m,\u001b[49m\u001b[43m \u001b[49m\u001b[43mlevel\u001b[49m\u001b[38;5;241;43m=\u001b[39;49m\u001b[43mlevel\u001b[49m\u001b[43m,\u001b[49m\u001b[43m \u001b[49m\u001b[43merrors\u001b[49m\u001b[38;5;241;43m=\u001b[39;49m\u001b[43merrors\u001b[49m\u001b[43m)\u001b[49m\n\u001b[1;32m   4507\u001b[0m \u001b[38;5;28;01mif\u001b[39;00m inplace:\n\u001b[1;32m   4508\u001b[0m     \u001b[38;5;28mself\u001b[39m\u001b[38;5;241m.\u001b[39m_update_inplace(obj)\n",
      "File \u001b[0;32m~/opt/anaconda3/envs/stratascratch/lib/python3.8/site-packages/pandas/core/generic.py:4546\u001b[0m, in \u001b[0;36mNDFrame._drop_axis\u001b[0;34m(self, labels, axis, level, errors, only_slice)\u001b[0m\n\u001b[1;32m   4544\u001b[0m         new_axis \u001b[38;5;241m=\u001b[39m axis\u001b[38;5;241m.\u001b[39mdrop(labels, level\u001b[38;5;241m=\u001b[39mlevel, errors\u001b[38;5;241m=\u001b[39merrors)\n\u001b[1;32m   4545\u001b[0m     \u001b[38;5;28;01melse\u001b[39;00m:\n\u001b[0;32m-> 4546\u001b[0m         new_axis \u001b[38;5;241m=\u001b[39m \u001b[43maxis\u001b[49m\u001b[38;5;241;43m.\u001b[39;49m\u001b[43mdrop\u001b[49m\u001b[43m(\u001b[49m\u001b[43mlabels\u001b[49m\u001b[43m,\u001b[49m\u001b[43m \u001b[49m\u001b[43merrors\u001b[49m\u001b[38;5;241;43m=\u001b[39;49m\u001b[43merrors\u001b[49m\u001b[43m)\u001b[49m\n\u001b[1;32m   4547\u001b[0m     indexer \u001b[38;5;241m=\u001b[39m axis\u001b[38;5;241m.\u001b[39mget_indexer(new_axis)\n\u001b[1;32m   4549\u001b[0m \u001b[38;5;66;03m# Case for non-unique axis\u001b[39;00m\n\u001b[1;32m   4550\u001b[0m \u001b[38;5;28;01melse\u001b[39;00m:\n",
      "File \u001b[0;32m~/opt/anaconda3/envs/stratascratch/lib/python3.8/site-packages/pandas/core/indexes/base.py:6977\u001b[0m, in \u001b[0;36mIndex.drop\u001b[0;34m(self, labels, errors)\u001b[0m\n\u001b[1;32m   6975\u001b[0m \u001b[38;5;28;01mif\u001b[39;00m mask\u001b[38;5;241m.\u001b[39many():\n\u001b[1;32m   6976\u001b[0m     \u001b[38;5;28;01mif\u001b[39;00m errors \u001b[38;5;241m!=\u001b[39m \u001b[38;5;124m\"\u001b[39m\u001b[38;5;124mignore\u001b[39m\u001b[38;5;124m\"\u001b[39m:\n\u001b[0;32m-> 6977\u001b[0m         \u001b[38;5;28;01mraise\u001b[39;00m \u001b[38;5;167;01mKeyError\u001b[39;00m(\u001b[38;5;124mf\u001b[39m\u001b[38;5;124m\"\u001b[39m\u001b[38;5;132;01m{\u001b[39;00m\u001b[38;5;28mlist\u001b[39m(labels[mask])\u001b[38;5;132;01m}\u001b[39;00m\u001b[38;5;124m not found in axis\u001b[39m\u001b[38;5;124m\"\u001b[39m)\n\u001b[1;32m   6978\u001b[0m     indexer \u001b[38;5;241m=\u001b[39m indexer[\u001b[38;5;241m~\u001b[39mmask]\n\u001b[1;32m   6979\u001b[0m \u001b[38;5;28;01mreturn\u001b[39;00m \u001b[38;5;28mself\u001b[39m\u001b[38;5;241m.\u001b[39mdelete(indexer)\n",
      "\u001b[0;31mKeyError\u001b[0m: \"['filter_neighborhoods'] not found in axis\""
     ]
    }
   ],
   "source": [
    "searches = searches.drop(columns=['filter_neighborhoods'])"
   ]
  },
  {
   "cell_type": "code",
   "execution_count": 5,
   "id": "e58a3a8b-63e8-4db6-8d94-6b25d800c58c",
   "metadata": {},
   "outputs": [
    {
     "data": {
      "text/plain": [
       "ds                    object\n",
       "id_user               object\n",
       "ds_checkin            object\n",
       "ds_checkout           object\n",
       "n_searches             int64\n",
       "n_nights             float64\n",
       "n_guests_min           int64\n",
       "n_guests_max           int64\n",
       "origin_country        object\n",
       "filter_price_min     float64\n",
       "filter_price_max     float64\n",
       "filter_room_types     object\n",
       "dtype: object"
      ]
     },
     "execution_count": 5,
     "metadata": {},
     "output_type": "execute_result"
    }
   ],
   "source": [
    "#Checking the data types of the columns in the searches dataset\n",
    "searches.dtypes"
   ]
  },
  {
   "cell_type": "markdown",
   "id": "b348363b-d438-4a30-8bd5-c18b887e8728",
   "metadata": {},
   "source": [
    "The date columns (ds, ds_checkin, ds_checkout) are object types, which can be converted to DateTime for easier manipulation. \n",
    "\n",
    "It is insightful to check how soon people want their rooms. \n",
    "Calculate it using the difference between the ds (date search) and ds_checkin (date check-in).\n",
    "\n",
    "Checking its distribution would reveal how soon people start planning their trips. \n",
    "This could lead to better business decisions in anticipation of demand"
   ]
  },
  {
   "cell_type": "code",
   "execution_count": 6,
   "id": "baa81b3b-06a7-4d01-a726-3acc6db63562",
   "metadata": {},
   "outputs": [],
   "source": [
    "#Manipulation of searches dataset\n",
    "\n",
    "#Convert date column to datetime data type\n",
    "searches['ds'] = pd.to_datetime(searches['ds'])\n",
    "searches['ds_checkin'] = pd.to_datetime(searches['ds_checkin'])\n",
    "searches['ds_checkout'] = pd.to_datetime(searches['ds_checkout'])"
   ]
  },
  {
   "cell_type": "markdown",
   "id": "dd09fb48-b30b-4b90-9697-935114ce5142",
   "metadata": {},
   "source": [
    "The describe function displays a 8 number summary to understand the distribution of the dataset.  \n",
    "This is helpful to understand if there are any obvious skewness or outliers in the dataset that could be fixed quickly.\n"
   ]
  },
  {
   "cell_type": "code",
   "execution_count": 7,
   "id": "030bb679-31e6-4c37-84a5-bd757d6cc9fb",
   "metadata": {},
   "outputs": [
    {
     "data": {
      "text/html": [
       "<div>\n",
       "<style scoped>\n",
       "    .dataframe tbody tr th:only-of-type {\n",
       "        vertical-align: middle;\n",
       "    }\n",
       "\n",
       "    .dataframe tbody tr th {\n",
       "        vertical-align: top;\n",
       "    }\n",
       "\n",
       "    .dataframe thead th {\n",
       "        text-align: right;\n",
       "    }\n",
       "</style>\n",
       "<table border=\"1\" class=\"dataframe\">\n",
       "  <thead>\n",
       "    <tr style=\"text-align: right;\">\n",
       "      <th></th>\n",
       "      <th>n_searches</th>\n",
       "      <th>n_nights</th>\n",
       "      <th>n_guests_min</th>\n",
       "      <th>n_guests_max</th>\n",
       "      <th>filter_price_min</th>\n",
       "      <th>filter_price_max</th>\n",
       "      <th>length_preperation</th>\n",
       "    </tr>\n",
       "  </thead>\n",
       "  <tbody>\n",
       "    <tr>\n",
       "      <th>count</th>\n",
       "      <td>35737.000000</td>\n",
       "      <td>23888.000000</td>\n",
       "      <td>35737.000000</td>\n",
       "      <td>35737.000000</td>\n",
       "      <td>13322.000000</td>\n",
       "      <td>1.332200e+04</td>\n",
       "      <td>23888</td>\n",
       "    </tr>\n",
       "    <tr>\n",
       "      <th>mean</th>\n",
       "      <td>9.206565</td>\n",
       "      <td>7.672765</td>\n",
       "      <td>1.742955</td>\n",
       "      <td>2.105857</td>\n",
       "      <td>8.470200</td>\n",
       "      <td>9.019063e+07</td>\n",
       "      <td>51 days 08:11:53.730743469</td>\n",
       "    </tr>\n",
       "    <tr>\n",
       "      <th>std</th>\n",
       "      <td>17.348746</td>\n",
       "      <td>21.557614</td>\n",
       "      <td>1.460440</td>\n",
       "      <td>1.817358</td>\n",
       "      <td>53.987679</td>\n",
       "      <td>2.978482e+08</td>\n",
       "      <td>65 days 18:56:19.491940518</td>\n",
       "    </tr>\n",
       "    <tr>\n",
       "      <th>min</th>\n",
       "      <td>1.000000</td>\n",
       "      <td>0.000000</td>\n",
       "      <td>1.000000</td>\n",
       "      <td>1.000000</td>\n",
       "      <td>0.000000</td>\n",
       "      <td>9.000000e+00</td>\n",
       "      <td>-1 days +00:00:00</td>\n",
       "    </tr>\n",
       "    <tr>\n",
       "      <th>25%</th>\n",
       "      <td>1.000000</td>\n",
       "      <td>2.000000</td>\n",
       "      <td>1.000000</td>\n",
       "      <td>1.000000</td>\n",
       "      <td>0.000000</td>\n",
       "      <td>8.600000e+01</td>\n",
       "      <td>10 days 00:00:00</td>\n",
       "    </tr>\n",
       "    <tr>\n",
       "      <th>50%</th>\n",
       "      <td>4.000000</td>\n",
       "      <td>3.000000</td>\n",
       "      <td>1.000000</td>\n",
       "      <td>2.000000</td>\n",
       "      <td>0.000000</td>\n",
       "      <td>1.390000e+02</td>\n",
       "      <td>26 days 00:00:00</td>\n",
       "    </tr>\n",
       "    <tr>\n",
       "      <th>75%</th>\n",
       "      <td>10.000000</td>\n",
       "      <td>5.000000</td>\n",
       "      <td>2.000000</td>\n",
       "      <td>2.000000</td>\n",
       "      <td>0.000000</td>\n",
       "      <td>3.010000e+02</td>\n",
       "      <td>67 days 00:00:00</td>\n",
       "    </tr>\n",
       "    <tr>\n",
       "      <th>max</th>\n",
       "      <td>448.000000</td>\n",
       "      <td>399.000000</td>\n",
       "      <td>16.000000</td>\n",
       "      <td>16.000000</td>\n",
       "      <td>1250.000000</td>\n",
       "      <td>1.073742e+09</td>\n",
       "      <td>604 days 00:00:00</td>\n",
       "    </tr>\n",
       "  </tbody>\n",
       "</table>\n",
       "</div>"
      ],
      "text/plain": [
       "         n_searches      n_nights  n_guests_min  n_guests_max  \\\n",
       "count  35737.000000  23888.000000  35737.000000  35737.000000   \n",
       "mean       9.206565      7.672765      1.742955      2.105857   \n",
       "std       17.348746     21.557614      1.460440      1.817358   \n",
       "min        1.000000      0.000000      1.000000      1.000000   \n",
       "25%        1.000000      2.000000      1.000000      1.000000   \n",
       "50%        4.000000      3.000000      1.000000      2.000000   \n",
       "75%       10.000000      5.000000      2.000000      2.000000   \n",
       "max      448.000000    399.000000     16.000000     16.000000   \n",
       "\n",
       "       filter_price_min  filter_price_max          length_preperation  \n",
       "count      13322.000000      1.332200e+04                       23888  \n",
       "mean           8.470200      9.019063e+07  51 days 08:11:53.730743469  \n",
       "std           53.987679      2.978482e+08  65 days 18:56:19.491940518  \n",
       "min            0.000000      9.000000e+00           -1 days +00:00:00  \n",
       "25%            0.000000      8.600000e+01            10 days 00:00:00  \n",
       "50%            0.000000      1.390000e+02            26 days 00:00:00  \n",
       "75%            0.000000      3.010000e+02            67 days 00:00:00  \n",
       "max         1250.000000      1.073742e+09           604 days 00:00:00  "
      ]
     },
     "metadata": {},
     "output_type": "display_data"
    }
   ],
   "source": [
    "#How soon they want the room\n",
    "searches['length_preperation'] = searches['ds_checkin'] - searches['ds']\n",
    "\n",
    "#Describe searches dataset\n",
    "display(searches.describe())"
   ]
  },
  {
   "cell_type": "markdown",
   "id": "772a606c-db55-483d-a303-9787b67f2484",
   "metadata": {},
   "source": [
    "Describe() reveals # guests is usually 1 or 2.  \n",
    "since even at 75% the n_guests_min and n_guests_max is 2 and at 25% are 1.  \n",
    "A safe conclusion is that smaller accommodations are preferred."
   ]
  },
  {
   "cell_type": "markdown",
   "id": "c4b5fdc1-95ac-4cb8-ab4a-9056a8c511a8",
   "metadata": {},
   "source": [
    "It's a good idea to check for skewness b/c most models and diagnostic tests assume normal distribution of data\n",
    "Skewness is where the distribution of the values leans towards a specific side of the normal distribution.  \n",
    "Let's calculate it through the Fisher-Pearson coefficient."
   ]
  },
  {
   "cell_type": "code",
   "execution_count": 8,
   "id": "6a84fa73-3e55-4642-88d6-7e34754555a8",
   "metadata": {},
   "outputs": [
    {
     "data": {
      "text/plain": [
       "n_searches           7.509258\n",
       "n_nights             9.942364\n",
       "n_guests_min         3.583798\n",
       "n_guests_max         3.148548\n",
       "filter_price_min    11.087745\n",
       "filter_price_max     2.999833\n",
       "dtype: float64"
      ]
     },
     "metadata": {},
     "output_type": "display_data"
    }
   ],
   "source": [
    "#Calculate skewness in searches dataset\n",
    "display(searches.skew(axis = 0, numeric_only = True, skipna = True))"
   ]
  },
  {
   "cell_type": "markdown",
   "id": "cbd975e5-4a3e-44b8-a672-70140bb70ea2",
   "metadata": {},
   "source": [
    "All numeric columns have a Fisher-Pearson coefficient value greater than 1, meaning a positive skewness. \n",
    "There are several techniques such as log transformation to reduce the skewness in data described below  \n",
    "https://opendatascience.com/transforming-skewed-data-for-machine-learning/"
   ]
  },
  {
   "cell_type": "code",
   "execution_count": 9,
   "id": "0ef81b92-d246-46ab-ba81-5e8af061a2c3",
   "metadata": {},
   "outputs": [
    {
     "data": {
      "image/png": "[encoded data removed]",
      "text/plain": [
       "<Figure size 500x500 with 1 Axes>"
      ]
     },
     "metadata": {},
     "output_type": "display_data"
    },
    {
     "data": {
      "image/png": "[encoded data removed]",
      "text/plain": [
       "<Figure size 500x500 with 1 Axes>"
      ]
     },
     "metadata": {},
     "output_type": "display_data"
    }
   ],
   "source": [
    "#Distribution plot of n_guests_min and n_guests_max\n",
    "# Let me practice using seaborn \n",
    "sns.displot(searches, x = 'n_guests_min', color = 'brown')\n",
    "sns.displot(searches, x = 'n_guests_max', color = 'black')\n",
    "plt.show()"
   ]
  },
  {
   "cell_type": "markdown",
   "id": "dfab01c8-21d7-431b-9a6a-f7fffc9a4867",
   "metadata": {},
   "source": [
    "Both have similar distributions with 1 being the most popular option and 2 being the next popular option.  \n",
    "This leads me to believe smaller accommodations would be a good investment for in Dublin."
   ]
  },
  {
   "cell_type": "markdown",
   "id": "9c28e801-c0e0-42ca-9d46-639aa0a2ec90",
   "metadata": {},
   "source": [
    "Let's check distribution of searches"
   ]
  },
  {
   "cell_type": "code",
   "execution_count": 14,
   "id": "0774cee7-0385-4ea8-89f0-c4e5a8ea699c",
   "metadata": {
    "tags": []
   },
   "outputs": [
    {
     "data": {
      "text/plain": [
       "[[None,\n",
       "  None,\n",
       "  None,\n",
       "  None,\n",
       "  None,\n",
       "  None,\n",
       "  None,\n",
       "  None,\n",
       "  None,\n",
       "  None,\n",
       "  None,\n",
       "  None,\n",
       "  None,\n",
       "  None]]"
      ]
     },
     "execution_count": 14,
     "metadata": {},
     "output_type": "execute_result"
    },
    {
     "data": {
      "image/png": "[encoded data removed]",
      "text/plain": [
       "<Figure size 500x500 with 1 Axes>"
      ]
     },
     "metadata": {},
     "output_type": "display_data"
    }
   ],
   "source": [
    "ax = sns.displot(searches, x = 'ds', color = 'brown')\n",
    "[plt.setp(ax.get_xticklabels(), rotation=90) for ax in ax.axes.flat]"
   ]
  },
  {
   "cell_type": "markdown",
   "id": "990f29e4-29a3-4c8d-976b-e21a300d4aa8",
   "metadata": {},
   "source": [
    "Not much to note here"
   ]
  },
  {
   "cell_type": "markdown",
   "id": "193c917e-7caa-4b55-8f38-ee4d50a2de7c",
   "metadata": {},
   "source": [
    "Let's check the distribution of filter_price_max"
   ]
  },
  {
   "cell_type": "code",
   "execution_count": 16,
   "id": "766e262e-811d-490f-93da-bd0928a2f9c0",
   "metadata": {},
   "outputs": [
    {
     "data": {
      "image/png": "[encoded data removed]",
      "text/plain": [
       "<Figure size 500x500 with 1 Axes>"
      ]
     },
     "metadata": {},
     "output_type": "display_data"
    }
   ],
   "source": [
    "# make the visualization cleaner by removing large outliers\n",
    "searches_maxprice_removed = searches[searches['filter_price_max'] <= 600]\n",
    "sns.displot(x=searches_maxprice_removed[\"filter_price_max\"], color = 'blue')\n",
    "plt.show()"
   ]
  },
  {
   "cell_type": "markdown",
   "id": "dbc5eb65-b0d3-48d1-8920-77a14f346b93",
   "metadata": {},
   "source": [
    "Most search for a room below 200 per night with a peak at 100 per night.  \n",
    "59% of people searched for rooms between 60 and 130 a night."
   ]
  },
  {
   "cell_type": "markdown",
   "id": "c00ce865-13dc-4d3f-a975-7080aa114cd5",
   "metadata": {},
   "source": [
    "Let's calculate how soon people want rooms when booking. First, we have to convert the length_preperation column to the int data type for filtering. After that search for length_preperations less than 100, since only 9.4% of the dataset exists beyond that."
   ]
  },
  {
   "cell_type": "code",
   "execution_count": 13,
   "id": "e08ad021-3fc3-412b-bb80-a072adf0f875",
   "metadata": {},
   "outputs": [
    {
     "name": "stdout",
     "output_type": "stream",
     "text": [
      "9.396423874415872 % \n",
      "\n"
     ]
    },
    {
     "data": {
      "image/png": "[encoded data removed]",
      "text/plain": [
       "<Figure size 500x500 with 1 Axes>"
      ]
     },
     "metadata": {},
     "output_type": "display_data"
    }
   ],
   "source": [
    "#Distribution of length_preperation of searches\n",
    "\n",
    "#Percentage of dataset beyond 100 days\n",
    "distribution = searches[\"length_preperation\"] / np.timedelta64(1, 'D')\n",
    "print(len(distribution[distribution > 100])/len(distribution)*100, '% \\n')\n",
    "#Remove values beyond 100 days\n",
    "distribution = distribution[distribution < 100]\n",
    "#Distribution plot of length_preperation column\n",
    "sns.displot(x=distribution, color = 'green')\n",
    "plt.show()"
   ]
  },
  {
   "cell_type": "markdown",
   "id": "7a446904-93b7-459f-9718-7537a7560f1f",
   "metadata": {},
   "source": [
    "Based on this data, around 37% of people search for a room within 2 weeks\n",
    "\n",
    "23.7% search for rooms within a week  \n",
    "13.46% search for rooms between 1-2 weeks  \n",
    "12.51% search for rooms between 2-3 weeks  "
   ]
  },
  {
   "cell_type": "markdown",
   "id": "2e94ad09-4fc6-43ab-9148-ff3e2eb6fc86",
   "metadata": {},
   "source": [
    "let's find the distribution of the number of nights people want to stay.  \n",
    "4.74% of the dataset exists beyond 20 days, so let's filter those out for the time being"
   ]
  },
  {
   "cell_type": "code",
   "execution_count": 17,
   "id": "453a43a3-6810-4391-8b2a-a4922087d97d",
   "metadata": {},
   "outputs": [
    {
     "name": "stdout",
     "output_type": "stream",
     "text": [
      "4.737387021854101 % \n",
      "\n"
     ]
    },
    {
     "data": {
      "image/png": "[encoded data removed]",
      "text/plain": [
       "<Figure size 500x500 with 1 Axes>"
      ]
     },
     "metadata": {},
     "output_type": "display_data"
    }
   ],
   "source": [
    "#Distribution of n_nights of searches\n",
    "\n",
    "#Percentage of dataset beyond 20 nights\n",
    "print(len(searches[searches['n_nights'] > 20])/len(searches['n_nights'])*100, '% \\n')\n",
    "#Remove n_nights beyond 20 days\n",
    "searches_within_twenty = searches[searches['n_nights'] < 20]\n",
    "#Distribution plot of length_preperation column\n",
    "sns.displot(searches_within_twenty, x='n_nights', color = 'red')\n",
    "plt.show()"
   ]
  },
  {
   "cell_type": "markdown",
   "id": "739b66f8-bded-44bf-9fa4-7827941d0c97",
   "metadata": {},
   "source": [
    "Around 70% of people want to stay between 1-4 days, mostly 2 or 3.  \n",
    "Stay for more than a week is uncommon at only 15%"
   ]
  },
  {
   "cell_type": "markdown",
   "id": "4d247d95-a38b-4079-918e-2854a0227ae8",
   "metadata": {},
   "source": [
    "Let's check another distribution"
   ]
  },
  {
   "cell_type": "code",
   "execution_count": 18,
   "id": "e58aeed0-800f-4069-8490-4af3b276fefb",
   "metadata": {},
   "outputs": [
    {
     "data": {
      "image/png": "[encoded data removed]",
      "text/plain": [
       "<Figure size 500x500 with 1 Axes>"
      ]
     },
     "metadata": {},
     "output_type": "display_data"
    }
   ],
   "source": [
    "# isolate month from datetime\n",
    "checkin_month = pd.DatetimeIndex(searches['ds_checkin']).month\n",
    "#Distribution plot of length_preperation column\n",
    "sns.displot(checkin_month, color = 'yellow')\n",
    "plt.show()"
   ]
  },
  {
   "cell_type": "markdown",
   "id": "b2a2ea84-4338-4555-af9b-a329dfd5720f",
   "metadata": {},
   "source": [
    "83.74% of searches were in the October-December\n",
    "\n",
    "Breakdown:  \n",
    "45.05% in October  \n",
    "26.1% in November  \n",
    "12.6% in December"
   ]
  },
  {
   "cell_type": "code",
   "execution_count": 19,
   "id": "c3572180-870f-489b-aca1-6a1406ef1406",
   "metadata": {},
   "outputs": [
    {
     "data": {
      "text/plain": [
       "array([',Entire home/apt,Entire home/apt,Private room,Private room', nan,\n",
       "       ',Entire home/apt',\n",
       "       'Entire home/apt,Entire home/apt,Private room,Private room',\n",
       "       'Entire home/apt', ',Shared room,Private room',\n",
       "       'Entire home/apt,Private room,Shared room,Private room,Shared room',\n",
       "       'Private room', 'Entire home/apt,Private room', ',Private room',\n",
       "       ',Entire home/apt,Private room',\n",
       "       ',Entire home/apt,Private room,Private room',\n",
       "       'Entire home/apt,Private room,Shared room',\n",
       "       ',Entire home/apt,Entire home/apt,Private room',\n",
       "       ',Entire home/apt,Entire home/apt,Shared room,Shared room'],\n",
       "      dtype=object)"
      ]
     },
     "execution_count": 19,
     "metadata": {},
     "output_type": "execute_result"
    }
   ],
   "source": [
    "#Types of rooms searched for\n",
    "searches['filter_room_types'].unique()[0:15]"
   ]
  },
  {
   "cell_type": "markdown",
   "id": "4f0596fa-f93f-42f7-8280-ce38e94496ce",
   "metadata": {},
   "source": [
    "Most of the room types requested were entire home/apt and private rooms sometimes shared rooms. \n",
    "If given more time, I would have cleaned this column since most filter values are repeated within the same cell."
   ]
  },
  {
   "cell_type": "code",
   "execution_count": 20,
   "id": "413926ab-24a6-45ad-a460-5b249335343e",
   "metadata": {},
   "outputs": [
    {
     "data": {
      "text/html": [
       "<div>\n",
       "<style scoped>\n",
       "    .dataframe tbody tr th:only-of-type {\n",
       "        vertical-align: middle;\n",
       "    }\n",
       "\n",
       "    .dataframe tbody tr th {\n",
       "        vertical-align: top;\n",
       "    }\n",
       "\n",
       "    .dataframe thead th {\n",
       "        text-align: right;\n",
       "    }\n",
       "</style>\n",
       "<table border=\"1\" class=\"dataframe\">\n",
       "  <thead>\n",
       "    <tr style=\"text-align: right;\">\n",
       "      <th></th>\n",
       "      <th>count</th>\n",
       "    </tr>\n",
       "    <tr>\n",
       "      <th>origin_country</th>\n",
       "      <th></th>\n",
       "    </tr>\n",
       "  </thead>\n",
       "  <tbody>\n",
       "    <tr>\n",
       "      <th>IE</th>\n",
       "      <td>6608</td>\n",
       "    </tr>\n",
       "    <tr>\n",
       "      <th>US</th>\n",
       "      <td>5811</td>\n",
       "    </tr>\n",
       "    <tr>\n",
       "      <th>GB</th>\n",
       "      <td>4832</td>\n",
       "    </tr>\n",
       "    <tr>\n",
       "      <th>FR</th>\n",
       "      <td>3444</td>\n",
       "    </tr>\n",
       "    <tr>\n",
       "      <th>IT</th>\n",
       "      <td>2333</td>\n",
       "    </tr>\n",
       "    <tr>\n",
       "      <th>DE</th>\n",
       "      <td>2170</td>\n",
       "    </tr>\n",
       "    <tr>\n",
       "      <th>ES</th>\n",
       "      <td>1759</td>\n",
       "    </tr>\n",
       "    <tr>\n",
       "      <th>CA</th>\n",
       "      <td>1085</td>\n",
       "    </tr>\n",
       "    <tr>\n",
       "      <th>AU</th>\n",
       "      <td>962</td>\n",
       "    </tr>\n",
       "    <tr>\n",
       "      <th>NL</th>\n",
       "      <td>843</td>\n",
       "    </tr>\n",
       "    <tr>\n",
       "      <th>BR</th>\n",
       "      <td>636</td>\n",
       "    </tr>\n",
       "    <tr>\n",
       "      <th>CH</th>\n",
       "      <td>535</td>\n",
       "    </tr>\n",
       "    <tr>\n",
       "      <th>BE</th>\n",
       "      <td>386</td>\n",
       "    </tr>\n",
       "    <tr>\n",
       "      <th>AT</th>\n",
       "      <td>320</td>\n",
       "    </tr>\n",
       "    <tr>\n",
       "      <th>RU</th>\n",
       "      <td>274</td>\n",
       "    </tr>\n",
       "  </tbody>\n",
       "</table>\n",
       "</div>"
      ],
      "text/plain": [
       "                count\n",
       "origin_country       \n",
       "IE               6608\n",
       "US               5811\n",
       "GB               4832\n",
       "FR               3444\n",
       "IT               2333\n",
       "DE               2170\n",
       "ES               1759\n",
       "CA               1085\n",
       "AU                962\n",
       "NL                843\n",
       "BR                636\n",
       "CH                535\n",
       "BE                386\n",
       "AT                320\n",
       "RU                274"
      ]
     },
     "execution_count": 20,
     "metadata": {},
     "output_type": "execute_result"
    }
   ],
   "source": [
    "#Find top 15 countries where searches originate from\n",
    "\n",
    "# simple group by and count\n",
    "search_origin = searches.groupby(\"origin_country\").agg({'origin_country' : 'count'})\n",
    "search_origin.columns = ['count']\n",
    "# sort it descendingly and return top 15\n",
    "search_origin = search_origin.sort_values('count', ascending = False)\n",
    "search_origin.nlargest(15, 'count')"
   ]
  },
  {
   "cell_type": "markdown",
   "id": "19b5a295-3629-4c9e-bce4-ccb37b6de587",
   "metadata": {},
   "source": [
    "Ireland, the US, and Great Britain comprise 48% of searches.  "
   ]
  },
  {
   "cell_type": "markdown",
   "id": "ee200c2c-0bec-41a3-a396-2350e333d428",
   "metadata": {},
   "source": [
    "### Contacts Dataset"
   ]
  },
  {
   "cell_type": "code",
   "execution_count": 19,
   "id": "3281bd76-b198-4d09-b557-c6eb52c8b519",
   "metadata": {},
   "outputs": [
    {
     "data": {
      "text/plain": [
       "id_guest          object\n",
       "id_host           object\n",
       "id_listing        object\n",
       "ts_contact_at     object\n",
       "ts_reply_at       object\n",
       "ts_accepted_at    object\n",
       "ts_booking_at     object\n",
       "ds_checkin        object\n",
       "ds_checkout       object\n",
       "n_guests           int64\n",
       "n_messages         int64\n",
       "dtype: object"
      ]
     },
     "execution_count": 19,
     "metadata": {},
     "output_type": "execute_result"
    }
   ],
   "source": [
    "#Datatypes of contacts dataset\n",
    "contacts.dtypes"
   ]
  },
  {
   "cell_type": "code",
   "execution_count": 21,
   "id": "b06a87da-4974-4e64-a3bb-852c46961c44",
   "metadata": {},
   "outputs": [
    {
     "data": {
      "text/html": [
       "<div>\n",
       "<style scoped>\n",
       "    .dataframe tbody tr th:only-of-type {\n",
       "        vertical-align: middle;\n",
       "    }\n",
       "\n",
       "    .dataframe tbody tr th {\n",
       "        vertical-align: top;\n",
       "    }\n",
       "\n",
       "    .dataframe thead th {\n",
       "        text-align: right;\n",
       "    }\n",
       "</style>\n",
       "<table border=\"1\" class=\"dataframe\">\n",
       "  <thead>\n",
       "    <tr style=\"text-align: right;\">\n",
       "      <th></th>\n",
       "      <th>n_guests</th>\n",
       "      <th>n_messages</th>\n",
       "      <th>length_stay</th>\n",
       "    </tr>\n",
       "  </thead>\n",
       "  <tbody>\n",
       "    <tr>\n",
       "      <th>count</th>\n",
       "      <td>7823.000000</td>\n",
       "      <td>7823.000000</td>\n",
       "      <td>7823</td>\n",
       "    </tr>\n",
       "    <tr>\n",
       "      <th>mean</th>\n",
       "      <td>2.422600</td>\n",
       "      <td>6.319954</td>\n",
       "      <td>5 days 19:25:32.864629937</td>\n",
       "    </tr>\n",
       "    <tr>\n",
       "      <th>std</th>\n",
       "      <td>1.617347</td>\n",
       "      <td>6.472827</td>\n",
       "      <td>14 days 23:45:24.447710564</td>\n",
       "    </tr>\n",
       "    <tr>\n",
       "      <th>min</th>\n",
       "      <td>1.000000</td>\n",
       "      <td>1.000000</td>\n",
       "      <td>1 days 00:00:00</td>\n",
       "    </tr>\n",
       "    <tr>\n",
       "      <th>25%</th>\n",
       "      <td>1.000000</td>\n",
       "      <td>2.000000</td>\n",
       "      <td>2 days 00:00:00</td>\n",
       "    </tr>\n",
       "    <tr>\n",
       "      <th>50%</th>\n",
       "      <td>2.000000</td>\n",
       "      <td>4.000000</td>\n",
       "      <td>3 days 00:00:00</td>\n",
       "    </tr>\n",
       "    <tr>\n",
       "      <th>75%</th>\n",
       "      <td>3.000000</td>\n",
       "      <td>8.000000</td>\n",
       "      <td>5 days 00:00:00</td>\n",
       "    </tr>\n",
       "    <tr>\n",
       "      <th>max</th>\n",
       "      <td>16.000000</td>\n",
       "      <td>102.000000</td>\n",
       "      <td>334 days 00:00:00</td>\n",
       "    </tr>\n",
       "  </tbody>\n",
       "</table>\n",
       "</div>"
      ],
      "text/plain": [
       "          n_guests   n_messages                 length_stay\n",
       "count  7823.000000  7823.000000                        7823\n",
       "mean      2.422600     6.319954   5 days 19:25:32.864629937\n",
       "std       1.617347     6.472827  14 days 23:45:24.447710564\n",
       "min       1.000000     1.000000             1 days 00:00:00\n",
       "25%       1.000000     2.000000             2 days 00:00:00\n",
       "50%       2.000000     4.000000             3 days 00:00:00\n",
       "75%       3.000000     8.000000             5 days 00:00:00\n",
       "max      16.000000   102.000000           334 days 00:00:00"
      ]
     },
     "metadata": {},
     "output_type": "display_data"
    }
   ],
   "source": [
    "#Convert date columns to datetime data type \n",
    "contacts['ts_contact_at'] = pd.to_datetime(contacts['ts_contact_at'])\n",
    "contacts['ts_reply_at'] = pd.to_datetime(contacts['ts_reply_at'])\n",
    "contacts['ts_accepted_at'] = pd.to_datetime(contacts['ts_accepted_at'])\n",
    "contacts['ts_booking_at'] = pd.to_datetime(contacts['ts_booking_at'])\n",
    "contacts['ds_checkin'] = pd.to_datetime(contacts['ds_checkin'])\n",
    "contacts['ds_checkout'] = pd.to_datetime(contacts['ds_checkout'])\n",
    "contacts['accepted'] = np.where(np.isnan(contacts['ts_accepted_at']), False, True)\n",
    "# calculation\n",
    "contacts['length_stay'] = contacts['ds_checkout'] - contacts['ds_checkin']\n",
    "\n",
    "#Understand dataset with describe function\n",
    "display(contacts.describe())"
   ]
  },
  {
   "cell_type": "code",
   "execution_count": 22,
   "id": "0e680947-49dc-4e6f-9613-605fc77abcdf",
   "metadata": {},
   "outputs": [
    {
     "data": {
      "image/png": "[encoded data removed]",
      "text/plain": [
       "<Figure size 584.875x500 with 1 Axes>"
      ]
     },
     "metadata": {},
     "output_type": "display_data"
    }
   ],
   "source": [
    "#Number of guests stayed\n",
    "contacts_less8 = contacts[contacts['n_guests'] < 8]\n",
    "sns.displot(contacts_less8, x = 'n_guests', hue = 'accepted', multiple=\"dodge\")\n",
    "plt.show()"
   ]
  },
  {
   "cell_type": "markdown",
   "id": "1ae9dc14-0d1f-4269-8219-576498b59cf4",
   "metadata": {},
   "source": [
    "2 guests is the most popular option to book, but 1 guest is the most popularly searched option.  \n",
    "This discrepancy leads me to believe there is a lack of supply of viable single guest rooms."
   ]
  },
  {
   "cell_type": "markdown",
   "id": "2cfe902b-e127-44cf-8502-675b5578763b",
   "metadata": {},
   "source": [
    "I was also wondering how many acceptance actually is converted into booking the room."
   ]
  },
  {
   "cell_type": "code",
   "execution_count": 24,
   "id": "3abcd331-fdb3-461d-8255-37b20a1d827e",
   "metadata": {},
   "outputs": [
    {
     "data": {
      "text/plain": [
       "0.5993934381031155"
      ]
     },
     "execution_count": 24,
     "metadata": {},
     "output_type": "execute_result"
    }
   ],
   "source": [
    "#Conversion rate from accepting to booking\n",
    "contacts['ts_booking_at'].count()/contacts['ts_accepted_at'].count()"
   ]
  },
  {
   "cell_type": "code",
   "execution_count": 26,
   "id": "57886382-4841-453d-bdc4-e5cd71f15d6a",
   "metadata": {},
   "outputs": [],
   "source": [
    "#Merge datasets for more analysis\n",
    "merged_datasets = contacts.merge(searches, left_on='id_guest', right_on='id_user')"
   ]
  },
  {
   "cell_type": "markdown",
   "id": "2825c54e-00e9-4937-8125-f694a6654ff2",
   "metadata": {},
   "source": [
    "Let's define a function that will separate price ranges"
   ]
  },
  {
   "cell_type": "code",
   "execution_count": 28,
   "id": "cc61cc89-224e-4a43-89fd-4b4b78f15e09",
   "metadata": {},
   "outputs": [
    {
     "data": {
      "text/html": [
       "<div>\n",
       "<style scoped>\n",
       "    .dataframe tbody tr th:only-of-type {\n",
       "        vertical-align: middle;\n",
       "    }\n",
       "\n",
       "    .dataframe tbody tr th {\n",
       "        vertical-align: top;\n",
       "    }\n",
       "\n",
       "    .dataframe thead th {\n",
       "        text-align: right;\n",
       "    }\n",
       "</style>\n",
       "<table border=\"1\" class=\"dataframe\">\n",
       "  <thead>\n",
       "    <tr style=\"text-align: right;\">\n",
       "      <th></th>\n",
       "      <th>accepted</th>\n",
       "    </tr>\n",
       "    <tr>\n",
       "      <th>classification_max_price</th>\n",
       "      <th></th>\n",
       "    </tr>\n",
       "  </thead>\n",
       "  <tbody>\n",
       "    <tr>\n",
       "      <th>0-100</th>\n",
       "      <td>0.411160</td>\n",
       "    </tr>\n",
       "    <tr>\n",
       "      <th>100-200</th>\n",
       "      <td>0.430308</td>\n",
       "    </tr>\n",
       "    <tr>\n",
       "      <th>200-300</th>\n",
       "      <td>0.431149</td>\n",
       "    </tr>\n",
       "    <tr>\n",
       "      <th>300-400</th>\n",
       "      <td>0.450488</td>\n",
       "    </tr>\n",
       "    <tr>\n",
       "      <th>400-500</th>\n",
       "      <td>0.485549</td>\n",
       "    </tr>\n",
       "    <tr>\n",
       "      <th>500-600</th>\n",
       "      <td>0.422297</td>\n",
       "    </tr>\n",
       "    <tr>\n",
       "      <th>600+</th>\n",
       "      <td>0.433122</td>\n",
       "    </tr>\n",
       "  </tbody>\n",
       "</table>\n",
       "</div>"
      ],
      "text/plain": [
       "                          accepted\n",
       "classification_max_price          \n",
       "0-100                     0.411160\n",
       "100-200                   0.430308\n",
       "200-300                   0.431149\n",
       "300-400                   0.450488\n",
       "400-500                   0.485549\n",
       "500-600                   0.422297\n",
       "600+                      0.433122"
      ]
     },
     "execution_count": 28,
     "metadata": {},
     "output_type": "execute_result"
    }
   ],
   "source": [
    "#Classify dataset based on filter_price_max\n",
    "def label_price (row):\n",
    "    if (row['filter_price_max'] >= 0) & (row['filter_price_max'] < 100):\n",
    "        return '0-100'\n",
    "    elif (row['filter_price_max'] >= 100) & (row['filter_price_max'] < 200):\n",
    "        return '100-200'\n",
    "    elif (row['filter_price_max'] >= 200) & (row['filter_price_max'] < 300):\n",
    "        return '200-300' \n",
    "    elif (row['filter_price_max'] >= 300) & (row['filter_price_max'] < 400):\n",
    "        return '300-400'\n",
    "    elif (row['filter_price_max'] >= 400) & (row['filter_price_max'] < 500):\n",
    "        return '400-500'\n",
    "    elif (row['filter_price_max'] >= 500) & (row['filter_price_max'] < 600):\n",
    "        return '500-600'\n",
    "    else:\n",
    "        return '600+'\n",
    "# apply to dataset\n",
    "merged_datasets['classification_max_price'] = merged_datasets.apply(lambda row: label_price(row), axis=1)\n",
    "# return mean for each section\n",
    "merged_datasets.groupby('classification_max_price').agg({'accepted': 'mean'})"
   ]
  },
  {
   "cell_type": "code",
   "execution_count": 29,
   "id": "9e71e6aa-667e-4567-96a4-e5ba08d4e3e3",
   "metadata": {},
   "outputs": [
    {
     "data": {
      "text/html": [
       "<div>\n",
       "<style scoped>\n",
       "    .dataframe tbody tr th:only-of-type {\n",
       "        vertical-align: middle;\n",
       "    }\n",
       "\n",
       "    .dataframe tbody tr th {\n",
       "        vertical-align: top;\n",
       "    }\n",
       "\n",
       "    .dataframe thead th {\n",
       "        text-align: right;\n",
       "    }\n",
       "</style>\n",
       "<table border=\"1\" class=\"dataframe\">\n",
       "  <thead>\n",
       "    <tr style=\"text-align: right;\">\n",
       "      <th></th>\n",
       "      <th>origin_country</th>\n",
       "      <th>accepted</th>\n",
       "      <th>count_accepted</th>\n",
       "      <th>count_country</th>\n",
       "      <th>acceptance_rate</th>\n",
       "    </tr>\n",
       "  </thead>\n",
       "  <tbody>\n",
       "    <tr>\n",
       "      <th>73</th>\n",
       "      <td>IN</td>\n",
       "      <td>True</td>\n",
       "      <td>138</td>\n",
       "      <td>874</td>\n",
       "      <td>0.157895</td>\n",
       "    </tr>\n",
       "    <tr>\n",
       "      <th>55</th>\n",
       "      <td>HR</td>\n",
       "      <td>True</td>\n",
       "      <td>159</td>\n",
       "      <td>530</td>\n",
       "      <td>0.300000</td>\n",
       "    </tr>\n",
       "    <tr>\n",
       "      <th>72</th>\n",
       "      <td>AT</td>\n",
       "      <td>True</td>\n",
       "      <td>83</td>\n",
       "      <td>239</td>\n",
       "      <td>0.347280</td>\n",
       "    </tr>\n",
       "    <tr>\n",
       "      <th>54</th>\n",
       "      <td>RU</td>\n",
       "      <td>True</td>\n",
       "      <td>83</td>\n",
       "      <td>239</td>\n",
       "      <td>0.347280</td>\n",
       "    </tr>\n",
       "    <tr>\n",
       "      <th>11</th>\n",
       "      <td>IT</td>\n",
       "      <td>True</td>\n",
       "      <td>1183</td>\n",
       "      <td>3137</td>\n",
       "      <td>0.377112</td>\n",
       "    </tr>\n",
       "    <tr>\n",
       "      <th>100</th>\n",
       "      <td>AE</td>\n",
       "      <td>True</td>\n",
       "      <td>59</td>\n",
       "      <td>154</td>\n",
       "      <td>0.383117</td>\n",
       "    </tr>\n",
       "    <tr>\n",
       "      <th>0</th>\n",
       "      <td>CA</td>\n",
       "      <td>True</td>\n",
       "      <td>407</td>\n",
       "      <td>993</td>\n",
       "      <td>0.409869</td>\n",
       "    </tr>\n",
       "    <tr>\n",
       "      <th>13</th>\n",
       "      <td>IE</td>\n",
       "      <td>True</td>\n",
       "      <td>1217</td>\n",
       "      <td>2951</td>\n",
       "      <td>0.412403</td>\n",
       "    </tr>\n",
       "    <tr>\n",
       "      <th>24</th>\n",
       "      <td>ES</td>\n",
       "      <td>True</td>\n",
       "      <td>794</td>\n",
       "      <td>1914</td>\n",
       "      <td>0.414838</td>\n",
       "    </tr>\n",
       "    <tr>\n",
       "      <th>49</th>\n",
       "      <td>RO</td>\n",
       "      <td>True</td>\n",
       "      <td>50</td>\n",
       "      <td>118</td>\n",
       "      <td>0.423729</td>\n",
       "    </tr>\n",
       "    <tr>\n",
       "      <th>78</th>\n",
       "      <td>CR</td>\n",
       "      <td>True</td>\n",
       "      <td>82</td>\n",
       "      <td>188</td>\n",
       "      <td>0.436170</td>\n",
       "    </tr>\n",
       "    <tr>\n",
       "      <th>6</th>\n",
       "      <td>GB</td>\n",
       "      <td>True</td>\n",
       "      <td>1610</td>\n",
       "      <td>3667</td>\n",
       "      <td>0.439051</td>\n",
       "    </tr>\n",
       "    <tr>\n",
       "      <th>25</th>\n",
       "      <td>BE</td>\n",
       "      <td>True</td>\n",
       "      <td>134</td>\n",
       "      <td>304</td>\n",
       "      <td>0.440789</td>\n",
       "    </tr>\n",
       "    <tr>\n",
       "      <th>38</th>\n",
       "      <td>BR</td>\n",
       "      <td>True</td>\n",
       "      <td>215</td>\n",
       "      <td>482</td>\n",
       "      <td>0.446058</td>\n",
       "    </tr>\n",
       "    <tr>\n",
       "      <th>27</th>\n",
       "      <td>AU</td>\n",
       "      <td>True</td>\n",
       "      <td>268</td>\n",
       "      <td>590</td>\n",
       "      <td>0.454237</td>\n",
       "    </tr>\n",
       "    <tr>\n",
       "      <th>17</th>\n",
       "      <td>FR</td>\n",
       "      <td>True</td>\n",
       "      <td>1526</td>\n",
       "      <td>3232</td>\n",
       "      <td>0.472153</td>\n",
       "    </tr>\n",
       "    <tr>\n",
       "      <th>12</th>\n",
       "      <td>CH</td>\n",
       "      <td>True</td>\n",
       "      <td>279</td>\n",
       "      <td>585</td>\n",
       "      <td>0.476923</td>\n",
       "    </tr>\n",
       "    <tr>\n",
       "      <th>7</th>\n",
       "      <td>US</td>\n",
       "      <td>True</td>\n",
       "      <td>2050</td>\n",
       "      <td>4298</td>\n",
       "      <td>0.476966</td>\n",
       "    </tr>\n",
       "    <tr>\n",
       "      <th>14</th>\n",
       "      <td>DE</td>\n",
       "      <td>True</td>\n",
       "      <td>745</td>\n",
       "      <td>1535</td>\n",
       "      <td>0.485342</td>\n",
       "    </tr>\n",
       "    <tr>\n",
       "      <th>31</th>\n",
       "      <td>NL</td>\n",
       "      <td>True</td>\n",
       "      <td>212</td>\n",
       "      <td>433</td>\n",
       "      <td>0.489607</td>\n",
       "    </tr>\n",
       "    <tr>\n",
       "      <th>46</th>\n",
       "      <td>SG</td>\n",
       "      <td>True</td>\n",
       "      <td>115</td>\n",
       "      <td>232</td>\n",
       "      <td>0.495690</td>\n",
       "    </tr>\n",
       "    <tr>\n",
       "      <th>65</th>\n",
       "      <td>PT</td>\n",
       "      <td>True</td>\n",
       "      <td>101</td>\n",
       "      <td>203</td>\n",
       "      <td>0.497537</td>\n",
       "    </tr>\n",
       "    <tr>\n",
       "      <th>1</th>\n",
       "      <td>DK</td>\n",
       "      <td>True</td>\n",
       "      <td>86</td>\n",
       "      <td>125</td>\n",
       "      <td>0.688000</td>\n",
       "    </tr>\n",
       "  </tbody>\n",
       "</table>\n",
       "</div>"
      ],
      "text/plain": [
       "    origin_country  accepted  count_accepted  count_country  acceptance_rate\n",
       "73              IN      True             138            874         0.157895\n",
       "55              HR      True             159            530         0.300000\n",
       "72              AT      True              83            239         0.347280\n",
       "54              RU      True              83            239         0.347280\n",
       "11              IT      True            1183           3137         0.377112\n",
       "100             AE      True              59            154         0.383117\n",
       "0               CA      True             407            993         0.409869\n",
       "13              IE      True            1217           2951         0.412403\n",
       "24              ES      True             794           1914         0.414838\n",
       "49              RO      True              50            118         0.423729\n",
       "78              CR      True              82            188         0.436170\n",
       "6               GB      True            1610           3667         0.439051\n",
       "25              BE      True             134            304         0.440789\n",
       "38              BR      True             215            482         0.446058\n",
       "27              AU      True             268            590         0.454237\n",
       "17              FR      True            1526           3232         0.472153\n",
       "12              CH      True             279            585         0.476923\n",
       "7               US      True            2050           4298         0.476966\n",
       "14              DE      True             745           1535         0.485342\n",
       "31              NL      True             212            433         0.489607\n",
       "46              SG      True             115            232         0.495690\n",
       "65              PT      True             101            203         0.497537\n",
       "1               DK      True              86            125         0.688000"
      ]
     },
     "execution_count": 29,
     "metadata": {},
     "output_type": "execute_result"
    }
   ],
   "source": [
    "#Find the acceptance rate by country\n",
    "# filter needed columns\n",
    "dataset_country = merged_datasets[['origin_country', 'accepted']]\n",
    "#Find acceptance count by country and accepted\n",
    "accepted_count = dataset_country.groupby(['origin_country', 'accepted']).agg({'origin_country':'count'})\n",
    "accepted_count.columns = ['count_accepted']\n",
    "\n",
    "#Find acceptance count by country\n",
    "country_count = dataset_country.groupby(['origin_country']).agg({'origin_country':'count'})\n",
    "country_count.columns = ['count_country']\n",
    "\n",
    "#Merge datasets for easier manipulation \n",
    "acceptance_country = pd.merge(dataset_country, accepted_count,  how='left', on=['origin_country','accepted']) #Merge accepted count\n",
    "acceptance_country = acceptance_country.drop_duplicates()\n",
    "# Merge total country count\n",
    "acceptance_country = pd.merge(acceptance_country, country_count, how='left', on=['origin_country']) \n",
    "acceptance_country = acceptance_country.sort_values(['count_country', 'accepted'], ascending = [False, True])\n",
    "# 100 is used so there is a good amount of data to make assumptions\n",
    "acceptance_country = acceptance_country[acceptance_country['count_country'] >= 100]\n",
    "# remove where accepted is false\n",
    "acceptance_country = acceptance_country[acceptance_country['accepted'] == True]\n",
    "# Divide count_accepted column by count_country column to find acceptance rate by country\n",
    "acceptance_country['acceptance_rate'] = acceptance_country['count_accepted']/acceptance_country['count_country']\n",
    "acceptance_country.sort_values(['acceptance_rate'], ascending = True)\n"
   ]
  },
  {
   "cell_type": "markdown",
   "id": "1d1531cb-411e-45ea-8534-0b5ac51b4a32",
   "metadata": {},
   "source": [
    "India only has the lowest acceptance rate of 15%, which is half of the second lowest\n",
    "\n",
    "Denmark has the highest acceptance rate but low application numbers. Increasing marketing in this country could increase demand, driving the market\n",
    "\n",
    "More investigation needed!"
   ]
  }
 ],
 "metadata": {
  "kernelspec": {
   "display_name": "Python 3 (ipykernel)",
   "language": "python",
   "name": "python3"
  },
  "language_info": {
   "codemirror_mode": {
    "name": "ipython",
    "version": 3
   },
   "file_extension": ".py",
   "mimetype": "text/x-python",
   "name": "python",
   "nbconvert_exporter": "python",
   "pygments_lexer": "ipython3",
   "version": "3.8.15"
  }
 },
 "nbformat": 4,
 "nbformat_minor": 5
}
