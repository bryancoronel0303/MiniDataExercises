{
 "cells": [
  {
   "cell_type": "markdown",
   "id": "5f339c70-3346-4e6c-ab10-cb4d723bd73c",
   "metadata": {},
   "source": [
    "## It is important for websites to analyze traffic data\n",
    "The data set provided (traffic.csv) contains web traffic data (\"events\") from a few different pages (\"links\") over a period of 7 days including various categorical dimensions about the geographic origin of that traffic as well as a page's content: isrc.  \n",
    "Let's develop ideas how to increase the links' clickrates."
   ]
  },
  {
   "cell_type": "markdown",
   "id": "145ca961-48c2-4586-a3a4-50be8a7b2fcc",
   "metadata": {},
   "source": [
    "### EDA"
   ]
  },
  {
   "cell_type": "code",
   "execution_count": 1,
   "id": "dc6de57b-3098-4b1c-a8a2-c023b8cdb34e",
   "metadata": {},
   "outputs": [],
   "source": [
    "# import libraries\n",
    "import pandas as pd\n",
    "import numpy as np\n",
    "from scipy import stats"
   ]
  },
  {
   "cell_type": "code",
   "execution_count": 2,
   "id": "4eaea88c-a3e2-4b92-9585-8b76ef6ae39a",
   "metadata": {},
   "outputs": [],
   "source": [
    "# load the data set\n",
    "df = pd.read_csv(\"/Users/bryancoronelnew/Documents/projects/stratascratch/Linkfire/data/traffic.csv\")"
   ]
  },
  {
   "cell_type": "code",
   "execution_count": 3,
   "id": "667b2f36-62c7-4905-96ba-15966478e675",
   "metadata": {},
   "outputs": [
    {
     "data": {
      "text/plain": [
       "(226278, 9)"
      ]
     },
     "execution_count": 3,
     "metadata": {},
     "output_type": "execute_result"
    }
   ],
   "source": [
    "df.shape"
   ]
  },
  {
   "cell_type": "code",
   "execution_count": 4,
   "id": "d59f2f59-84ad-4663-886c-1b7733360d12",
   "metadata": {},
   "outputs": [
    {
     "data": {
      "text/html": [
       "<div>\n",
       "<style scoped>\n",
       "    .dataframe tbody tr th:only-of-type {\n",
       "        vertical-align: middle;\n",
       "    }\n",
       "\n",
       "    .dataframe tbody tr th {\n",
       "        vertical-align: top;\n",
       "    }\n",
       "\n",
       "    .dataframe thead th {\n",
       "        text-align: right;\n",
       "    }\n",
       "</style>\n",
       "<table border=\"1\" class=\"dataframe\">\n",
       "  <thead>\n",
       "    <tr style=\"text-align: right;\">\n",
       "      <th></th>\n",
       "      <th>event</th>\n",
       "      <th>date</th>\n",
       "      <th>country</th>\n",
       "      <th>city</th>\n",
       "      <th>artist</th>\n",
       "      <th>album</th>\n",
       "      <th>track</th>\n",
       "      <th>isrc</th>\n",
       "      <th>linkid</th>\n",
       "    </tr>\n",
       "  </thead>\n",
       "  <tbody>\n",
       "    <tr>\n",
       "      <th>0</th>\n",
       "      <td>click</td>\n",
       "      <td>2021-08-21</td>\n",
       "      <td>Saudi Arabia</td>\n",
       "      <td>Jeddah</td>\n",
       "      <td>Tesher</td>\n",
       "      <td>Jalebi Baby</td>\n",
       "      <td>Jalebi Baby</td>\n",
       "      <td>QZNWQ2070741</td>\n",
       "      <td>2d896d31-97b6-4869-967b-1c5fb9cd4bb8</td>\n",
       "    </tr>\n",
       "    <tr>\n",
       "      <th>1</th>\n",
       "      <td>click</td>\n",
       "      <td>2021-08-21</td>\n",
       "      <td>Saudi Arabia</td>\n",
       "      <td>Jeddah</td>\n",
       "      <td>Tesher</td>\n",
       "      <td>Jalebi Baby</td>\n",
       "      <td>Jalebi Baby</td>\n",
       "      <td>QZNWQ2070741</td>\n",
       "      <td>2d896d31-97b6-4869-967b-1c5fb9cd4bb8</td>\n",
       "    </tr>\n",
       "    <tr>\n",
       "      <th>2</th>\n",
       "      <td>click</td>\n",
       "      <td>2021-08-21</td>\n",
       "      <td>India</td>\n",
       "      <td>Ludhiana</td>\n",
       "      <td>Reyanna Maria</td>\n",
       "      <td>So Pretty</td>\n",
       "      <td>So Pretty</td>\n",
       "      <td>USUM72100871</td>\n",
       "      <td>23199824-9cf5-4b98-942a-34965c3b0cc2</td>\n",
       "    </tr>\n",
       "    <tr>\n",
       "      <th>3</th>\n",
       "      <td>click</td>\n",
       "      <td>2021-08-21</td>\n",
       "      <td>France</td>\n",
       "      <td>Unknown</td>\n",
       "      <td>Simone &amp; Simaria, Sebastian Yatra</td>\n",
       "      <td>No Llores Más</td>\n",
       "      <td>No Llores Más</td>\n",
       "      <td>BRUM72003904</td>\n",
       "      <td>35573248-4e49-47c7-af80-08a960fa74cd</td>\n",
       "    </tr>\n",
       "    <tr>\n",
       "      <th>4</th>\n",
       "      <td>click</td>\n",
       "      <td>2021-08-21</td>\n",
       "      <td>Maldives</td>\n",
       "      <td>Malé</td>\n",
       "      <td>Tesher</td>\n",
       "      <td>Jalebi Baby</td>\n",
       "      <td>Jalebi Baby</td>\n",
       "      <td>QZNWQ2070741</td>\n",
       "      <td>2d896d31-97b6-4869-967b-1c5fb9cd4bb8</td>\n",
       "    </tr>\n",
       "  </tbody>\n",
       "</table>\n",
       "</div>"
      ],
      "text/plain": [
       "   event        date       country      city  \\\n",
       "0  click  2021-08-21  Saudi Arabia    Jeddah   \n",
       "1  click  2021-08-21  Saudi Arabia    Jeddah   \n",
       "2  click  2021-08-21         India  Ludhiana   \n",
       "3  click  2021-08-21        France   Unknown   \n",
       "4  click  2021-08-21      Maldives      Malé   \n",
       "\n",
       "                              artist          album          track  \\\n",
       "0                             Tesher    Jalebi Baby    Jalebi Baby   \n",
       "1                             Tesher    Jalebi Baby    Jalebi Baby   \n",
       "2                      Reyanna Maria      So Pretty      So Pretty   \n",
       "3  Simone & Simaria, Sebastian Yatra  No Llores Más  No Llores Más   \n",
       "4                             Tesher    Jalebi Baby    Jalebi Baby   \n",
       "\n",
       "           isrc                                linkid  \n",
       "0  QZNWQ2070741  2d896d31-97b6-4869-967b-1c5fb9cd4bb8  \n",
       "1  QZNWQ2070741  2d896d31-97b6-4869-967b-1c5fb9cd4bb8  \n",
       "2  USUM72100871  23199824-9cf5-4b98-942a-34965c3b0cc2  \n",
       "3  BRUM72003904  35573248-4e49-47c7-af80-08a960fa74cd  \n",
       "4  QZNWQ2070741  2d896d31-97b6-4869-967b-1c5fb9cd4bb8  "
      ]
     },
     "execution_count": 4,
     "metadata": {},
     "output_type": "execute_result"
    }
   ],
   "source": [
    "df.head()"
   ]
  },
  {
   "cell_type": "code",
   "execution_count": 5,
   "id": "65405801-d317-4a22-8d63-e9e84b9c46d6",
   "metadata": {},
   "outputs": [
    {
     "data": {
      "text/html": [
       "<div>\n",
       "<style scoped>\n",
       "    .dataframe tbody tr th:only-of-type {\n",
       "        vertical-align: middle;\n",
       "    }\n",
       "\n",
       "    .dataframe tbody tr th {\n",
       "        vertical-align: top;\n",
       "    }\n",
       "\n",
       "    .dataframe thead th {\n",
       "        text-align: right;\n",
       "    }\n",
       "</style>\n",
       "<table border=\"1\" class=\"dataframe\">\n",
       "  <thead>\n",
       "    <tr style=\"text-align: right;\">\n",
       "      <th></th>\n",
       "      <th>event</th>\n",
       "      <th>date</th>\n",
       "      <th>country</th>\n",
       "      <th>city</th>\n",
       "      <th>artist</th>\n",
       "      <th>album</th>\n",
       "      <th>track</th>\n",
       "      <th>isrc</th>\n",
       "      <th>linkid</th>\n",
       "    </tr>\n",
       "  </thead>\n",
       "  <tbody>\n",
       "    <tr>\n",
       "      <th>count</th>\n",
       "      <td>226278</td>\n",
       "      <td>226278</td>\n",
       "      <td>226267</td>\n",
       "      <td>226267</td>\n",
       "      <td>226241</td>\n",
       "      <td>226273</td>\n",
       "      <td>226273</td>\n",
       "      <td>219157</td>\n",
       "      <td>226278</td>\n",
       "    </tr>\n",
       "    <tr>\n",
       "      <th>unique</th>\n",
       "      <td>3</td>\n",
       "      <td>7</td>\n",
       "      <td>211</td>\n",
       "      <td>11993</td>\n",
       "      <td>2419</td>\n",
       "      <td>3254</td>\n",
       "      <td>3562</td>\n",
       "      <td>709</td>\n",
       "      <td>3839</td>\n",
       "    </tr>\n",
       "    <tr>\n",
       "      <th>top</th>\n",
       "      <td>pageview</td>\n",
       "      <td>2021-08-19</td>\n",
       "      <td>Saudi Arabia</td>\n",
       "      <td>Jeddah</td>\n",
       "      <td>Tesher</td>\n",
       "      <td>Jalebi Baby</td>\n",
       "      <td>Jalebi Baby</td>\n",
       "      <td>QZNWQ2070741</td>\n",
       "      <td>2d896d31-97b6-4869-967b-1c5fb9cd4bb8</td>\n",
       "    </tr>\n",
       "    <tr>\n",
       "      <th>freq</th>\n",
       "      <td>142015</td>\n",
       "      <td>35361</td>\n",
       "      <td>47334</td>\n",
       "      <td>22791</td>\n",
       "      <td>40841</td>\n",
       "      <td>40841</td>\n",
       "      <td>40841</td>\n",
       "      <td>40841</td>\n",
       "      <td>40841</td>\n",
       "    </tr>\n",
       "  </tbody>\n",
       "</table>\n",
       "</div>"
      ],
      "text/plain": [
       "           event        date       country    city  artist        album  \\\n",
       "count     226278      226278        226267  226267  226241       226273   \n",
       "unique         3           7           211   11993    2419         3254   \n",
       "top     pageview  2021-08-19  Saudi Arabia  Jeddah  Tesher  Jalebi Baby   \n",
       "freq      142015       35361         47334   22791   40841        40841   \n",
       "\n",
       "              track          isrc                                linkid  \n",
       "count        226273        219157                                226278  \n",
       "unique         3562           709                                  3839  \n",
       "top     Jalebi Baby  QZNWQ2070741  2d896d31-97b6-4869-967b-1c5fb9cd4bb8  \n",
       "freq          40841         40841                                 40841  "
      ]
     },
     "execution_count": 5,
     "metadata": {},
     "output_type": "execute_result"
    }
   ],
   "source": [
    "# print descriptive statistics about each column\n",
    "df.describe()"
   ]
  },
  {
   "cell_type": "markdown",
   "id": "d377c8ee-e282-4cf2-afda-368372f8ab83",
   "metadata": {},
   "source": [
    "Because all of our columns are of type object, the descriptive statistics provide a summary that is relevant to a categorical attribute.   \n",
    "If data were numerical, describe() method would output different properties, like mean, max, min value, etc."
   ]
  },
  {
   "cell_type": "code",
   "execution_count": 6,
   "id": "ae0f4873-22f0-4551-82af-407fa04346be",
   "metadata": {},
   "outputs": [
    {
     "name": "stdout",
     "output_type": "stream",
     "text": [
      "<class 'pandas.core.frame.DataFrame'>\n",
      "RangeIndex: 226278 entries, 0 to 226277\n",
      "Data columns (total 9 columns):\n",
      " #   Column   Non-Null Count   Dtype \n",
      "---  ------   --------------   ----- \n",
      " 0   event    226278 non-null  object\n",
      " 1   date     226278 non-null  object\n",
      " 2   country  226267 non-null  object\n",
      " 3   city     226267 non-null  object\n",
      " 4   artist   226241 non-null  object\n",
      " 5   album    226273 non-null  object\n",
      " 6   track    226273 non-null  object\n",
      " 7   isrc     219157 non-null  object\n",
      " 8   linkid   226278 non-null  object\n",
      "dtypes: object(9)\n",
      "memory usage: 15.5+ MB\n"
     ]
    }
   ],
   "source": [
    "df.info()"
   ]
  },
  {
   "cell_type": "markdown",
   "id": "c42fc855-2cdf-49b4-9cfe-fa60ef4fcb80",
   "metadata": {
    "tags": []
   },
   "source": [
    "### How many total pageview events did the links in the provided dataset receive in the full period, how many per day?"
   ]
  },
  {
   "cell_type": "code",
   "execution_count": 15,
   "id": "a33b8a1e-ab8a-4d56-b89e-f5233e78fa18",
   "metadata": {},
   "outputs": [
    {
     "data": {
      "text/plain": [
       "142015"
      ]
     },
     "execution_count": 15,
     "metadata": {},
     "output_type": "execute_result"
    }
   ],
   "source": [
    "# the data set records three types of events: pageview, click, preview\n",
    "df[\"event\"].value_counts().pageview"
   ]
  },
  {
   "cell_type": "markdown",
   "id": "18d848b8-fd64-47df-8b2e-76d6c061d24d",
   "metadata": {},
   "source": [
    "Approach:\n",
    "1. filter only for 'pageview' events\n",
    "2. group by the date\n",
    "3. keep only the 'event' column, and specify a 'count' aggregation"
   ]
  },
  {
   "cell_type": "code",
   "execution_count": 7,
   "id": "c50ab467-e756-476a-9f99-bd1e8fd03ac7",
   "metadata": {},
   "outputs": [
    {
     "data": {
      "text/plain": [
       "date\n",
       "2021-08-19    22366\n",
       "2021-08-20    21382\n",
       "2021-08-21    21349\n",
       "2021-08-22    20430\n",
       "2021-08-23    18646\n",
       "2021-08-24    18693\n",
       "2021-08-25    19149\n",
       "Name: event, dtype: int64"
      ]
     },
     "execution_count": 7,
     "metadata": {},
     "output_type": "execute_result"
    }
   ],
   "source": [
    "df[df[\"event\"] == \"pageview\"].groupby(by=\"date\")[\"event\"].count()"
   ]
  },
  {
   "cell_type": "markdown",
   "id": "154080c8-2fd3-41d9-8d04-89b3013b94c8",
   "metadata": {},
   "source": [
    "note: this data allows for duplicates so our values would be different if we were to use drop_duplicates()"
   ]
  },
  {
   "cell_type": "markdown",
   "id": "1b53fac4-5def-4f89-8219-2522bab18a50",
   "metadata": {},
   "source": [
    "#### What about the other recorded events?"
   ]
  },
  {
   "cell_type": "markdown",
   "id": "5bb7cbda-b649-43de-8f33-c3e51c507ed6",
   "metadata": {},
   "source": [
    "Note: Instead of hard-coding easy solution, we are going to apply some set operations that would generalize to other events as well.   \n",
    "Data is constantly changing in the real world and the following solution would still work if it did"
   ]
  },
  {
   "cell_type": "code",
   "execution_count": 18,
   "id": "88ff5103-cec1-4f7f-8d28-94aad865e12c",
   "metadata": {},
   "outputs": [
    {
     "data": {
      "text/plain": [
       "{'click', 'preview'}"
      ]
     },
     "execution_count": 18,
     "metadata": {},
     "output_type": "execute_result"
    }
   ],
   "source": [
    "# get the set of recorded events in the data\n",
    "recorded_events = set(df[\"event\"].unique())\n",
    "# remove the 'pageview' event\n",
    "recorded_events.remove(\"pageview\")\n",
    "recorded_events"
   ]
  },
  {
   "cell_type": "code",
   "execution_count": 20,
   "id": "9ff4eade-c64a-49b0-834c-58c9a9c7070e",
   "metadata": {},
   "outputs": [
    {
     "name": "stdout",
     "output_type": "stream",
     "text": [
      "Total number of click events is 55732 \n",
      "\n",
      "click event distribution per day:\n",
      "\n",
      "date\n",
      "2021-08-19    9207\n",
      "2021-08-20    8508\n",
      "2021-08-21    8071\n",
      "2021-08-22    7854\n",
      "2021-08-23    7315\n",
      "2021-08-24    7301\n",
      "2021-08-25    7476\n",
      "Name: event, dtype: int64 \n",
      "\n",
      "Total number of preview events is 28531 \n",
      "\n",
      "preview event distribution per day:\n",
      "\n",
      "date\n",
      "2021-08-19    3788\n",
      "2021-08-20    4222\n",
      "2021-08-21    4663\n",
      "2021-08-22    4349\n",
      "2021-08-23    3847\n",
      "2021-08-24    3840\n",
      "2021-08-25    3822\n",
      "Name: event, dtype: int64 \n",
      "\n"
     ]
    }
   ],
   "source": [
    "# loop over each event\n",
    "for recorded_event in recorded_events:\n",
    "    # get the total number of occurrences\n",
    "    total_events = df[df[\"event\"] == recorded_event].shape[0]\n",
    "    print(\"Total number of\", recorded_event, \"events is\", total_events, \"\\n\")\n",
    "    # group by the date and aggregate by count\n",
    "    data_set = df[df[\"event\"] == recorded_event].groupby(by=\"date\")[\"event\"].count()\n",
    "    print(f\"{recorded_event} event distribution per day:\\n\")\n",
    "    print(data_set, \"\\n\")"
   ]
  },
  {
   "cell_type": "markdown",
   "id": "890f24a8-05e2-4aac-a337-16f7b336f4d7",
   "metadata": {},
   "source": [
    "### Which countries did the clicks come from?"
   ]
  },
  {
   "cell_type": "markdown",
   "id": "f6f52b57-be98-4dd9-8db7-f14ec54a7b5c",
   "metadata": {},
   "source": [
    "1. We need to filter for the click events only  \n",
    "2. print the unique values of the Country column (ignoring any nan's)"
   ]
  },
  {
   "cell_type": "code",
   "execution_count": 24,
   "id": "8e5f373e-6cbd-4db7-aed6-c84a2856342e",
   "metadata": {},
   "outputs": [
    {
     "data": {
      "text/plain": [
       "array(['Saudi Arabia', 'India', 'France', 'Maldives', 'United States',\n",
       "       'Sierra Leone', 'United Kingdom', 'Sweden', 'United Arab Emirates',\n",
       "       'Qatar', 'Germany', 'Albania', 'Iraq', 'Romania', 'Morocco',\n",
       "       'Kuwait', 'Nigeria', 'Finland', 'Bangladesh', 'Fiji', 'Turkey',\n",
       "       'Russia', 'Belgium', 'Norway', 'Cabo Verde', 'Italy', 'Austria',\n",
       "       'Libya', 'Pakistan', 'Bahrain', 'Tunisia', 'DR Congo', 'Australia',\n",
       "       'Canada', 'Kenya', 'French Guiana', 'Jordan', 'Netherlands',\n",
       "       'Somalia', 'Mexico', 'Oman', 'Sri Lanka', 'Ecuador', 'Latvia',\n",
       "       'Guatemala', 'South Africa', 'Bosnia and Herzegovina', 'Yemen',\n",
       "       'Switzerland', 'Slovenia', 'Mauritania', 'Cameroon', 'Spain',\n",
       "       'Thailand', 'Egypt', 'Poland', 'Ghana', 'Gabon', 'Greece',\n",
       "       'Burkina Faso', 'Malaysia', 'Zambia', 'American Samoa', 'Algeria',\n",
       "       'Uganda', 'Bulgaria', 'Denmark', 'Colombia', 'Portugal', 'Senegal',\n",
       "       'Ireland', 'Panama', 'Serbia', 'Haiti', 'Honduras', 'Tanzania',\n",
       "       'Nepal', 'Palestine', 'Paraguay', 'Brazil', 'Niger', 'Lebanon',\n",
       "       'Jamaica', 'Georgia', 'Hungary', 'Philippines', 'Botswana',\n",
       "       'Israel', 'Ukraine', 'Peru', 'Hong Kong', 'Iceland', 'Estonia',\n",
       "       'Singapore', 'Azerbaijan', 'Mali', 'Mozambique', 'Ivory Coast',\n",
       "       'Guinea', 'Ethiopia', 'Dominican Republic', 'Martinique',\n",
       "       'Nicaragua', 'Turks and Caicos Islands', 'Kyrgyzstan', 'Réunion',\n",
       "       'Bhutan', 'Kosovo', 'New Zealand', 'Croatia', 'Belize', 'Japan',\n",
       "       'Lithuania', 'Angola', 'Puerto Rico', 'Luxembourg', 'Benin',\n",
       "       'Slovakia', 'Indonesia', 'Djibouti', 'Bahamas', 'Togo', 'Armenia',\n",
       "       'Argentina', 'Bolivia', 'South Korea', 'Iran', 'Moldova', 'Rwanda',\n",
       "       'Zimbabwe', 'Cayman Islands', 'Burundi', 'Montenegro', 'Malta',\n",
       "       'Costa Rica', 'El Salvador', 'Czechia', 'Venezuela',\n",
       "       'Papua New Guinea', 'Congo Republic', 'Sudan', 'North Macedonia',\n",
       "       'Uzbekistan', 'Myanmar', 'Trinidad and Tobago', 'Aruba', 'Guyana',\n",
       "       'Mongolia', 'Barbados', 'Curaçao', 'Liberia', 'Mauritius', 'Chile',\n",
       "       'Suriname', 'Cambodia', 'China', 'Kazakhstan', 'Namibia',\n",
       "       'U.S. Virgin Islands', 'Chad', 'Greenland', 'Mayotte',\n",
       "       'Marshall Islands', 'Saint Martin',\n",
       "       'Saint Vincent and the Grenadines', 'Dominica', 'Gambia',\n",
       "       'Eswatini', 'Comoros', 'Laos', 'Cyprus', 'Guadeloupe', 'Eritrea',\n",
       "       'Tajikistan', 'Liechtenstein', 'Uruguay', 'Antigua and Barbuda',\n",
       "       'Anguilla', 'Seychelles', 'British Virgin Islands', 'Grenada',\n",
       "       'French Polynesia', 'Vietnam', 'Saint Lucia', 'Wallis and Futuna',\n",
       "       'Gibraltar', 'St Kitts and Nevis', 'Belarus', 'Taiwan', 'Syria',\n",
       "       'Isle of Man', 'Madagascar', 'New Caledonia',\n",
       "       'Central African Republic', 'Malawi', 'Bermuda', 'Solomon Islands',\n",
       "       'Guernsey', 'Palau', 'Åland', 'Principality of Monaco', 'Brunei'],\n",
       "      dtype=object)"
      ]
     },
     "execution_count": 24,
     "metadata": {},
     "output_type": "execute_result"
    }
   ],
   "source": [
    "# filter for the proper event\n",
    "countries = df[df[\"event\"] == \"click\"][\"country\"].dropna().unique()"
   ]
  },
  {
   "cell_type": "markdown",
   "id": "76227792-9271-43ca-bc11-1fbbe2a004f7",
   "metadata": {},
   "source": [
    "Observation:\n",
    "1. 202 countries returned, while there are 211 unique countries in the entire data set, \n",
    "2. so there are 9 countries where we have not recorded a click event.  \n",
    "    a. follow up question would be to find out which are those 9 countries."
   ]
  },
  {
   "cell_type": "code",
   "execution_count": 34,
   "id": "0f3c4b55-29cd-49c0-b49a-6f2ae62aabfd",
   "metadata": {},
   "outputs": [
    {
     "data": {
      "text/plain": [
       "{'Afghanistan',\n",
       " 'Andorra',\n",
       " 'Faroe Islands',\n",
       " 'Guinea-Bissau',\n",
       " 'Jersey',\n",
       " 'Lesotho',\n",
       " 'Macao',\n",
       " 'Samoa',\n",
       " 'Sint Maarten',\n",
       " nan}"
      ]
     },
     "execution_count": 34,
     "metadata": {},
     "output_type": "execute_result"
    }
   ],
   "source": [
    "# take all countries in the column and compare against the ones that had a click\n",
    "# at least one of the data structs gotta be a set in order to use difference()\n",
    "set(df[\"country\"].unique()).difference(countries)"
   ]
  },
  {
   "cell_type": "markdown",
   "id": "6903aee5-953a-4b40-929f-ff1b1e5899eb",
   "metadata": {},
   "source": [
    "### What was the overall click rate (clicks/pageviews)?"
   ]
  },
  {
   "cell_type": "markdown",
   "id": "80357b5e-df3f-41e4-b6fe-d170c025afd3",
   "metadata": {},
   "source": [
    "click rate:\n",
    "- num of clicks page has received (event = 'click') divided by num times it's been shown (event = 'pageview').   \n",
    "- It is a commonly used metric that measures the success of an advertising campaign."
   ]
  },
  {
   "cell_type": "code",
   "execution_count": 39,
   "id": "c7d36925-043c-4bc3-9ca1-268d6fbe2fed",
   "metadata": {},
   "outputs": [],
   "source": [
    "# filter only 'click' events and group them by the 'linkid' to get their count,\n",
    "# i.e., number of clicks on each link\n",
    "link_clicks = df[df[\"event\"] == \"click\"].groupby(by=\"linkid\")[\"event\"].count().reset_index()\n",
    "link_clicks = link_clicks.rename(columns={\n",
    "    \"event\": \"clicks\" # rename column for easier manipulation\n",
    "})\n",
    "# do the same for the 'pageview' events\n",
    "pageviews = df[df[\"event\"] == \"pageview\"].groupby(by=\"linkid\")[\"event\"].count().reset_index()\n",
    "pageviews = pageviews.rename(columns={\n",
    "    \"event\": \"pageviews\"\n",
    "})"
   ]
  },
  {
   "cell_type": "code",
   "execution_count": 73,
   "id": "9b9dad75-2c95-4d81-ae50-c5f4a5e592ec",
   "metadata": {},
   "outputs": [],
   "source": [
    "# pd.merge() does a database-style inner join of the two dataframes\n",
    "df_q4 = pd.merge(left=link_clicks, right=pageviews, on=\"linkid\", how=\"inner\")"
   ]
  },
  {
   "cell_type": "code",
   "execution_count": 74,
   "id": "6f16ee90-9d8a-4902-936a-e620036671fc",
   "metadata": {},
   "outputs": [
    {
     "data": {
      "text/html": [
       "<div>\n",
       "<style scoped>\n",
       "    .dataframe tbody tr th:only-of-type {\n",
       "        vertical-align: middle;\n",
       "    }\n",
       "\n",
       "    .dataframe tbody tr th {\n",
       "        vertical-align: top;\n",
       "    }\n",
       "\n",
       "    .dataframe thead th {\n",
       "        text-align: right;\n",
       "    }\n",
       "</style>\n",
       "<table border=\"1\" class=\"dataframe\">\n",
       "  <thead>\n",
       "    <tr style=\"text-align: right;\">\n",
       "      <th></th>\n",
       "      <th>linkid</th>\n",
       "      <th>clicks</th>\n",
       "      <th>pageviews</th>\n",
       "      <th>click_rate</th>\n",
       "    </tr>\n",
       "  </thead>\n",
       "  <tbody>\n",
       "    <tr>\n",
       "      <th>0</th>\n",
       "      <td>00126b32-0c35-507b-981c-02c80d2aa8e7</td>\n",
       "      <td>2</td>\n",
       "      <td>2</td>\n",
       "      <td>1.000000</td>\n",
       "    </tr>\n",
       "    <tr>\n",
       "      <th>1</th>\n",
       "      <td>004b9724-abca-5481-b6e9-6148a7ca00a5</td>\n",
       "      <td>1</td>\n",
       "      <td>1</td>\n",
       "      <td>1.000000</td>\n",
       "    </tr>\n",
       "    <tr>\n",
       "      <th>2</th>\n",
       "      <td>0063a982-41cd-5629-96d0-e1c4dd72ea11</td>\n",
       "      <td>2</td>\n",
       "      <td>3</td>\n",
       "      <td>0.666667</td>\n",
       "    </tr>\n",
       "    <tr>\n",
       "      <th>3</th>\n",
       "      <td>006af6a0-1f0d-4b0c-93bf-756af9071c06</td>\n",
       "      <td>8</td>\n",
       "      <td>36</td>\n",
       "      <td>0.222222</td>\n",
       "    </tr>\n",
       "    <tr>\n",
       "      <th>4</th>\n",
       "      <td>00759b81-3f04-4a61-b934-f8fb3185f4a0</td>\n",
       "      <td>3</td>\n",
       "      <td>4</td>\n",
       "      <td>0.750000</td>\n",
       "    </tr>\n",
       "    <tr>\n",
       "      <th>...</th>\n",
       "      <td>...</td>\n",
       "      <td>...</td>\n",
       "      <td>...</td>\n",
       "      <td>...</td>\n",
       "    </tr>\n",
       "    <tr>\n",
       "      <th>2248</th>\n",
       "      <td>ffd8d5a7-91bc-48e1-a692-c26fca8a8ead</td>\n",
       "      <td>29</td>\n",
       "      <td>84</td>\n",
       "      <td>0.345238</td>\n",
       "    </tr>\n",
       "    <tr>\n",
       "      <th>2249</th>\n",
       "      <td>fff38ca0-8043-50cd-a5f1-f65ebb7105c5</td>\n",
       "      <td>1</td>\n",
       "      <td>1</td>\n",
       "      <td>1.000000</td>\n",
       "    </tr>\n",
       "    <tr>\n",
       "      <th>2250</th>\n",
       "      <td>fff84c0e-90a1-59d8-9997-adc909d50e16</td>\n",
       "      <td>1</td>\n",
       "      <td>1</td>\n",
       "      <td>1.000000</td>\n",
       "    </tr>\n",
       "    <tr>\n",
       "      <th>2251</th>\n",
       "      <td>fffc17a7-f935-5d3e-bd3e-d761fd80d479</td>\n",
       "      <td>1</td>\n",
       "      <td>2</td>\n",
       "      <td>0.500000</td>\n",
       "    </tr>\n",
       "    <tr>\n",
       "      <th>2252</th>\n",
       "      <td>fffd0045-29de-522b-b5d8-35786363bf07</td>\n",
       "      <td>1</td>\n",
       "      <td>2</td>\n",
       "      <td>0.500000</td>\n",
       "    </tr>\n",
       "  </tbody>\n",
       "</table>\n",
       "<p>2253 rows × 4 columns</p>\n",
       "</div>"
      ],
      "text/plain": [
       "                                    linkid  clicks  pageviews  click_rate\n",
       "0     00126b32-0c35-507b-981c-02c80d2aa8e7       2          2    1.000000\n",
       "1     004b9724-abca-5481-b6e9-6148a7ca00a5       1          1    1.000000\n",
       "2     0063a982-41cd-5629-96d0-e1c4dd72ea11       2          3    0.666667\n",
       "3     006af6a0-1f0d-4b0c-93bf-756af9071c06       8         36    0.222222\n",
       "4     00759b81-3f04-4a61-b934-f8fb3185f4a0       3          4    0.750000\n",
       "...                                    ...     ...        ...         ...\n",
       "2248  ffd8d5a7-91bc-48e1-a692-c26fca8a8ead      29         84    0.345238\n",
       "2249  fff38ca0-8043-50cd-a5f1-f65ebb7105c5       1          1    1.000000\n",
       "2250  fff84c0e-90a1-59d8-9997-adc909d50e16       1          1    1.000000\n",
       "2251  fffc17a7-f935-5d3e-bd3e-d761fd80d479       1          2    0.500000\n",
       "2252  fffd0045-29de-522b-b5d8-35786363bf07       1          2    0.500000\n",
       "\n",
       "[2253 rows x 4 columns]"
      ]
     },
     "execution_count": 74,
     "metadata": {},
     "output_type": "execute_result"
    }
   ],
   "source": [
    "# define a new calculated column of the 'click_rate'\n",
    "df_q4[\"click_rate\"] = df_q4[\"clicks\"] / df_q4[\"pageviews\"]\n",
    "df_q4"
   ]
  },
  {
   "cell_type": "markdown",
   "id": "c3b8eefd-3658-4b0e-a2cb-365e7b582729",
   "metadata": {},
   "source": [
    "#### How does the clickrate distribute across different links?"
   ]
  },
  {
   "cell_type": "code",
   "execution_count": 75,
   "id": "5ca90cd7-219c-40af-8760-17b5b463601b",
   "metadata": {},
   "outputs": [
    {
     "data": {
      "text/plain": [
       "count    2253.000000\n",
       "mean        0.809920\n",
       "std         1.958030\n",
       "min         0.090909\n",
       "25%         0.500000\n",
       "50%         1.000000\n",
       "75%         1.000000\n",
       "max        92.300000\n",
       "Name: click_rate, dtype: float64"
      ]
     },
     "execution_count": 75,
     "metadata": {},
     "output_type": "execute_result"
    }
   ],
   "source": [
    "df_q4[\"click_rate\"].describe()"
   ]
  },
  {
   "cell_type": "code",
   "execution_count": 59,
   "id": "84f6ca06-ede0-478e-8ae6-656544e4617c",
   "metadata": {},
   "outputs": [
    {
     "data": {
      "text/plain": [
       "Text(0, 0.5, 'frequency')"
      ]
     },
     "execution_count": 59,
     "metadata": {},
     "output_type": "execute_result"
    },
    {
     "data": {
      "image/png": "[encoded data removed]",
      "text/plain": [
       "<Figure size 640x480 with 1 Axes>"
      ]
     },
     "metadata": {},
     "output_type": "display_data"
    }
   ],
   "source": [
    "# let's look at visually!\n",
    "ax = df_q4.plot(kind=\"hist\",bins=100, column = \"click_rate\", range=[0, 3])\n",
    "ax.set_ylabel(\"frequency\")"
   ]
  },
  {
   "cell_type": "code",
   "execution_count": 78,
   "id": "ebfffb50-8207-4c49-9efb-939eec22a13b",
   "metadata": {},
   "outputs": [
    {
     "data": {
      "text/plain": [
       "Text(0.5, 0, 'Log2(Click Rate)')"
      ]
     },
     "execution_count": 78,
     "metadata": {},
     "output_type": "execute_result"
    },
    {
     "data": {
      "image/png": "[encoded data removed]",
      "text/plain": [
       "<Figure size 640x480 with 1 Axes>"
      ]
     },
     "metadata": {},
     "output_type": "display_data"
    }
   ],
   "source": [
    "# because the data is highly skewed, it makes more sense to plot the log of it\n",
    "df_q4[\"click_rate_log2\"] = np.log2(df_q4[\"click_rate\"])\n",
    "ax = df_q4.plot(kind=\"hist\",bins=100, column = \"click_rate_log2\", range=[-3, 3])\n",
    "ax.set_xlabel(\"Log2(Click Rate)\")"
   ]
  },
  {
   "cell_type": "markdown",
   "id": "63717601-039f-4086-a0df-0025f4ac85c6",
   "metadata": {},
   "source": [
    "Observations:\n",
    "1. enormous spike at the 0 meaning that actual click rate was 1 (inverse log)\n",
    "    a. implying that there are many links that have been viewed and clicked on exactly once.  \n",
    "2. many links that have been viewed many times but clicked on fewer (values less than zero)"
   ]
  },
  {
   "cell_type": "markdown",
   "id": "63d38c07-d946-4b93-afac-94d78a9a1a5f",
   "metadata": {},
   "source": [
    "One last thing to try is a box plot, which is basically a visualization of the describe() method."
   ]
  },
  {
   "cell_type": "code",
   "execution_count": 61,
   "id": "f292ba1a-a212-4042-aafb-fcd75d41b906",
   "metadata": {},
   "outputs": [
    {
     "data": {
      "text/plain": [
       "Text(0, 0.5, 'Value')"
      ]
     },
     "execution_count": 61,
     "metadata": {},
     "output_type": "execute_result"
    },
    {
     "data": {
      "image/png": "[encoded data removed]",
      "text/plain": [
       "<Figure size 640x480 with 1 Axes>"
      ]
     },
     "metadata": {},
     "output_type": "display_data"
    }
   ],
   "source": [
    "ax = df_q4.boxplot(column=\"click_rate_log2\")\n",
    "ax.set_ylabel(\"Value\")"
   ]
  },
  {
   "cell_type": "markdown",
   "id": "72f71dbc-7076-4048-9e37-c687f20622d6",
   "metadata": {},
   "source": [
    "Obervation:\n",
    "1. two (and one particular) high outliers\n",
    "2. many, many below the Q1 (i.e., click rate very close to zero)  \n",
    "    a. maybe at least two links, that have been clicked on multiple times in the same page view."
   ]
  },
  {
   "cell_type": "markdown",
   "id": "8371d9cc-a272-4724-be7b-ec377e61be4f",
   "metadata": {},
   "source": [
    "#### Any correlation between clicks and previews on a link? Is it significant? How large is the effect? \n",
    "Let's at least test for potential linear as well as categorical (think binary) relationships between both variables."
   ]
  },
  {
   "cell_type": "markdown",
   "id": "65bf557e-7a85-4881-ba8f-233736db0197",
   "metadata": {},
   "source": [
    "- Pearson's correlation coefficient is a measure of linear correlation between two data sets between -1 and 1  \n",
    "    - positive correlation coefficient implies that both sets move in the same direction, either they both increase or decrease."
   ]
  },
  {
   "cell_type": "code",
   "execution_count": 62,
   "id": "41bf1541-8337-4a7e-aa37-6b26a9931331",
   "metadata": {},
   "outputs": [],
   "source": [
    "# filter only events that are relevant to the question\n",
    "df_q6 = df[df[\"event\"].isin([\"click\", \"preview\"])]"
   ]
  },
  {
   "cell_type": "code",
   "execution_count": 63,
   "id": "c523890b-4e08-4775-b728-40925c5c8c80",
   "metadata": {},
   "outputs": [],
   "source": [
    "# filter only 'click' events and group them by the 'linkid' to get their count,\n",
    "# i.e., number of clicks on each link\n",
    "link_clicks = df[df[\"event\"] == \"click\"].groupby(by=\"linkid\")[\"event\"].count().reset_index()\n",
    "link_clicks = link_clicks.rename(columns={\n",
    "    \"event\": \"clicks\" # rename column for easier manipulation\n",
    "})\n",
    "# do the same for the 'preview' events\n",
    "previews = df[df[\"event\"] == \"preview\"].groupby(by=\"linkid\")[\"event\"].count().reset_index()\n",
    "previews = previews.rename(columns={\n",
    "    \"event\": \"previews\"\n",
    "})"
   ]
  },
  {
   "cell_type": "code",
   "execution_count": 65,
   "id": "8e975f53-2456-4c4e-ba07-9b1319ab799e",
   "metadata": {},
   "outputs": [],
   "source": [
    "# perform two database-style joins to append the \n",
    "# number of link clicks and previews to each row\n",
    "df_q6 = pd.merge(left=df_q6, right=link_clicks, how=\"left\", on=\"linkid\")\n",
    "df_q6 = pd.merge(left=df_q6, right=previews, how=\"left\", on=\"linkid\")"
   ]
  },
  {
   "cell_type": "code",
   "execution_count": 67,
   "id": "0faebe72-6b80-4866-8445-cf1d13fc55ad",
   "metadata": {},
   "outputs": [
    {
     "data": {
      "text/html": [
       "<div>\n",
       "<style scoped>\n",
       "    .dataframe tbody tr th:only-of-type {\n",
       "        vertical-align: middle;\n",
       "    }\n",
       "\n",
       "    .dataframe tbody tr th {\n",
       "        vertical-align: top;\n",
       "    }\n",
       "\n",
       "    .dataframe thead th {\n",
       "        text-align: right;\n",
       "    }\n",
       "</style>\n",
       "<table border=\"1\" class=\"dataframe\">\n",
       "  <thead>\n",
       "    <tr style=\"text-align: right;\">\n",
       "      <th></th>\n",
       "      <th>event</th>\n",
       "      <th>date</th>\n",
       "      <th>country</th>\n",
       "      <th>city</th>\n",
       "      <th>artist</th>\n",
       "      <th>album</th>\n",
       "      <th>track</th>\n",
       "      <th>isrc</th>\n",
       "      <th>linkid</th>\n",
       "      <th>clicks</th>\n",
       "      <th>previews</th>\n",
       "    </tr>\n",
       "  </thead>\n",
       "  <tbody>\n",
       "    <tr>\n",
       "      <th>0</th>\n",
       "      <td>click</td>\n",
       "      <td>2021-08-21</td>\n",
       "      <td>Saudi Arabia</td>\n",
       "      <td>Jeddah</td>\n",
       "      <td>Tesher</td>\n",
       "      <td>Jalebi Baby</td>\n",
       "      <td>Jalebi Baby</td>\n",
       "      <td>QZNWQ2070741</td>\n",
       "      <td>2d896d31-97b6-4869-967b-1c5fb9cd4bb8</td>\n",
       "      <td>9692.0</td>\n",
       "      <td>5974.0</td>\n",
       "    </tr>\n",
       "    <tr>\n",
       "      <th>1</th>\n",
       "      <td>click</td>\n",
       "      <td>2021-08-21</td>\n",
       "      <td>Saudi Arabia</td>\n",
       "      <td>Jeddah</td>\n",
       "      <td>Tesher</td>\n",
       "      <td>Jalebi Baby</td>\n",
       "      <td>Jalebi Baby</td>\n",
       "      <td>QZNWQ2070741</td>\n",
       "      <td>2d896d31-97b6-4869-967b-1c5fb9cd4bb8</td>\n",
       "      <td>9692.0</td>\n",
       "      <td>5974.0</td>\n",
       "    </tr>\n",
       "    <tr>\n",
       "      <th>2</th>\n",
       "      <td>click</td>\n",
       "      <td>2021-08-21</td>\n",
       "      <td>India</td>\n",
       "      <td>Ludhiana</td>\n",
       "      <td>Reyanna Maria</td>\n",
       "      <td>So Pretty</td>\n",
       "      <td>So Pretty</td>\n",
       "      <td>USUM72100871</td>\n",
       "      <td>23199824-9cf5-4b98-942a-34965c3b0cc2</td>\n",
       "      <td>1187.0</td>\n",
       "      <td>718.0</td>\n",
       "    </tr>\n",
       "    <tr>\n",
       "      <th>3</th>\n",
       "      <td>click</td>\n",
       "      <td>2021-08-21</td>\n",
       "      <td>France</td>\n",
       "      <td>Unknown</td>\n",
       "      <td>Simone &amp; Simaria, Sebastian Yatra</td>\n",
       "      <td>No Llores Más</td>\n",
       "      <td>No Llores Más</td>\n",
       "      <td>BRUM72003904</td>\n",
       "      <td>35573248-4e49-47c7-af80-08a960fa74cd</td>\n",
       "      <td>69.0</td>\n",
       "      <td>30.0</td>\n",
       "    </tr>\n",
       "    <tr>\n",
       "      <th>4</th>\n",
       "      <td>click</td>\n",
       "      <td>2021-08-21</td>\n",
       "      <td>Maldives</td>\n",
       "      <td>Malé</td>\n",
       "      <td>Tesher</td>\n",
       "      <td>Jalebi Baby</td>\n",
       "      <td>Jalebi Baby</td>\n",
       "      <td>QZNWQ2070741</td>\n",
       "      <td>2d896d31-97b6-4869-967b-1c5fb9cd4bb8</td>\n",
       "      <td>9692.0</td>\n",
       "      <td>5974.0</td>\n",
       "    </tr>\n",
       "  </tbody>\n",
       "</table>\n",
       "</div>"
      ],
      "text/plain": [
       "   event        date       country      city  \\\n",
       "0  click  2021-08-21  Saudi Arabia    Jeddah   \n",
       "1  click  2021-08-21  Saudi Arabia    Jeddah   \n",
       "2  click  2021-08-21         India  Ludhiana   \n",
       "3  click  2021-08-21        France   Unknown   \n",
       "4  click  2021-08-21      Maldives      Malé   \n",
       "\n",
       "                              artist          album          track  \\\n",
       "0                             Tesher    Jalebi Baby    Jalebi Baby   \n",
       "1                             Tesher    Jalebi Baby    Jalebi Baby   \n",
       "2                      Reyanna Maria      So Pretty      So Pretty   \n",
       "3  Simone & Simaria, Sebastian Yatra  No Llores Más  No Llores Más   \n",
       "4                             Tesher    Jalebi Baby    Jalebi Baby   \n",
       "\n",
       "           isrc                                linkid  clicks  previews  \n",
       "0  QZNWQ2070741  2d896d31-97b6-4869-967b-1c5fb9cd4bb8  9692.0    5974.0  \n",
       "1  QZNWQ2070741  2d896d31-97b6-4869-967b-1c5fb9cd4bb8  9692.0    5974.0  \n",
       "2  USUM72100871  23199824-9cf5-4b98-942a-34965c3b0cc2  1187.0     718.0  \n",
       "3  BRUM72003904  35573248-4e49-47c7-af80-08a960fa74cd    69.0      30.0  \n",
       "4  QZNWQ2070741  2d896d31-97b6-4869-967b-1c5fb9cd4bb8  9692.0    5974.0  "
      ]
     },
     "execution_count": 67,
     "metadata": {},
     "output_type": "execute_result"
    }
   ],
   "source": [
    "df_q6.head()"
   ]
  },
  {
   "cell_type": "code",
   "execution_count": 68,
   "id": "14023475-7498-4e85-b6c2-168b0bf461c4",
   "metadata": {},
   "outputs": [],
   "source": [
    "# drop nulls since left join allows for clicks but no preview\n",
    "df_q6.dropna(subset=[\"clicks\", \"previews\"], inplace=True)"
   ]
  },
  {
   "cell_type": "markdown",
   "id": "44bca30c-3f6a-467c-9715-611c45f72f4b",
   "metadata": {},
   "source": [
    "Below are two ways to calculate person's correlation coeff"
   ]
  },
  {
   "cell_type": "code",
   "execution_count": 69,
   "id": "c7e022ed-7f68-4d8b-895c-ae8982c927f1",
   "metadata": {},
   "outputs": [
    {
     "name": "stderr",
     "output_type": "stream",
     "text": [
      "/var/folders/ph/hf46cbxx0bj_5t8gb0d0zsv00000gp/T/ipykernel_39199/3335628881.py:1: FutureWarning: The default value of numeric_only in DataFrame.corr is deprecated. In a future version, it will default to False. Select only valid columns or specify the value of numeric_only to silence this warning.\n",
      "  df_q6.corr()\n"
     ]
    },
    {
     "data": {
      "text/html": [
       "<div>\n",
       "<style scoped>\n",
       "    .dataframe tbody tr th:only-of-type {\n",
       "        vertical-align: middle;\n",
       "    }\n",
       "\n",
       "    .dataframe tbody tr th {\n",
       "        vertical-align: top;\n",
       "    }\n",
       "\n",
       "    .dataframe thead th {\n",
       "        text-align: right;\n",
       "    }\n",
       "</style>\n",
       "<table border=\"1\" class=\"dataframe\">\n",
       "  <thead>\n",
       "    <tr style=\"text-align: right;\">\n",
       "      <th></th>\n",
       "      <th>clicks</th>\n",
       "      <th>previews</th>\n",
       "    </tr>\n",
       "  </thead>\n",
       "  <tbody>\n",
       "    <tr>\n",
       "      <th>clicks</th>\n",
       "      <td>1.000000</td>\n",
       "      <td>0.998713</td>\n",
       "    </tr>\n",
       "    <tr>\n",
       "      <th>previews</th>\n",
       "      <td>0.998713</td>\n",
       "      <td>1.000000</td>\n",
       "    </tr>\n",
       "  </tbody>\n",
       "</table>\n",
       "</div>"
      ],
      "text/plain": [
       "            clicks  previews\n",
       "clicks    1.000000  0.998713\n",
       "previews  0.998713  1.000000"
      ]
     },
     "execution_count": 69,
     "metadata": {},
     "output_type": "execute_result"
    }
   ],
   "source": [
    "df_q6.corr()"
   ]
  },
  {
   "cell_type": "code",
   "execution_count": null,
   "id": "f0a3e711-a0ac-47d1-9aab-f1e4419066e8",
   "metadata": {},
   "outputs": [],
   "source": [
    "stats.pearsonr(x=df_q6[\"clicks\"], y=df_q6[\"previews\"])"
   ]
  },
  {
   "cell_type": "markdown",
   "id": "72f0c061-0361-44a8-8783-84af8c4335e4",
   "metadata": {},
   "source": [
    "Observation:\n",
    "1. Almost perfectly positive correlation between the number of clicks and previews which seems logical;  \n",
    "    a. given that the one is actually dependent on the other (can't have clicks without previews and vice versa)."
   ]
  },
  {
   "cell_type": "markdown",
   "id": "c8b45780-0125-4a94-83fe-7c3ecbe1d423",
   "metadata": {},
   "source": [
    "#### quantify the relationship between categorical variables in similar manner as with numerical variables Using pd.factorize()"
   ]
  },
  {
   "cell_type": "code",
   "execution_count": 71,
   "id": "de1b7959-5ce7-44ff-9be8-43950c97a305",
   "metadata": {},
   "outputs": [
    {
     "data": {
      "text/html": [
       "<div>\n",
       "<style scoped>\n",
       "    .dataframe tbody tr th:only-of-type {\n",
       "        vertical-align: middle;\n",
       "    }\n",
       "\n",
       "    .dataframe tbody tr th {\n",
       "        vertical-align: top;\n",
       "    }\n",
       "\n",
       "    .dataframe thead th {\n",
       "        text-align: right;\n",
       "    }\n",
       "</style>\n",
       "<table border=\"1\" class=\"dataframe\">\n",
       "  <thead>\n",
       "    <tr style=\"text-align: right;\">\n",
       "      <th></th>\n",
       "      <th>country</th>\n",
       "      <th>city</th>\n",
       "      <th>artist</th>\n",
       "      <th>album</th>\n",
       "      <th>track</th>\n",
       "    </tr>\n",
       "  </thead>\n",
       "  <tbody>\n",
       "    <tr>\n",
       "      <th>country</th>\n",
       "      <td>1.000000</td>\n",
       "      <td>0.189353</td>\n",
       "      <td>0.018565</td>\n",
       "      <td>0.023316</td>\n",
       "      <td>0.024796</td>\n",
       "    </tr>\n",
       "    <tr>\n",
       "      <th>city</th>\n",
       "      <td>0.189353</td>\n",
       "      <td>1.000000</td>\n",
       "      <td>0.103752</td>\n",
       "      <td>0.108283</td>\n",
       "      <td>0.111936</td>\n",
       "    </tr>\n",
       "    <tr>\n",
       "      <th>artist</th>\n",
       "      <td>0.018565</td>\n",
       "      <td>0.103752</td>\n",
       "      <td>1.000000</td>\n",
       "      <td>0.946371</td>\n",
       "      <td>0.949177</td>\n",
       "    </tr>\n",
       "    <tr>\n",
       "      <th>album</th>\n",
       "      <td>0.023316</td>\n",
       "      <td>0.108283</td>\n",
       "      <td>0.946371</td>\n",
       "      <td>1.000000</td>\n",
       "      <td>0.976958</td>\n",
       "    </tr>\n",
       "    <tr>\n",
       "      <th>track</th>\n",
       "      <td>0.024796</td>\n",
       "      <td>0.111936</td>\n",
       "      <td>0.949177</td>\n",
       "      <td>0.976958</td>\n",
       "      <td>1.000000</td>\n",
       "    </tr>\n",
       "  </tbody>\n",
       "</table>\n",
       "</div>"
      ],
      "text/plain": [
       "          country      city    artist     album     track\n",
       "country  1.000000  0.189353  0.018565  0.023316  0.024796\n",
       "city     0.189353  1.000000  0.103752  0.108283  0.111936\n",
       "artist   0.018565  0.103752  1.000000  0.946371  0.949177\n",
       "album    0.023316  0.108283  0.946371  1.000000  0.976958\n",
       "track    0.024796  0.111936  0.949177  0.976958  1.000000"
      ]
     },
     "execution_count": 71,
     "metadata": {},
     "output_type": "execute_result"
    }
   ],
   "source": [
    "# stackoverflow.com/questions/39390160\n",
    "categorical_columns = [\n",
    "    \"country\",\n",
    "    \"city\",\n",
    "    \"artist\",\n",
    "    \"album\",\n",
    "    \"track\"\n",
    "]\n",
    "factorized_df = df_q6[categorical_columns] \\\n",
    "                     .apply(lambda x: pd.factorize(x)[0]) \\\n",
    "                     .corr()\n",
    "factorized_df"
   ]
  },
  {
   "cell_type": "markdown",
   "id": "d741547c-ca13-478c-80bc-45400be2fe2f",
   "metadata": {},
   "source": [
    "Observations:\n",
    "1. high positive correlation between album, artist, and track\n",
    "2. almost no correlation between other variables.  \n",
    "    a. This is again expected, since those variables are naturally dependent, i.e., each track belongs to an album and is performed by an artist."
   ]
  }
 ],
 "metadata": {
  "kernelspec": {
   "display_name": "Python 3 (ipykernel)",
   "language": "python",
   "name": "python3"
  },
  "language_info": {
   "codemirror_mode": {
    "name": "ipython",
    "version": 3
   },
   "file_extension": ".py",
   "mimetype": "text/x-python",
   "name": "python",
   "nbconvert_exporter": "python",
   "pygments_lexer": "ipython3",
   "version": "3.8.15"
  }
 },
 "nbformat": 4,
 "nbformat_minor": 5
}
